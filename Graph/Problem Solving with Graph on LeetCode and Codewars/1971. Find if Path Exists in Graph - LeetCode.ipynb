{
 "cells": [
  {
   "cell_type": "markdown",
   "id": "47e0f73c",
   "metadata": {},
   "source": [
    "### 1971. Find if Path Exists in Graph"
   ]
  },
  {
   "cell_type": "code",
   "execution_count": 2,
   "id": "33be38cf",
   "metadata": {},
   "outputs": [
    {
     "data": {
      "text/plain": [
       "False"
      ]
     },
     "execution_count": 2,
     "metadata": {},
     "output_type": "execute_result"
    }
   ],
   "source": [
    "\"\"\"\n",
    "There is a bi-directional graph with n vertices, where each vertex is labeled from 0 to n - 1 (inclusive). \n",
    "The edges in the graph are represented as a 2D integer array edges, where each edges[i] = [ui, vi] denotes \n",
    "a bi-directional edge between vertex ui and vertex vi. Every vertex pair is connected by at most one edge, \n",
    "and no vertex has an edge to itself.\n",
    "You want to determine if there is a valid path that exists from vertex source to vertex destination.\n",
    "Given edges and the integers n, source, and destination, return true if there is a valid path from source \n",
    "to destination, or false otherwise.\n",
    "Example 1:\n",
    "Input: n = 3, edges = [[0,1],[1,2],[2,0]], source = 0, destination = 2\n",
    "Output: true\n",
    "Explanation: There are two paths from vertex 0 to vertex 2:\n",
    "- 0 → 1 → 2\n",
    "- 0 → 2\n",
    "Example 2:\n",
    "Input: n = 6, edges = [[0,1],[0,2],[3,5],[5,4],[4,3]], source = 0, destination = 5\n",
    "Output: false\n",
    "Explanation: There is no path from vertex 0 to vertex 5.\n",
    "\"\"\"\n",
    "\n",
    "\n",
    "from collections import deque\n",
    "\n",
    "class Solution:\n",
    "    def validPath(self, n: int, edges: List[List[int]], source: int, destination: int) -> bool:\n",
    "    # Initially we need to check the similarity of 'source' and 'destination'. If these vertices are equal - \n",
    "    # we should return True at once:\n",
    "        if source == destination:\n",
    "            return True\n",
    "    # If 'source' and 'destination' are not equal - we create the suitable graph representation - the adjacency list\n",
    "        graph_dict = {i: [] for i in range(0, n)} # Dictionary comprehension\n",
    "    # Taking into account the fact that we deal with an undirected graph - nodes are included both as keys and \n",
    "    # values within the adjacency list:\n",
    "        for i in edges:\n",
    "            node1, node2 = i[0], i[1]\n",
    "            graph_dict[node1].append(node2)\n",
    "            graph_dict[node2].append(node1)\n",
    "    # The next step is to use the traversal algorithm, which will make it possible to determine the achievability of \n",
    "    # the 'destination' node. For instance, the BFS (Breadth-First Search) can be used for that:\n",
    "        visited = []\n",
    "        queue = deque()\n",
    "        def BFS(graph, source): # The Breadth-First Search algorithm. \n",
    "            visited.append(source)\n",
    "            queue.append(source)\n",
    "            while queue:\n",
    "                curNode = queue.popleft()\n",
    "                for i in graph[curNode]:\n",
    "                    if i == destination: # If one of the traversed nodes is the 'destination' - we return True\n",
    "                        return True\n",
    "                    if i not in visited:\n",
    "                        queue.append(i)\n",
    "                        visited.append(i)\n",
    "            return False # If all vertices are traversed, and the 'destination' node wasn't attained - we return False\n",
    "        result = BFS(graph_dict, source)\n",
    "        return result\n",
    "    \n",
    "a = Solution()\n",
    "a.validPath(6, [[0,1],[0,2],[3,5],[5,4],[4,3]], 0, 5)"
   ]
  }
 ],
 "metadata": {
  "kernelspec": {
   "display_name": "Python 3 (ipykernel)",
   "language": "python",
   "name": "python3"
  },
  "language_info": {
   "codemirror_mode": {
    "name": "ipython",
    "version": 3
   },
   "file_extension": ".py",
   "mimetype": "text/x-python",
   "name": "python",
   "nbconvert_exporter": "python",
   "pygments_lexer": "ipython3",
   "version": "3.9.7"
  }
 },
 "nbformat": 4,
 "nbformat_minor": 5
}
