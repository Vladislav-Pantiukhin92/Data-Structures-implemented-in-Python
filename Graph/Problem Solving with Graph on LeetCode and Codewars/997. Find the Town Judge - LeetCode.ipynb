{
 "cells": [
  {
   "cell_type": "markdown",
   "id": "868ee24f",
   "metadata": {},
   "source": [
    "### 997. Find the Town Judge"
   ]
  },
  {
   "cell_type": "code",
   "execution_count": 55,
   "id": "95b1b1b3",
   "metadata": {},
   "outputs": [
    {
     "data": {
      "text/plain": [
       "3"
      ]
     },
     "execution_count": 55,
     "metadata": {},
     "output_type": "execute_result"
    }
   ],
   "source": [
    "\"\"\"\n",
    "In a town, there are n people labeled from 1 to n. There is a rumor that one of these people is secretly \n",
    "the town judge.\n",
    "If the town judge exists, then:\n",
    "The town judge trusts nobody.\n",
    "Everybody (except for the town judge) trusts the town judge.\n",
    "There is exactly one person that satisfies properties 1 and 2.\n",
    "You are given an array trust where trust[i] = [ai, bi] representing that the person labeled ai trusts the \n",
    "person labeled bi.\n",
    "Return the label of the town judge if the town judge exists and can be identified, or return -1 otherwise.\n",
    "Example 1:\n",
    "Input: n = 2, trust = [[1,2]]\n",
    "Output: 2\n",
    "Example 2:\n",
    "Input: n = 3, trust = [[1,3],[2,3]]\n",
    "Output: 3\n",
    "Example 3:\n",
    "Input: n = 3, trust = [[1,3],[2,3],[3,1]]\n",
    "Output: -1\n",
    "\"\"\"\n",
    "\n",
    "# The problem's solution lies within the graph structure, which will be represented by the adjacency list\n",
    "\n",
    "class Solution:\n",
    "    def findJudge(self, n: int, trust: List[List[int]]) -> int:\n",
    "        if not trust: # If the given input list is empty and the number of people > 1 - the solution doesn't \n",
    "            # exist - so -1 is returned\n",
    "            if n > 1:\n",
    "                return -1\n",
    "            return n # If the given input list is empty, but the number of people equals to 1 - the 'n' parameter is \n",
    "        # the return result\n",
    "        nodes = {i for i in range(1, n + 1)} # Nodes will be removed from the set structure. The final remaining node\n",
    "        # is our potential judge\n",
    "        def adjacency_list(edges): # The function, aimed at creating the major graph representation - the \n",
    "            # adjacency list (each vertex corresponds to the list of adjacent vertices)\n",
    "            graph_dict = {}\n",
    "            for i in edges:\n",
    "                node1, node2 = i[0], i[1]\n",
    "                nodes.discard(node1)\n",
    "                if node1 not in graph_dict:\n",
    "                    graph_dict[node1] = []\n",
    "                # Here we have to deal with a directed graph: the first person trusts the second person within \n",
    "                # an iterable:\n",
    "                graph_dict[node1].append(node2)\n",
    "            return graph_dict\n",
    "        graph = adjacency_list(trust) # The adjacency list is obtained\n",
    "        # The set structure should contain only one node (a potential judge). If the set structure contains nothing or \n",
    "        # contains more than one node - we have no judge solution, and -1 is returned\n",
    "        if not nodes or len(nodes) > 1:\n",
    "            return -1\n",
    "        # If the set structure contains exactly one node - we should verify it.\n",
    "        candidate = list(nodes)[0]\n",
    "        # We should verify the all-encompassing trust of all people in the judge. If, at least, one person \n",
    "        # doesn't trust the judge - we return -1\n",
    "        for i in graph:\n",
    "            if candidate not in graph[i]: # The potential judge should be within all lists. If the candidate \n",
    "                # doesn't exist in one of the lists - we return -1\n",
    "                return -1\n",
    "        return candidate # If the all-encompassing trust is proved - we return the judge node/value\n",
    "    \n",
    "a = Solution()\n",
    "a.findJudge(3, [[1,3],[2,3]])"
   ]
  }
 ],
 "metadata": {
  "kernelspec": {
   "display_name": "Python 3 (ipykernel)",
   "language": "python",
   "name": "python3"
  },
  "language_info": {
   "codemirror_mode": {
    "name": "ipython",
    "version": 3
   },
   "file_extension": ".py",
   "mimetype": "text/x-python",
   "name": "python",
   "nbconvert_exporter": "python",
   "pygments_lexer": "ipython3",
   "version": "3.9.7"
  }
 },
 "nbformat": 4,
 "nbformat_minor": 5
}
