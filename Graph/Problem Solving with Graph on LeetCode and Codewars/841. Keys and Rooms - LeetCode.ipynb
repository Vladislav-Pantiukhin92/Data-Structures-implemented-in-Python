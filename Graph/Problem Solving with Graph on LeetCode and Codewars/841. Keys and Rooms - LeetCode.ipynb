{
 "cells": [
  {
   "cell_type": "markdown",
   "id": "47e0f73c",
   "metadata": {},
   "source": [
    "### 841. Keys and Rooms"
   ]
  },
  {
   "cell_type": "code",
   "execution_count": 3,
   "id": "203a2ced",
   "metadata": {},
   "outputs": [
    {
     "data": {
      "text/plain": [
       "True"
      ]
     },
     "execution_count": 3,
     "metadata": {},
     "output_type": "execute_result"
    }
   ],
   "source": [
    "\"\"\"\n",
    "There are n rooms labeled from 0 to n - 1 and all the rooms are locked except for room 0. Your goal is \n",
    "to visit all the rooms. However, you cannot enter a locked room without having its key.\n",
    "When you visit a room, you may find a set of distinct keys in it. Each key has a number on it, denoting \n",
    "which room it unlocks, and you can take all of them with you to unlock the other rooms.\n",
    "Given an array rooms where rooms[i] is the set of keys that you can obtain if you visited room i, return \n",
    "true if you can visit all the rooms, or false otherwise.\n",
    "\n",
    "Example 1:\n",
    "\n",
    "Input: rooms = [[1],[2],[3],[]]\n",
    "Output: true\n",
    "Explanation: \n",
    "We visit room 0 and pick up key 1.\n",
    "We then visit room 1 and pick up key 2.\n",
    "We then visit room 2 and pick up key 3.\n",
    "We then visit room 3.\n",
    "Since we were able to visit every room, we return true.\n",
    "Example 2:\n",
    "\n",
    "Input: rooms = [[1,3],[3,0,1],[2],[0]]\n",
    "Output: false\n",
    "Explanation: We can not enter room number 2 since the only key that unlocks it is in that room.\n",
    "\"\"\"\n",
    "\n",
    "# The possibility of visiting all rooms can be determined with the help of graph structure and its major \n",
    "# representation - adjacency list\n",
    "from collections import deque # 'collections.deque' will be used to implement the Breadth-First Search (BFS) \n",
    "# algorithm\n",
    "\n",
    "class Solution:\n",
    "    def canVisitAllRooms(self, rooms: List[List[int]]) -> bool:\n",
    "    # First of all, let's create the graph representation - adjacency list\n",
    "        graph_dict = {j: [] for j in range(len(rooms))} # Dictionary comprehension\n",
    "    # The directed graph (rooms -> keys) is going to be created:\n",
    "        for i, j in enumerate(rooms):\n",
    "            for k in j:\n",
    "                graph_dict[i].append(k)\n",
    "    # We need to generate the list of keys from all rooms (including the first one)\n",
    "        all_keys = list(range(len(rooms)))\n",
    "    # Through the Breadth-First Search algorithm we are going to traverse nodes and add keys to our list of keys.\n",
    "    # If, following the BFS-traversal, the original keys list and the obtained list of keys are equal - we return True,\n",
    "    # otherwise - False will be returned:\n",
    "        obtained_keys = []\n",
    "        queue = deque()\n",
    "\n",
    "        def BFS(graph, source): # The function with the BFS-algorithm\n",
    "            obtained_keys.append(source) # Visited nodes == obtained keys from rooms. In other words, the number \n",
    "            # of keys == the number of visited nodes/rooms\n",
    "            queue.append(source)\n",
    "            while queue:\n",
    "                current = queue.popleft()\n",
    "                for i in graph[current]:\n",
    "                    if i not in obtained_keys:\n",
    "                        obtained_keys.append(i)\n",
    "                        queue.append(i)\n",
    "            return sorted(obtained_keys) # For well-balanced comparison all elements from two lists should be in the \n",
    "        # same order\n",
    "\n",
    "        result = BFS(graph_dict, 0)\n",
    "        return result == all_keys # True - if lists are absolutely identical, False - if the lists have differences\n",
    "    \n",
    "a = Solution()\n",
    "a.canVisitAllRooms([[1],[2],[3],[]])"
   ]
  }
 ],
 "metadata": {
  "kernelspec": {
   "display_name": "Python 3 (ipykernel)",
   "language": "python",
   "name": "python3"
  },
  "language_info": {
   "codemirror_mode": {
    "name": "ipython",
    "version": 3
   },
   "file_extension": ".py",
   "mimetype": "text/x-python",
   "name": "python",
   "nbconvert_exporter": "python",
   "pygments_lexer": "ipython3",
   "version": "3.9.7"
  }
 },
 "nbformat": 4,
 "nbformat_minor": 5
}
