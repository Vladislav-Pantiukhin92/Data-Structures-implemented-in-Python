{
 "cells": [
  {
   "cell_type": "markdown",
   "id": "dddc6e97",
   "metadata": {},
   "source": [
    "### 1791. Find Center of Star Graph"
   ]
  },
  {
   "cell_type": "code",
   "execution_count": 43,
   "id": "933d36cb",
   "metadata": {},
   "outputs": [
    {
     "data": {
      "text/plain": [
       "2"
      ]
     },
     "execution_count": 43,
     "metadata": {},
     "output_type": "execute_result"
    }
   ],
   "source": [
    "\"\"\"\n",
    "There is an undirected star graph consisting of n nodes labeled from 1 to n. A star graph is a graph \n",
    "where there is one center node and exactly n - 1 edges that connect the center node with every other node.\n",
    "You are given a 2D integer array edges where each edges[i] = [ui, vi] indicates that there is an edge \n",
    "between the nodes ui and vi. Return the center of the given star graph.\n",
    "Example 1:\n",
    "\n",
    "Input: edges = [[1,2],[2,3],[4,2]]\n",
    "Output: 2\n",
    "Explanation: As shown in the figure above, node 2 is connected to every other node, so 2 is the center.\n",
    "Example 2:\n",
    "\n",
    "Input: edges = [[1,2],[5,1],[1,3],[1,4]]\n",
    "Output: 1\n",
    "\"\"\"\n",
    "\n",
    "# To solve such kind of problem let's create the graph representation - adjacency list, where each node (as a\n",
    "# key dictionary) corresponds to its list of adjacent nodes (the dictionary value)\n",
    "\n",
    "# All in all, we should return the node, which is connected to all other nodes. Our relevant node is the one,\n",
    "# which corresponds to the longest list of adjacent nodes within the adjacency list. In other words, the center \n",
    "# node has the maximum degree (the longest list of adjacent nodes)\n",
    "\n",
    "class Solution:\n",
    "    def findCenter(self, edges: List[List[int]]) -> int:\n",
    "        graph_dict = {}\n",
    "        longest = 0\n",
    "        node = None\n",
    "    # The given input graph is undirected, this is why we add each node both as a key and as a value:\n",
    "        for i in edges:\n",
    "            node1, node2 = i[0], i[1]\n",
    "            if node1 not in graph_dict:\n",
    "                graph_dict[node1] = []\n",
    "            if node2 not in graph_dict:\n",
    "                graph_dict[node2] = []\n",
    "            graph_dict[node1].append(node2)\n",
    "            graph_dict[node2].append(node1)\n",
    "        # When we find the longest list of adjacent nodes - we should return the corresponding key\n",
    "        for j in graph_dict:\n",
    "            if len(graph_dict[j]) > longest:\n",
    "                longest = len(graph_dict[j])\n",
    "                node = j\n",
    "        return node # The center node is returned\n",
    "    \n",
    "a = Solution()\n",
    "a.findCenter([[1,2],[2,3],[4,2]])"
   ]
  }
 ],
 "metadata": {
  "kernelspec": {
   "display_name": "Python 3 (ipykernel)",
   "language": "python",
   "name": "python3"
  },
  "language_info": {
   "codemirror_mode": {
    "name": "ipython",
    "version": 3
   },
   "file_extension": ".py",
   "mimetype": "text/x-python",
   "name": "python",
   "nbconvert_exporter": "python",
   "pygments_lexer": "ipython3",
   "version": "3.9.7"
  }
 },
 "nbformat": 4,
 "nbformat_minor": 5
}
