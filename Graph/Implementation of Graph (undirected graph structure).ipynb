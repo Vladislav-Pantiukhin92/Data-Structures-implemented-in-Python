{
 "cells": [
  {
   "cell_type": "markdown",
   "id": "3b0c5c10",
   "metadata": {},
   "source": [
    "### Graph"
   ]
  },
  {
   "cell_type": "code",
   "execution_count": 10,
   "id": "b59d1d16",
   "metadata": {},
   "outputs": [
    {
     "data": {
      "text/plain": [
       "Graph(nodes=[0, 1, 2, 3, 4, 5, 6, 7, 8, 9, 10], edges=[(4, 2), (2, 10), (10, 6), (6, 0), (0, 4), (2, 5), (10, 5), (5, 3), (3, 6), (3, 0), (5, 8), (8, 0), (8, 1), (8, 3), (7, 1), (1, 3), (9, 3), (7, 9)])"
      ]
     },
     "execution_count": 10,
     "metadata": {},
     "output_type": "execute_result"
    }
   ],
   "source": [
    "# Graph is a data structure, which consists of vertices/nodes and edges (connections between vertices)\n",
    "\n",
    "# It is possible to pick out the following graph representations:\n",
    "\n",
    "# 1. Collection of nodes (the list of nodes) and edges (the list of tuples with connected nodes)\n",
    "# Let's use named tuples from 'collections.namedtuple' to represent the graph structure:\n",
    "\n",
    "from collections import namedtuple # Import from 'collections.namedtuple'\n",
    "\n",
    "nodes = [0, 1, 2, 3, 4, 5, 6, 7, 8, 9, 10] # The list of nodes\n",
    "# The list of tuples with connected nodes (edges):\n",
    "edges = [(4, 2), (2, 10), (10, 6), (6, 0), (0, 4), (2, 5), (10, 5), (5, 3), (3, 6), (3, 0), (5, 8), (8, 0)]\n",
    "edges2 = [(8, 1), (8, 3), (7, 1), (1, 3), (9, 3), (7, 9)]\n",
    "edges.extend(edges2)\n",
    "\n",
    "# Creation of the named tuple structure:\n",
    "graph = namedtuple(\"Graph\", [\"nodes\", \"edges\"])\n",
    "G = graph(nodes, edges)\n",
    "G # Graph with nodes and edges"
   ]
  },
  {
   "cell_type": "code",
   "execution_count": 11,
   "id": "3552d072",
   "metadata": {},
   "outputs": [
    {
     "data": {
      "text/plain": [
       "[0, 1, 2, 3, 4, 5, 6, 7, 8, 9, 10]"
      ]
     },
     "execution_count": 11,
     "metadata": {},
     "output_type": "execute_result"
    }
   ],
   "source": [
    "G.nodes # Graph nodes"
   ]
  },
  {
   "cell_type": "code",
   "execution_count": 12,
   "id": "caa53c3f",
   "metadata": {},
   "outputs": [
    {
     "data": {
      "text/plain": [
       "[(4, 2),\n",
       " (2, 10),\n",
       " (10, 6),\n",
       " (6, 0),\n",
       " (0, 4),\n",
       " (2, 5),\n",
       " (10, 5),\n",
       " (5, 3),\n",
       " (3, 6),\n",
       " (3, 0),\n",
       " (5, 8),\n",
       " (8, 0),\n",
       " (8, 1),\n",
       " (8, 3),\n",
       " (7, 1),\n",
       " (1, 3),\n",
       " (9, 3),\n",
       " (7, 9)]"
      ]
     },
     "execution_count": 12,
     "metadata": {},
     "output_type": "execute_result"
    }
   ],
   "source": [
    "G.edges # Graph edges"
   ]
  },
  {
   "cell_type": "code",
   "execution_count": 29,
   "id": "5cebecad",
   "metadata": {},
   "outputs": [
    {
     "name": "stdout",
     "output_type": "stream",
     "text": [
      "The adjacency list:\n"
     ]
    },
    {
     "data": {
      "text/plain": [
       "{0: [6, 4, 3, 8],\n",
       " 1: [8, 7, 3],\n",
       " 2: [4, 10, 5],\n",
       " 3: [5, 6, 0, 8, 1, 9],\n",
       " 4: [2, 0],\n",
       " 5: [2, 10, 3, 8],\n",
       " 6: [10, 0, 3],\n",
       " 7: [1, 9],\n",
       " 8: [5, 0, 1, 3],\n",
       " 9: [3, 7],\n",
       " 10: [2, 6, 5]}"
      ]
     },
     "execution_count": 29,
     "metadata": {},
     "output_type": "execute_result"
    }
   ],
   "source": [
    "# 2. Adjacency List - the structure, represented as a dictionary, where each node is a dictionary key, which \n",
    "# corresponds to the list of adjacent nodes \n",
    "\n",
    "def adjacency_list(graph): # The function, aimed at creating the adjacency list\n",
    "    graph_dict = {node:[] for node in graph.nodes} # Dictionary comprehension\n",
    "    for i in graph.edges:\n",
    "        node1, node2 = i[0], i[1]\n",
    "        # As we have an undirected graph, each node is represented both as a dictionary key and as an \n",
    "        # element of the list with adjacent nodes:\n",
    "        graph_dict[node1].append(node2)\n",
    "        graph_dict[node2].append(node1)\n",
    "    return graph_dict\n",
    "\n",
    "print(\"The adjacency list:\")\n",
    "adjacency_list(G)"
   ]
  },
  {
   "cell_type": "code",
   "execution_count": 27,
   "id": "68b3fd1a",
   "metadata": {},
   "outputs": [
    {
     "name": "stdout",
     "output_type": "stream",
     "text": [
      "        The adjacency matrix:\n"
     ]
    },
    {
     "data": {
      "text/plain": [
       "[[0, 0, 0, 1, 1, 0, 1, 0, 1, 0, 0],\n",
       " [0, 0, 0, 1, 0, 0, 0, 1, 1, 0, 0],\n",
       " [0, 0, 0, 0, 1, 1, 0, 0, 0, 0, 1],\n",
       " [1, 1, 0, 0, 0, 1, 1, 0, 1, 1, 0],\n",
       " [1, 0, 1, 0, 0, 0, 0, 0, 0, 0, 0],\n",
       " [0, 0, 1, 1, 0, 0, 0, 0, 1, 0, 1],\n",
       " [1, 0, 0, 1, 0, 0, 0, 0, 0, 0, 1],\n",
       " [0, 1, 0, 0, 0, 0, 0, 0, 0, 1, 0],\n",
       " [1, 1, 0, 1, 0, 1, 0, 0, 0, 0, 0],\n",
       " [0, 0, 0, 1, 0, 0, 0, 1, 0, 0, 0],\n",
       " [0, 0, 1, 0, 0, 1, 1, 0, 0, 0, 0]]"
      ]
     },
     "execution_count": 27,
     "metadata": {},
     "output_type": "execute_result"
    }
   ],
   "source": [
    "# 3. Adjacency matrix - the structure (2-D array with rows and columns) with the specific proportion m x m, \n",
    "# where 'm' is the number of nodes in the graph. The adjacency matrix structure is effective if nodes \n",
    "# are represented by numeric values\n",
    "\n",
    "def adjacency_matrix(graph): # The function, aimed at creating the adjacency matrix\n",
    "# Initially, we create the matrix, which is initially filled with zeros:\n",
    "    matrix = [[0 for i in graph.nodes] for i in graph.nodes]\n",
    "# The value at the intersection of two nodes (intersection of the specific row and the specific column)\n",
    "# indicates the existence or non-existence of a path between these nodes.\n",
    "# In this example, if two nodes are connected, the intersection value is 1. If two nodes are not adjacent to \n",
    "# each other, the intersection value is 0\n",
    "    for i in graph.edges:\n",
    "        node1, node2 = i[0], i[1]\n",
    "    # Again, as we have an undirected graph - we increase matrix cells' values by 1 in both directions:\n",
    "        matrix[node1][node2] += 1\n",
    "        matrix[node2][node1] += 1\n",
    "    return matrix\n",
    "print(\"        The adjacency matrix:\")\n",
    "adjacency_matrix(G)"
   ]
  },
  {
   "cell_type": "code",
   "execution_count": 41,
   "id": "462aeb29",
   "metadata": {},
   "outputs": [
    {
     "data": {
      "text/plain": [
       "{0: {3, 4, 6, 8},\n",
       " 6: {0, 3, 10},\n",
       " 2: {4, 5, 10},\n",
       " 10: {2, 5, 6},\n",
       " 1: {3, 7, 8},\n",
       " 7: {1, 9},\n",
       " 3: {0, 1, 5, 6, 8, 9},\n",
       " 9: {3, 7},\n",
       " 5: {2, 3, 8, 10},\n",
       " 4: {0, 2},\n",
       " 8: {0, 1, 3, 5}}"
      ]
     },
     "execution_count": 41,
     "metadata": {},
     "output_type": "execute_result"
    }
   ],
   "source": [
    "# GRAPH CLASS IMPLEMENTATION:\n",
    "\n",
    "class Graph:\n",
    "    def __init__(self, V, E): # Nodes/vertices + edges\n",
    "        self.graph_dict = {}\n",
    "        self.E = set(frozenset((i,j)) for i, j in E)\n",
    "        for i, j in self.E:\n",
    "            self.add_edge(i, j)\n",
    "        \n",
    "    def add_vertex(self, v): # The method, aimed at adding a vertex to the graph\n",
    "        if v not in self.graph_dict:\n",
    "            self.graph_dict[v] = set()\n",
    "        \n",
    "    def add_edge(self, v, u): # The method, aimed at adding an edge to the graph\n",
    "        self.add_vertex(v)\n",
    "        self.add_vertex(u)\n",
    "        self.graph_dict[v].add(u)\n",
    "        self.graph_dict[u].add(v)\n",
    "        \n",
    "    def degree(self, v): # Calculation of the node's degree (number of edges that are incident to the vertex)\n",
    "        return len(self.graph_dict[v]) # Length of the corresponding value is returned\n",
    "    \n",
    "    def number_of_nodes(self): # The total number of nodes\n",
    "        return len(self.graph_dict) # Length of the graph_dictionary is returned\n",
    "\n",
    "a = Graph(G.nodes, G.edges)\n",
    "a.graph_dict"
   ]
  }
 ],
 "metadata": {
  "kernelspec": {
   "display_name": "Python 3 (ipykernel)",
   "language": "python",
   "name": "python3"
  },
  "language_info": {
   "codemirror_mode": {
    "name": "ipython",
    "version": 3
   },
   "file_extension": ".py",
   "mimetype": "text/x-python",
   "name": "python",
   "nbconvert_exporter": "python",
   "pygments_lexer": "ipython3",
   "version": "3.9.7"
  }
 },
 "nbformat": 4,
 "nbformat_minor": 5
}
