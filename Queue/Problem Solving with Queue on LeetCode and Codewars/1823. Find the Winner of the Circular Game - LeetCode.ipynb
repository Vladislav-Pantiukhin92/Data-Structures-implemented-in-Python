{
 "cells": [
  {
   "cell_type": "markdown",
   "id": "2b6ea5fe",
   "metadata": {},
   "source": [
    "### 1823. Find the Winner of the Circular Game"
   ]
  },
  {
   "cell_type": "code",
   "execution_count": 1,
   "id": "ba87701f",
   "metadata": {},
   "outputs": [
    {
     "data": {
      "text/plain": [
       "1"
      ]
     },
     "execution_count": 1,
     "metadata": {},
     "output_type": "execute_result"
    }
   ],
   "source": [
    "\"\"\"\n",
    "There are n friends that are playing a game. The friends are sitting in a circle and are numbered from 1 to n in clockwise order. More formally, moving clockwise from the ith friend brings you to the (i+1)th friend for 1 <= i < n, and moving clockwise from the nth friend brings you to the 1st friend.\n",
    "The rules of the game are as follows:\n",
    "Start at the 1st friend.\n",
    "Count the next k friends in the clockwise direction including the friend you started at. The counting wraps around the circle and may count some friends more than once.\n",
    "The last friend you counted leaves the circle and loses the game.\n",
    "If there is still more than one friend in the circle, go back to step 2 starting from the friend immediately clockwise of the friend who just lost and repeat.\n",
    "Else, the last friend in the circle wins the game.\n",
    "Given the number of friends, n, and an integer k, return the winner of the game.\n",
    "Example 1:\n",
    "Input: n = 5, k = 2\n",
    "Output: 3\n",
    "Explanation: Here are the steps of the game:\n",
    "1) Start at friend 1.\n",
    "2) Count 2 friends clockwise, which are friends 1 and 2.\n",
    "3) Friend 2 leaves the circle. Next start is friend 3.\n",
    "4) Count 2 friends clockwise, which are friends 3 and 4.\n",
    "5) Friend 4 leaves the circle. Next start is friend 5.\n",
    "6) Count 2 friends clockwise, which are friends 5 and 1.\n",
    "7) Friend 1 leaves the circle. Next start is friend 3.\n",
    "8) Count 2 friends clockwise, which are friends 3 and 5.\n",
    "9) Friend 5 leaves the circle. Only friend 3 is left, so they are the winner.\n",
    "Example 2:\n",
    "\n",
    "Input: n = 6, k = 5\n",
    "Output: 1\n",
    "Explanation: The friends leave in this order: 5, 4, 6, 2, 3. The winner is friend 1.\n",
    "\"\"\"\n",
    "\n",
    "from collections import deque # Implementation of a double-ended queue through 'collections.deque'\n",
    "\n",
    "\n",
    "class Solution:\n",
    "    def findTheWinner(self, n: int, k: int) -> int:\n",
    "        myQueue = deque(list(range(1, n + 1))) # The range of numbers (list of numbers) is represented as a queue\n",
    "        # In conclusion, the queue structure should contain only one element - the game winner; until then the\n",
    "        # 'while loop' is going to work\n",
    "        while len(myQueue) > 1:\n",
    "            for _ in range(k - 1):\n",
    "                curElement = myQueue.popleft() # The major principle of the circular process - is to take an element \n",
    "                # at the beginning of the queue and append it to the end of the queue\n",
    "                # The element is removed if the 'for loop (k)' stops at it\n",
    "                myQueue.append(curElement)\n",
    "            myQueue.popleft()\n",
    "        return myQueue[0] # Finally, we have the queue, containing only one element, let's return it through index 0\n",
    "    \n",
    "a = Solution()\n",
    "a.findTheWinner(6, 5)"
   ]
  }
 ],
 "metadata": {
  "kernelspec": {
   "display_name": "Python 3 (ipykernel)",
   "language": "python",
   "name": "python3"
  },
  "language_info": {
   "codemirror_mode": {
    "name": "ipython",
    "version": 3
   },
   "file_extension": ".py",
   "mimetype": "text/x-python",
   "name": "python",
   "nbconvert_exporter": "python",
   "pygments_lexer": "ipython3",
   "version": "3.9.7"
  }
 },
 "nbformat": 4,
 "nbformat_minor": 5
}
