{
 "cells": [
  {
   "cell_type": "markdown",
   "id": "f99fd418",
   "metadata": {},
   "source": [
    "### Duck Duck Goose - 8 kyu, Codewars"
   ]
  },
  {
   "cell_type": "code",
   "execution_count": null,
   "id": "7a53486f",
   "metadata": {},
   "outputs": [],
   "source": [
    "\"\"\"\n",
    "The objective of Duck, duck, goose is to walk in a circle, tapping on each player's head until one is chosen.\n",
    "Task: Given an array of Player objects (an array of associative arrays in PHP) and an index (1-based), \n",
    "return the name of the chosen Player(name is a property of Player objects, e.g Player.name)\n",
    "\n",
    "Example:\n",
    "\n",
    "duck_duck_goose([a, b, c, d], 1) should return a.name\n",
    "duck_duck_goose([a, b, c, d], 5) should return a.name\n",
    "duck_duck_goose([a, b, c, d], 4) should return d.name\n",
    "// PHP only\n",
    "duck_duck_goose([$a, $b, $c, $d], 1); // => $a[\"name\"]\n",
    "duck_duck_goose([$a, $b, $c, $d], 5); // => $a[\"name\"]\n",
    "duck_duck_goose([$a, $b, $c, $d], 4); // => $d[\"name\"]\n",
    "\"\"\"\n",
    "\n",
    "from collections import deque # We are going to import a double-ended queue to simulate the rotation process\n",
    "\n",
    "def duck_duck_goose(players, goose):\n",
    "    players = deque(players) # A double-ended queue is initialized\n",
    "    for _ in range(goose - 1):\n",
    "    # The rotation simulation is to pop the first element and append it to the rear of the input list\n",
    "        curPlayer = players.popleft()\n",
    "        players.append(curPlayer)\n",
    "    return list(players)[0].name # Finally, the first element (index - [0]) is returned"
   ]
  }
 ],
 "metadata": {
  "kernelspec": {
   "display_name": "Python 3 (ipykernel)",
   "language": "python",
   "name": "python3"
  },
  "language_info": {
   "codemirror_mode": {
    "name": "ipython",
    "version": 3
   },
   "file_extension": ".py",
   "mimetype": "text/x-python",
   "name": "python",
   "nbconvert_exporter": "python",
   "pygments_lexer": "ipython3",
   "version": "3.9.7"
  }
 },
 "nbformat": 4,
 "nbformat_minor": 5
}
