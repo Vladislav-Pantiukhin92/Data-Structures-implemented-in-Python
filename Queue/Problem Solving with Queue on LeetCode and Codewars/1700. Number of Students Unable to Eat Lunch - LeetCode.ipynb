{
 "cells": [
  {
   "cell_type": "markdown",
   "id": "9300e043",
   "metadata": {},
   "source": [
    "### 1700. Number of Students Unable to Eat Lunch"
   ]
  },
  {
   "cell_type": "code",
   "execution_count": 78,
   "id": "d4540230",
   "metadata": {},
   "outputs": [
    {
     "data": {
      "text/plain": [
       "3"
      ]
     },
     "execution_count": 78,
     "metadata": {},
     "output_type": "execute_result"
    }
   ],
   "source": [
    "\"\"\"\n",
    "The school cafeteria offers circular and square sandwiches at lunch break, referred to by numbers 0 and 1 \n",
    "respectively. All students stand in a queue. Each student either prefers square or circular sandwiches.\n",
    "The number of sandwiches in the cafeteria is equal to the number of students. The sandwiches are placed \n",
    "in a stack. At each step:\n",
    "If the student at the front of the queue prefers the sandwich on the top of the stack, they will take \n",
    "it and leave the queue.\n",
    "Otherwise, they will leave it and go to the queue's end.\n",
    "This continues until none of the queue students want to take the top sandwich and are thus unable to eat.\n",
    "You are given two integer arrays students and sandwiches where sandwiches[i] is the type of the \n",
    "i-th sandwich in the stack (i = 0 is the top of the stack) and students[j] is the preference of the \n",
    "j-th student in the initial queue (j = 0 is the front of the queue). Return the number of students that \n",
    "are unable to eat.\n",
    "Example 1:\n",
    "\n",
    "Input: students = [1,1,0,0], sandwiches = [0,1,0,1]\n",
    "Output: 0 \n",
    "Explanation:\n",
    "- Front student leaves the top sandwich and returns to the end of the line making students = [1,0,0,1].\n",
    "- Front student leaves the top sandwich and returns to the end of the line making students = [0,0,1,1].\n",
    "- Front student takes the top sandwich and leaves the line making students = [0,1,1] and sandwiches = [1,0,1].\n",
    "- Front student leaves the top sandwich and returns to the end of the line making students = [1,1,0].\n",
    "- Front student takes the top sandwich and leaves the line making students = [1,0] and sandwiches = [0,1].\n",
    "- Front student leaves the top sandwich and returns to the end of the line making students = [0,1].\n",
    "- Front student takes the top sandwich and leaves the line making students = [1] and sandwiches = [1].\n",
    "- Front student takes the top sandwich and leaves the line making students = [] and sandwiches = [].\n",
    "Hence all students are able to eat.\n",
    "Example 2:\n",
    "\n",
    "Input: students = [1,1,1,0,0,1], sandwiches = [1,0,0,0,1,1]\n",
    "Output: 3\n",
    "\"\"\"\n",
    "\n",
    "class Solution:\n",
    "    def countStudents(self, students: List[int], sandwiches: List[int]) -> int:\n",
    "        while sandwiches: # While the sandwich list contains elements we will pop an element and compare it with \n",
    "        # elements from the students list through the 'for loop'\n",
    "            eaten = False\n",
    "            curItem = sandwiches.pop(0)\n",
    "            for _ in range(len(students)):\n",
    "                curStudent = students.pop(0) # The students list will be represented as a double-ended queue - \n",
    "                # we pop the first element of the list and (if a student is unable to eat a sandwich) we append\n",
    "                # it to the rear of the list\n",
    "                if curStudent == curItem:\n",
    "                    eaten = True\n",
    "                    break\n",
    "                else:\n",
    "                    students.append(curStudent)\n",
    "            if not eaten: # If the entire list of students was rotated, but nobody ate a sandwich, then, it is \n",
    "                # time to return the number of students, who were unable to eat\n",
    "                return len(students)\n",
    "        return 0 # If all sandwiches were eaten (that is, the sandwich list is empty), we should return 0\n",
    "    \n",
    "a = Solution()\n",
    "a.countStudents([1,1,1,0,0,1], [1,0,0,0,1,1])"
   ]
  }
 ],
 "metadata": {
  "kernelspec": {
   "display_name": "Python 3 (ipykernel)",
   "language": "python",
   "name": "python3"
  },
  "language_info": {
   "codemirror_mode": {
    "name": "ipython",
    "version": 3
   },
   "file_extension": ".py",
   "mimetype": "text/x-python",
   "name": "python",
   "nbconvert_exporter": "python",
   "pygments_lexer": "ipython3",
   "version": "3.9.7"
  }
 },
 "nbformat": 4,
 "nbformat_minor": 5
}
