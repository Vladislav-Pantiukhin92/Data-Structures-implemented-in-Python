{
 "cells": [
  {
   "cell_type": "markdown",
   "id": "895226b2",
   "metadata": {},
   "source": [
    "### Rotate Array - 6 kyu, Codewars/Python"
   ]
  },
  {
   "cell_type": "code",
   "execution_count": 26,
   "id": "73dafc1e",
   "metadata": {},
   "outputs": [
    {
     "data": {
      "text/plain": [
       "[3, 4, 5, 1, 2]"
      ]
     },
     "execution_count": 26,
     "metadata": {},
     "output_type": "execute_result"
    }
   ],
   "source": [
    "\"\"\"\n",
    "Create a method named \"rotate\" that returns a given array with the elements inside the array rotated n spaces.\n",
    "If n is greater than 0 it should rotate the array to the right. If n is less than 0 it should rotate the \n",
    "array to the left. If n is 0, then it should return the array unchanged.\n",
    "Example:\n",
    "with array [1, 2, 3, 4, 5]\n",
    "\n",
    "n = 1      =>    [5, 1, 2, 3, 4]\n",
    "n = 2      =>    [4, 5, 1, 2, 3]\n",
    "n = 3      =>    [3, 4, 5, 1, 2]\n",
    "n = 4      =>    [2, 3, 4, 5, 1]\n",
    "n = 5      =>    [1, 2, 3, 4, 5]\n",
    "n = 0      =>    [1, 2, 3, 4, 5]\n",
    "n = -1     =>    [2, 3, 4, 5, 1]\n",
    "n = -2     =>    [3, 4, 5, 1, 2]\n",
    "n = -3     =>    [4, 5, 1, 2, 3]\n",
    "n = -4     =>    [5, 1, 2, 3, 4]\n",
    "n = -5     =>    [1, 2, 3, 4, 5]\n",
    "The rotation shouldn't be limited by the indices available in the array. Meaning that if we exceed the \n",
    "indices of the array it keeps rotating.\n",
    "Example:\n",
    "with array [1, 2, 3, 4, 5]\n",
    "\n",
    "n = 7        =>    [4, 5, 1, 2, 3]\n",
    "n = 11       =>    [5, 1, 2, 3, 4]\n",
    "n = 12478    =>    [3, 4, 5, 1, 2]\n",
    "\"\"\"\n",
    "\n",
    "from collections import deque # Let's import a double ended queue to rotate the input array (from left to \n",
    "# right or from right to left)\n",
    "\n",
    "def rotate(data, n):\n",
    "    if not data: # The case with an empty list\n",
    "        return []\n",
    "    elif n == 0: # If 'n' equals to 0, there are no rotations, so we return the original array\n",
    "        return data\n",
    "    else:\n",
    "        # Otherwise, we transform the input array into a double-ended queue\n",
    "        data = deque(data)\n",
    "        if n > 0: # Rotation to the right\n",
    "            for _ in range(n):\n",
    "                # Such kind of rotation envisages extraction of the last element, which is appended to the \n",
    "                # front of the list\n",
    "                curElement = data.pop()\n",
    "                data.appendleft(curElement)\n",
    "            return list(data)\n",
    "        else: # Rotation to the left\n",
    "            for _ in range(abs(n)):\n",
    "                # Such kind of rotation envisages extraction of the first element, which is appended to the \n",
    "                # rear of the list\n",
    "                curElement = data.popleft()\n",
    "                data.append(curElement)\n",
    "            return list(data)\n",
    "        \n",
    "rotate([1, 2, 3, 4, 5], 12478)"
   ]
  }
 ],
 "metadata": {
  "kernelspec": {
   "display_name": "Python 3 (ipykernel)",
   "language": "python",
   "name": "python3"
  },
  "language_info": {
   "codemirror_mode": {
    "name": "ipython",
    "version": 3
   },
   "file_extension": ".py",
   "mimetype": "text/x-python",
   "name": "python",
   "nbconvert_exporter": "python",
   "pygments_lexer": "ipython3",
   "version": "3.9.7"
  }
 },
 "nbformat": 4,
 "nbformat_minor": 5
}
