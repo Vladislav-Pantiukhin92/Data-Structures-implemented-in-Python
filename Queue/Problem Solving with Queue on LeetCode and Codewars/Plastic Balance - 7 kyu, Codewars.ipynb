{
 "cells": [
  {
   "cell_type": "markdown",
   "id": "aedb7c73",
   "metadata": {},
   "source": [
    "### Plastic Balance - 7 kyu, Codewars/Python"
   ]
  },
  {
   "cell_type": "code",
   "execution_count": 7,
   "id": "9abdcaf6",
   "metadata": {},
   "outputs": [
    {
     "data": {
      "text/plain": [
       "[104, 3, 101, 0]"
      ]
     },
     "execution_count": 7,
     "metadata": {},
     "output_type": "execute_result"
    }
   ],
   "source": [
    "\"\"\"\n",
    "You will get a list with several scattered numbers\n",
    "You must check that the sum of the two values on both sides equals the sum of the rest of the list elements\n",
    "And if not, delete the two elements on the sides and check repeatedly,\n",
    "until you reach the condition checklist:\n",
    "The sum of the list without the sides = the sum of the sides\n",
    "If it never equals return an empty list []\n",
    "note: list length can be up to 500 items\n",
    "Example:\n",
    "Ex1:\n",
    "[1,2,3,4,5] ==> 1+5 != 2+3+4 ==> [2,3,4] ==> 2+4 != 3 == [3] ==> 3+3 != 0 ==> []\n",
    "note: (3+3) because 3 is first side and last side... (!= 0) because sum of list without sides = 0\n",
    "Ex2:\n",
    "\n",
    "[0,104,3,101,0,111] ==> 0+111 != 104+3+101+0 ==> [104,3,101,0] ==> 104+0 = 3+101 ==> [104,3,101,0]\n",
    "Ex3:\n",
    "[1,-1] ==> 1-1 = 0 ==> [1,-1]\n",
    "note: (1-1) because 1 is first side and -1 is last side... (= 0) because sum of list without sides (1, -1) = 0\n",
    "\"\"\"\n",
    "\n",
    "from collections import deque # To solve such kind of problem a double-ended queue will be used\n",
    "from operator import * # 'operator.add' replicates the internal Python summation process\n",
    "\n",
    "def plastic_balance(lst):\n",
    "    if len(lst) == 1: # If the given input list contains only one element - we return just the original list\n",
    "        return lst\n",
    "    lst = deque(lst) # A double-ended queue is initialized\n",
    "    # The 'while loop' envisages extraction of the first and the last elements from the list as well as the \n",
    "    # subsequent comparison of the extracted pair and the remaining elements:\n",
    "    while len(lst) > 1:\n",
    "        leftElem = lst.popleft() # Extraction of the first element\n",
    "        rightElem = lst.pop() # Extraction of the last element\n",
    "        if sum(lst) == add(leftElem, rightElem): # Comparison. If two part are equal - we append elements \n",
    "        # back to the front and the rear of the given input list and return the list\n",
    "            lst.append(rightElem)\n",
    "            lst.appendleft(leftElem)\n",
    "            return list(lst)\n",
    "    return [] # If equal parts weren't found at all - we return an empty list\n",
    "plastic_balance([0,104,3,101,0,111])"
   ]
  }
 ],
 "metadata": {
  "kernelspec": {
   "display_name": "Python 3 (ipykernel)",
   "language": "python",
   "name": "python3"
  },
  "language_info": {
   "codemirror_mode": {
    "name": "ipython",
    "version": 3
   },
   "file_extension": ".py",
   "mimetype": "text/x-python",
   "name": "python",
   "nbconvert_exporter": "python",
   "pygments_lexer": "ipython3",
   "version": "3.9.7"
  }
 },
 "nbformat": 4,
 "nbformat_minor": 5
}
