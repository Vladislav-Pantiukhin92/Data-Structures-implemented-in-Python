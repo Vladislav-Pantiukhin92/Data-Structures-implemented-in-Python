{
 "cells": [
  {
   "cell_type": "markdown",
   "id": "7fb6b09d",
   "metadata": {},
   "source": [
    "### Queue time counter - 7 kyu, Codewars"
   ]
  },
  {
   "cell_type": "code",
   "execution_count": 76,
   "id": "5565296b",
   "metadata": {},
   "outputs": [
    {
     "data": {
      "text/plain": [
       "18"
      ]
     },
     "execution_count": 76,
     "metadata": {},
     "output_type": "execute_result"
    }
   ],
   "source": [
    "\"\"\"\n",
    "You managed to send your friend to queue for tickets in your stead, but there is a catch: he will get \n",
    "there only if you tell him how much that is going to take. And everybody can only take one ticket at a \n",
    "time, then they go back in the last position of the queue if they need more (or go home if they are fine).\n",
    "Each ticket takes one minutes to emit, the queue is well disciplined, Brit-style, and so it moves \n",
    "smoothly, with no waste of time.\n",
    "You will be given an array/list/vector with all the people queuing and the initial position of your \n",
    "buddy, so for example, knowing that your friend is in the third position (that we will consider equal \n",
    "to the index, 2 (3 in COBOL): he is the guy that wants 3 tickets!) and the initial queue is [2, 5, 3, 4, 6].\n",
    "The first dude gets his ticket and the queue goes now like this [5, 3, 4, 6, 1], then [3, 4, 6, 1, 4] \n",
    "and so on. In the end, our buddy will be queuing for 12 minutes, true story!\n",
    "Build a function to compute it, resting assured that only positive integers are going to be there and \n",
    "you will be always given a valid index; but we also want to go to pretty popular events, so be ready for \n",
    "big queues with people getting plenty of tickets.\n",
    "\"\"\"\n",
    "\n",
    "def queue(queuers,pos):\n",
    "    minutes = 0 # The initial amount of minutes is 0\n",
    "    length = len(queuers) # The length of the queue\n",
    "    while True:\n",
    "    # We are going to utilize a double-ended queue\n",
    "    # The double-ended queue (to pop the first element and append it to the rear of the list) simulates the \n",
    "    # queue rotation\n",
    "        for i in range(length):\n",
    "            curIndex = i\n",
    "            curElement = queuers.pop(0)\n",
    "            if curElement == 0: # If the element is already zero we just pass it\n",
    "                queuers.append(curElement)\n",
    "                pass\n",
    "            else:\n",
    "                curElement -= 1\n",
    "                minutes += 1\n",
    "                if curIndex == pos and curElement == 0: # When the index == the input position and the \n",
    "                    # element itself equals to 0, it is high time to return the accumulated number of minutes\n",
    "                    return minutes\n",
    "                else:\n",
    "                    queuers.append(curElement)\n",
    "                    \n",
    "queue([2, 5, 3, 6, 4], 1)"
   ]
  }
 ],
 "metadata": {
  "kernelspec": {
   "display_name": "Python 3 (ipykernel)",
   "language": "python",
   "name": "python3"
  },
  "language_info": {
   "codemirror_mode": {
    "name": "ipython",
    "version": 3
   },
   "file_extension": ".py",
   "mimetype": "text/x-python",
   "name": "python",
   "nbconvert_exporter": "python",
   "pygments_lexer": "ipython3",
   "version": "3.9.7"
  }
 },
 "nbformat": 4,
 "nbformat_minor": 5
}
