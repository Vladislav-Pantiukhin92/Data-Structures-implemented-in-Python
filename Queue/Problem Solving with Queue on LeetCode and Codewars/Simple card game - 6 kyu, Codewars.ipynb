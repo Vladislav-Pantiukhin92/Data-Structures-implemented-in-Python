{
 "cells": [
  {
   "cell_type": "markdown",
   "id": "d636ab4c",
   "metadata": {},
   "source": [
    "### Simple card game - 6 kyu, Codewars/Python"
   ]
  },
  {
   "cell_type": "code",
   "execution_count": 1,
   "id": "50659159",
   "metadata": {},
   "outputs": [
    {
     "data": {
      "text/plain": [
       "'Steve wins 2 to 1'"
      ]
     },
     "execution_count": 1,
     "metadata": {},
     "output_type": "execute_result"
    }
   ],
   "source": [
    "\"\"\"\n",
    "Steve and Josh are bored and want to play something. They don't want to think too much, so they come up \n",
    "with a really simple game. Write a function called winner and figure out who is going to win.\n",
    "They are dealt the same number of cards. They both flip the card on the top of their deck. Whoever has \n",
    "a card with higher value wins the round and gets one point (if the cards are of the same value, neither \n",
    "of them gets a point). After this, the two cards are discarded and they flip another card from the top \n",
    "of their deck. They do this until they have no cards left.\n",
    "deckSteve and deckJosh are arrays representing their decks. They are filled with cards, represented by \n",
    "a single character. The card rank is as follows (from lowest to highest):\n",
    "\n",
    "'2','3','4','5','6','7','8','9','T','J','Q','K','A'\n",
    "Every card may appear in the deck more than once. Figure out who is going to win and return who wins and with what score:\n",
    "\n",
    "\"Steve wins x to y\" if Steve wins; where x is Steve's score, y is Josh's score;\n",
    "\"Josh wins x to y\" if Josh wins; where x is Josh's score, y is Steve's score;\n",
    "\"Tie\" if the score is tied at the end of the game.\n",
    "Example\n",
    "Steve is dealt: ['A','7','8']\n",
    "Josh is dealt: ['K','5','9']\n",
    "In the first round, ace beats king and Steve gets one point.\n",
    "In the second round, 7 beats 5 and Steve gets his second point.\n",
    "In the third round, 9 beats 8 and Josh gets one point.\n",
    "So you should return: \"Steve wins 2 to 1\"\n",
    "\"\"\"\n",
    "\n",
    "from collections import deque # 'collections.deque' will be used as a double-ended queue (to pop the front elements)\n",
    "\n",
    "def winner(deck_steve, deck_josh):\n",
    "    steve = 0 # The initial score of Steve is 0\n",
    "    josh = 0 # The initial score of Josh is 0\n",
    "    # Let's define the card ranks in advance:\n",
    "    rank_list = [\"2\",\"3\",\"4\",\"5\",\"6\",\"7\",\"8\",\"9\",\"T\",\"J\",\"Q\",\"K\",\"A\"]\n",
    "    rank_dict = {} # It is the dictionary, which will store card ranks and their corresponding value\n",
    "    for i, j in enumerate(rank_list, 1): # The corresponding value can be produced by the 'enumerate' function\n",
    "        rank_dict[j] = i\n",
    "    deck_steve = deque(deck_steve) # Cards of Steve, represented as a deque structure\n",
    "    deck_josh = deque(deck_josh) # Cards of Josh, represented as a deque structure\n",
    "    while deck_steve:\n",
    "        curElem1 = deck_steve.popleft() # The first element is popped (cards of Steve)\n",
    "        curElem2 = deck_josh.popleft() # The first element is popped (cards of Josh)\n",
    "    # The next step is to compare their cards' values:\n",
    "        if rank_dict[curElem1] > rank_dict[curElem2]:\n",
    "            steve += 1 # Steve receives one point, if he wins the current comparison of cards\n",
    "        elif rank_dict[curElem1] < rank_dict[curElem2]:\n",
    "            josh += 1 # Josh receives one point, if he wins the current comparison of cards\n",
    "    if steve > josh: # The case, when Steve finally wins!\n",
    "        return f\"Steve wins {steve} to {josh}\"\n",
    "    elif steve < josh: # The case, when Josh finally wins!\n",
    "        return f\"Josh wins {josh} to {steve}\"\n",
    "    return \"Tie\" # The case, when the number of points is equal!\n",
    "        \n",
    "winner(['A','7','8'], ['K','5','9'])"
   ]
  }
 ],
 "metadata": {
  "kernelspec": {
   "display_name": "Python 3 (ipykernel)",
   "language": "python",
   "name": "python3"
  },
  "language_info": {
   "codemirror_mode": {
    "name": "ipython",
    "version": 3
   },
   "file_extension": ".py",
   "mimetype": "text/x-python",
   "name": "python",
   "nbconvert_exporter": "python",
   "pygments_lexer": "ipython3",
   "version": "3.9.7"
  }
 },
 "nbformat": 4,
 "nbformat_minor": 5
}
