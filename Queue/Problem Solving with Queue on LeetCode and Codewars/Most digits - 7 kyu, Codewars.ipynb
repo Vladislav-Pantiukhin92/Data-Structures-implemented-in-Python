{
 "cells": [
  {
   "cell_type": "markdown",
   "id": "231fafeb",
   "metadata": {},
   "source": [
    "### Most digits - 7 kyu, Codewars/Python"
   ]
  },
  {
   "cell_type": "code",
   "execution_count": 2,
   "id": "778eb832",
   "metadata": {},
   "outputs": [
    {
     "data": {
      "text/plain": [
       "9000"
      ]
     },
     "execution_count": 2,
     "metadata": {},
     "output_type": "execute_result"
    }
   ],
   "source": [
    "\"\"\"\n",
    "Find the number with the most digits.\n",
    "If two numbers in the argument array have the same number of digits, return the first one in the array.\n",
    "\"\"\"\n",
    "\n",
    "from collections import deque # A double-ended queue to extract elements at the beginning of the given input array\n",
    "from operator import * # 'operator.eq' will be used to compare two elements\n",
    "\n",
    "def find_longest(arr):\n",
    "    maxLength = len(str(max(arr))) # For starters, we need to determine the maxLength of elements within the \n",
    "    # given input array\n",
    "    arr = deque(arr) # The deque structure (a double-ended queue) is created\n",
    "    while arr:\n",
    "        curElement = arr.popleft() # Each time the first element within the given input array is extracted\n",
    "        curLength = len(str(curElement))\n",
    "        if eq(maxLength, curLength): # If the maxLength equals to the length of the recently extracted element - \n",
    "            # we return this element\n",
    "            return curElement\n",
    "find_longest([9000, 8, 800])"
   ]
  }
 ],
 "metadata": {
  "kernelspec": {
   "display_name": "Python 3 (ipykernel)",
   "language": "python",
   "name": "python3"
  },
  "language_info": {
   "codemirror_mode": {
    "name": "ipython",
    "version": 3
   },
   "file_extension": ".py",
   "mimetype": "text/x-python",
   "name": "python",
   "nbconvert_exporter": "python",
   "pygments_lexer": "ipython3",
   "version": "3.9.7"
  }
 },
 "nbformat": 4,
 "nbformat_minor": 5
}
