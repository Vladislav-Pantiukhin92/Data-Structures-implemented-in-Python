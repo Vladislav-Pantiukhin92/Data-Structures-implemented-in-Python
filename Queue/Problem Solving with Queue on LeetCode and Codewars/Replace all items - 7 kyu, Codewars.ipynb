{
 "cells": [
  {
   "cell_type": "markdown",
   "id": "94fcaf2f",
   "metadata": {},
   "source": [
    "### Replace all items - 7 kyu, Codewars"
   ]
  },
  {
   "cell_type": "code",
   "execution_count": 70,
   "id": "52ddde0f",
   "metadata": {},
   "outputs": [
    {
     "data": {
      "text/plain": [
       "[2, 2, 2]"
      ]
     },
     "execution_count": 70,
     "metadata": {},
     "output_type": "execute_result"
    }
   ],
   "source": [
    "\"\"\"\n",
    "Write function replaceAll (Python: replace_all) that will replace all occurrences of an item with another.\n",
    "Python / JavaScript: The function has to work for strings and lists.\n",
    "Example: replaceAll [1,2,2] 1 2 -> in list [1,2,2] we replace 1 with 2 to get new list [2,2,2]\n",
    "replaceAll(replaceAll(array: [1,2,2], old: 1, new: 2) // [2,2,2]\n",
    "\"\"\"\n",
    "\n",
    "from collections import deque \n",
    "# It can be possible to solve the problem through the implementation of a double-ended queue\n",
    "\n",
    "def replace_all(obj, find, replace):\n",
    "    # First of all, we need to determine the type of the input data - string or list:\n",
    "    list_type = False\n",
    "    string_type = False\n",
    "    if isinstance(obj, list):\n",
    "        list_type = True\n",
    "    else:\n",
    "        string_type = True\n",
    "    length = len(obj) # Let's determine the length of the input data as well\n",
    "    array = deque(obj) # A double-ended queue\n",
    "    # The number of loops equals to the length of the input data\n",
    "    # The major principle is that we extract the first element, compare it with the value, which should be replaced\n",
    "    # If it is the case, the new value is appended to the rear of the double-ended queue\n",
    "    # If it is not the case, the old element is appended to the rear of the double-ended queue\n",
    "    \n",
    "    for _ in range(length):\n",
    "        curElement = array.popleft()\n",
    "        if curElement == find:\n",
    "            array.append(replace)\n",
    "        else:\n",
    "            array.append(curElement)\n",
    "    if list_type: # Finally, if the input data type is a list, we return it, if the input data type is a string - \n",
    "        # we transform the list into the string type and return it as well\n",
    "        return list(array)\n",
    "    return \"\".join(list(array))\n",
    "\n",
    "replace_all([1,2,2], 1, 2)"
   ]
  }
 ],
 "metadata": {
  "kernelspec": {
   "display_name": "Python 3 (ipykernel)",
   "language": "python",
   "name": "python3"
  },
  "language_info": {
   "codemirror_mode": {
    "name": "ipython",
    "version": 3
   },
   "file_extension": ".py",
   "mimetype": "text/x-python",
   "name": "python",
   "nbconvert_exporter": "python",
   "pygments_lexer": "ipython3",
   "version": "3.9.7"
  }
 },
 "nbformat": 4,
 "nbformat_minor": 5
}
