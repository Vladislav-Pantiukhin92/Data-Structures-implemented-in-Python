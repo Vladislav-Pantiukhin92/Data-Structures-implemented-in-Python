{
 "cells": [
  {
   "cell_type": "markdown",
   "id": "a204558c",
   "metadata": {},
   "source": [
    "### Left Rotation - HackerRank"
   ]
  },
  {
   "cell_type": "code",
   "execution_count": 2,
   "id": "84cb01c6",
   "metadata": {},
   "outputs": [
    {
     "data": {
      "text/plain": [
       "[3, 4, 5, 1, 2]"
      ]
     },
     "execution_count": 2,
     "metadata": {},
     "output_type": "execute_result"
    }
   ],
   "source": [
    "\"\"\"\n",
    "A left rotation operation on an array of size n shifts each of the array’s elements 1 unit to the left. \n",
    "For example, if 2 left rotations are performed on array [1, 2, 3, 4, 5], then the array would become \n",
    "[3, 4, 5, 1, 2].\n",
    "Given an array of n integers and a number, d, perform d left rotations on the array. \n",
    "Then print the updated array as a single line of space-separated integers.\n",
    "\"\"\"\n",
    "\n",
    "from collections import deque # 'collections.deque' will create a double-ended queue - the structure, which \n",
    "# makes it easily possible to rotate the given input array\n",
    "\n",
    "def rotateLeft(d, arr):\n",
    "    arr = deque(arr) # The deque structure (a double-ended queue)\n",
    "    for _ in range(d):\n",
    "    # The principle of the rotation procedure:\n",
    "        curElement = arr.popleft() # The first element from the given input array is extracted\n",
    "        arr.append(curElement) # The extracted element is appended to the rear of the given input array\n",
    "    # The aforementioned procedure should be executed the 'd' number of times\n",
    "    return list(arr) # The rotated array is returned\n",
    "\n",
    "rotateLeft(2, [1, 2, 3, 4, 5])"
   ]
  }
 ],
 "metadata": {
  "kernelspec": {
   "display_name": "Python 3 (ipykernel)",
   "language": "python",
   "name": "python3"
  },
  "language_info": {
   "codemirror_mode": {
    "name": "ipython",
    "version": 3
   },
   "file_extension": ".py",
   "mimetype": "text/x-python",
   "name": "python",
   "nbconvert_exporter": "python",
   "pygments_lexer": "ipython3",
   "version": "3.9.7"
  }
 },
 "nbformat": 4,
 "nbformat_minor": 5
}
