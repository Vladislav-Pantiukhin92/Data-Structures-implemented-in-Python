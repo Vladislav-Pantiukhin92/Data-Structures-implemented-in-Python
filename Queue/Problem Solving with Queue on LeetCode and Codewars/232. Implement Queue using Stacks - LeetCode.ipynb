{
 "cells": [
  {
   "cell_type": "markdown",
   "id": "e255283f",
   "metadata": {},
   "source": [
    "### 232. Implement Queue using Stacks"
   ]
  },
  {
   "cell_type": "code",
   "execution_count": null,
   "id": "d254bf28",
   "metadata": {},
   "outputs": [],
   "source": [
    "\"\"\"\n",
    "Implement a first in first out (FIFO) queue using only two stacks. The implemented queue should support \n",
    "all the functions of a normal queue (push, peek, pop, and empty).\n",
    "Implement the MyQueue class:\n",
    "\n",
    "void push(int x) Pushes element x to the back of the queue.\n",
    "int pop() Removes the element from the front of the queue and returns it.\n",
    "int peek() Returns the element at the front of the queue.\n",
    "boolean empty() Returns true if the queue is empty, false otherwise.\n",
    "Notes:\n",
    "You must use only standard operations of a stack, which means only push to top, peek/pop from top, size, \n",
    "and is empty operations are valid.\n",
    "Depending on your language, the stack may not be supported natively. You may simulate a stack using a \n",
    "list or deque (double-ended queue) as long as you use only a stack's standard operations.\n",
    " \n",
    "Example 1:\n",
    "\n",
    "Input\n",
    "[\"MyQueue\", \"push\", \"push\", \"peek\", \"pop\", \"empty\"]\n",
    "[[], [1], [2], [], [], []]\n",
    "Output\n",
    "[null, null, null, 1, 1, false]\n",
    "\n",
    "Explanation\n",
    "MyQueue myQueue = new MyQueue();\n",
    "myQueue.push(1); // queue is: [1]\n",
    "myQueue.push(2); // queue is: [1, 2] (leftmost is front of the queue)\n",
    "myQueue.peek(); // return 1\n",
    "myQueue.pop(); // return 1, queue is [2]\n",
    "myQueue.empty(); // return false\n",
    "\"\"\"\n",
    "# We will be able to use only one stack structure to implement the queue structure\n",
    "class MyQueue:\n",
    "\n",
    "    def __init__(self): # Constructor\n",
    "        self.stack = [] # The stack structure\n",
    "        self.size = 0 # The initial size is 0\n",
    "        \n",
    "    def push(self, x: int) -> None:\n",
    "        self.stack.insert(0, x) # Each element will be appended and inserted in the first position\n",
    "        # This way we can replicate the work of the queue structure\n",
    "        self.size += 1 # The size is increased by 1\n",
    "\n",
    "    def pop(self) -> int:\n",
    "        curElement = self.stack.pop() # The earliest element is the last element, so we just pop it\n",
    "        self.size -= 1 # The size is reduced by 1\n",
    "        return curElement\n",
    "\n",
    "    def peek(self) -> int: \n",
    "        return self.stack[-1] # This way the last element (that is, the first one for extraction) will be seen\n",
    "\n",
    "    def empty(self) -> bool:\n",
    "        return self.size == 0 # If the size is 0, we return True, otherwise - we return False"
   ]
  }
 ],
 "metadata": {
  "kernelspec": {
   "display_name": "Python 3 (ipykernel)",
   "language": "python",
   "name": "python3"
  },
  "language_info": {
   "codemirror_mode": {
    "name": "ipython",
    "version": 3
   },
   "file_extension": ".py",
   "mimetype": "text/x-python",
   "name": "python",
   "nbconvert_exporter": "python",
   "pygments_lexer": "ipython3",
   "version": "3.9.7"
  }
 },
 "nbformat": 4,
 "nbformat_minor": 5
}
