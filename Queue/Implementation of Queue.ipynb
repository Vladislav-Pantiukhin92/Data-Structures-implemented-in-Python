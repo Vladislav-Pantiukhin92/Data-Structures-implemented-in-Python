{
 "cells": [
  {
   "cell_type": "markdown",
   "id": "b6feb77b",
   "metadata": {},
   "source": [
    "### Queue"
   ]
  },
  {
   "cell_type": "code",
   "execution_count": 117,
   "id": "32d32d9c",
   "metadata": {},
   "outputs": [],
   "source": [
    "# Queue - data structure, which utilizes the FIFO (First-In/First-Out) storage manner.\n",
    "\n",
    "# 1. Implementation through 'collections.deque' - a double-ended queue\n",
    "\n",
    "from collections import deque \n",
    "\n",
    "class Queue:\n",
    "    def __init__(self): # Constructor\n",
    "        self.myQueue = deque()\n",
    "        self.size = 0\n",
    "        \n",
    "    def push(self, elem): # The method, which appends elements to the list (at the last position)\n",
    "        self.myQueue.append(elem)\n",
    "        self.size += 1 # The size is increased by 1\n",
    "        \n",
    "    def extract(self):\n",
    "        curElement = self.myQueue.popleft() # The method, which extracts the first (the earliest) element\n",
    "        self.size -= 1 # The size is reduced by 1\n",
    "        return curElement\n",
    "    \n",
    "    def __len__(self): # The current total length/size is returned\n",
    "        return self.size\n",
    "    \n",
    "    def is_empty(self): # The method inspects the existence of elements within the queue structure\n",
    "        if len(self.myQueue) < 1:\n",
    "            return True # If the queue is empty - return True\n",
    "        return False # If the queue contains 1 or more elements - return False\n",
    "    \n",
    "    def peek(self): # The method returns the next element for extraction (it is always the first element)\n",
    "        return self.myQueue[0]\n",
    "    \n",
    "    def show(self): # The method returns the current content of the queue structure\n",
    "        return self.myQueue\n"
   ]
  },
  {
   "cell_type": "code",
   "execution_count": 142,
   "id": "68c2ab2e",
   "metadata": {},
   "outputs": [],
   "source": [
    "# 2. Implementation through the 'Queue' module (class \"Queue\")\n",
    "\n",
    "from queue import Queue\n",
    "\n",
    "class Queues:\n",
    "    def __init__(self): # Constructor\n",
    "        self.myQueue = Queue()\n",
    "    \n",
    "    def push(self, elem): # The method, which appends elements to the list (at the last position)\n",
    "        self.myQueue.put(elem)\n",
    "        \n",
    "    def extract(self): # The method, which extracts the first (the earliest) element\n",
    "        return self.myQueue.get()\n",
    "    \n",
    "    def __len__(self): # The current total length/size is returned\n",
    "        return self.myQueue.qsize()\n",
    "    \n",
    "    def is_empty(self): # The method inspects the existence of elements within the queue structure\n",
    "        return self.myQueue.empty()\n",
    "    \n",
    "    def peek(self): # The method returns the next element for extraction (it is always the first element)\n",
    "        return self.myQueue.queue[0]\n",
    "    \n",
    "    def show(self): # The method returns the current content of the queue structure\n",
    "        return self.myQueue.queue\n"
   ]
  }
 ],
 "metadata": {
  "kernelspec": {
   "display_name": "Python 3 (ipykernel)",
   "language": "python",
   "name": "python3"
  },
  "language_info": {
   "codemirror_mode": {
    "name": "ipython",
    "version": 3
   },
   "file_extension": ".py",
   "mimetype": "text/x-python",
   "name": "python",
   "nbconvert_exporter": "python",
   "pygments_lexer": "ipython3",
   "version": "3.9.7"
  }
 },
 "nbformat": 4,
 "nbformat_minor": 5
}
