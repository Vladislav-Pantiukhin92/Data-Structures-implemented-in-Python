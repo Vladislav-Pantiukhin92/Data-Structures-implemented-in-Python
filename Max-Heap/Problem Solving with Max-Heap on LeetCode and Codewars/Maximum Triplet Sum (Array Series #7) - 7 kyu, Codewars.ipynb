{
 "cells": [
  {
   "cell_type": "markdown",
   "id": "8813103c",
   "metadata": {},
   "source": [
    "### Maximum Triplet Sum (Array Series #7) - 7 kyu, Codewars/Python"
   ]
  },
  {
   "cell_type": "code",
   "execution_count": 12,
   "id": "32febaac",
   "metadata": {},
   "outputs": [
    {
     "data": {
      "text/plain": [
       "41"
      ]
     },
     "execution_count": 12,
     "metadata": {},
     "output_type": "execute_result"
    }
   ],
   "source": [
    "\"\"\"\n",
    "Given an array/list [] of n integers , find maximum triplet sum in the array Without duplications.\n",
    "Notes :\n",
    "Array/list size is at least 3.\n",
    "Array/list numbers could be a mixture of positives , negatives and zeros.\n",
    "Repetition of numbers in the array/list could occur , So (duplications are not included when summing).\n",
    "\n",
    "Input >> Output Examples\n",
    "1- maxTriSum ({3,2,6,8,2,3}) ==> return (17)\n",
    "Explanation:\n",
    "As the triplet that maximize the sum {6,8,3} in order , their sum is (17)\n",
    "Note : duplications are not included when summing , (i.e) the numbers added only once.\n",
    "\n",
    "2- maxTriSum ({2,1,8,0,6,4,8,6,2,4}) ==> return (18)\n",
    "Explanation:\n",
    "As the triplet that maximize the sum {8, 6, 4} in order , their sum is (18),\n",
    "Note : duplications are not included when summing , (i.e) the numbers added only once.\n",
    "\n",
    "3- maxTriSum ({-7,12,-7,29,-5,0,-7,0,0,29}) ==> return (41)\n",
    "Explanation:\n",
    "As the triplet that maximize the sum {12 , 29 , 0} in order , their sum is (41),\n",
    "Note : duplications are not included when summing , (i.e) the numbers added only once.\n",
    "\"\"\"\n",
    "\n",
    "# Let's create the maxHeap structure, where it will be possible to extract the three largest elements without duplicates\n",
    "\n",
    "def max_tri_sum(numbers):\n",
    "# We need to remove all duplicates from the given input list. The set structure will perform this function:\n",
    "    without_duplicates = list(set(numbers))\n",
    "# Let's transform the given input list into the maxHeap structure:\n",
    "# Below is the function, which turns the given input list into the maxHeap structure:\n",
    "    def maxHeapify(array, n, i):\n",
    "    # The maxHeap is the structure, where parent nodes > child nodes\n",
    "        index = i\n",
    "        left = index * 2 + 1 # The left node's value\n",
    "        right = index * 2 + 2 # The right node's value\n",
    "        largest = index\n",
    "        # Below is the condition, when we need to swap nodes (if parent nodes < child nodes):\n",
    "        if left < n and array[largest] < array[left]:\n",
    "            largest = left\n",
    "        if right < n and array[largest] < array[right]:\n",
    "            largest = right\n",
    "        if largest != index:\n",
    "            array[index], array[largest] = array[largest], array[index] # The necessary swapping procedure\n",
    "            maxHeapify(array, n, largest)\n",
    "    for i in range(len(without_duplicates) - 1, -1, -1):\n",
    "        maxHeapify(without_duplicates, len(without_duplicates), i)\n",
    "    maxHeap = without_duplicates # The maxHeap structure is obtained\n",
    "    final = [] # The list, which will store maxElements from the given input list\n",
    "    for _ in range(3):\n",
    "        maxHeap[0], maxHeap[len(maxHeap) - 1] = maxHeap[len(maxHeap) - 1], maxHeap[0]\n",
    "        elem = maxHeap.pop() # Each time the maxElement is popped from the maxHeap and appended to the rear of \n",
    "        # the list container\n",
    "        final.append(elem)\n",
    "        maxHeapify(maxHeap, len(maxHeap), 0) # Following the removal of the maxElement, the maxHeap should be\n",
    "        # 'heapified' again to restore the required maxHeap structure\n",
    "    return sum(final) # The final step is to return the sum of these three elements\n",
    "\n",
    "max_tri_sum({-7,12,-7,29,-5,0,-7,0,0,29})"
   ]
  }
 ],
 "metadata": {
  "kernelspec": {
   "display_name": "Python 3 (ipykernel)",
   "language": "python",
   "name": "python3"
  },
  "language_info": {
   "codemirror_mode": {
    "name": "ipython",
    "version": 3
   },
   "file_extension": ".py",
   "mimetype": "text/x-python",
   "name": "python",
   "nbconvert_exporter": "python",
   "pygments_lexer": "ipython3",
   "version": "3.9.7"
  }
 },
 "nbformat": 4,
 "nbformat_minor": 5
}
