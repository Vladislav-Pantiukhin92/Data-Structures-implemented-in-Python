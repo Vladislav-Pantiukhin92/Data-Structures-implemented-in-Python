{
 "cells": [
  {
   "cell_type": "markdown",
   "id": "e7754753",
   "metadata": {},
   "source": [
    "### 1046. Last Stone Weight"
   ]
  },
  {
   "cell_type": "code",
   "execution_count": 138,
   "id": "b6c974d3",
   "metadata": {},
   "outputs": [
    {
     "data": {
      "text/plain": [
       "1"
      ]
     },
     "execution_count": 138,
     "metadata": {},
     "output_type": "execute_result"
    }
   ],
   "source": [
    "\"\"\"\n",
    "You are given an array of integers stones where stones[i] is the weight of the ith stone.\n",
    "We are playing a game with the stones. On each turn, we choose the heaviest two stones \n",
    "and smash them together. Suppose the heaviest two stones have weights x and y with x <= y. \n",
    "The result of this smash is:\n",
    "If x == y, both stones are destroyed, and\n",
    "If x != y, the stone of weight x is destroyed, and the stone of weight y has new weight y - x.\n",
    "At the end of the game, there is at most one stone left.\n",
    "Return the smallest possible weight of the left stone. If there are no stones left, return 0.\n",
    "Example 1:\n",
    "\n",
    "Input: stones = [2,7,4,1,8,1]\n",
    "Output: 1\n",
    "Explanation: \n",
    "We combine 7 and 8 to get 1 so the array converts to [2,4,1,1,1] then,\n",
    "we combine 2 and 4 to get 2 so the array converts to [2,1,1,1] then,\n",
    "we combine 2 and 1 to get 1 so the array converts to [1,1,1] then,\n",
    "we combine 1 and 1 to get 0 so the array converts to [1] then that's the value of the last stone.\n",
    "Example 2:\n",
    "\n",
    "Input: stones = [1]\n",
    "Output: 1\n",
    "\"\"\"\n",
    "\n",
    "# To solve this problem the max_heap structure can be used\n",
    "\n",
    "class Solution:\n",
    "    def lastStoneWeight(self, stones: List[int]) -> int:\n",
    "        # The simplest case is when the input list contains only one element - this element is returned\n",
    "        if len(stones) == 1:  \n",
    "            return stones[0]\n",
    "        # Otherwise, the input list will be transformed into the max_heap structure through the following \n",
    "        # function:\n",
    "        def maxHeapify(array, n, i): # The function, which incorporates swappings between nodes, while\n",
    "            # comparing elements with their child nodes (left and right nodes)\n",
    "            index = i\n",
    "            left = index * 2 + 1\n",
    "            right = index * 2 + 2\n",
    "            largest = index\n",
    "            if left < n and array[largest] < array[left]:\n",
    "                largest = left\n",
    "            if right < n and array[largest] < array[right]:\n",
    "                largest = right\n",
    "            if largest != index:\n",
    "                array[index], array[largest] = array[largest], array[index]\n",
    "                maxHeapify(array, n, largest)\n",
    "\n",
    "        def float_up(array, index): # The function, which is used when the difference element (subtraction result of \n",
    "            # two largest elements) is appended to the list - the list should be heapified again\n",
    "            parent = (index - 1) // 2\n",
    "            if parent < 0:\n",
    "                return\n",
    "            else:\n",
    "                if array[parent] < array[index]:\n",
    "                    array[parent], array[index] = array[index], array[parent]\n",
    "                    float_up(array, parent)\n",
    "\n",
    "        for i in range(len(stones) - 1, -1, -1):\n",
    "            maxHeapify(stones, len(stones), i)\n",
    "\n",
    "        while len(stones) > 1: # The loop works while the list contains over 1 element, until then, the list is being\n",
    "            # constantly heapified following the regular extraction of two largest elements\n",
    "            final = []\n",
    "            for _ in range(2):\n",
    "                stones[0], stones[len(stones) - 1] = stones[len(stones) - 1], stones[0]\n",
    "                curElement = stones.pop()\n",
    "                final.append(curElement)\n",
    "                maxHeapify(stones, len(stones), 0)\n",
    "            difference = abs(final[0] - final[1])\n",
    "            stones.append(difference)\n",
    "            float_up(stones, len(stones) - 1)\n",
    "        return stones[0] # Finally, only one element remains in the list, we return its index - [0]\n",
    "    \n",
    "a = Solution()\n",
    "a.lastStoneWeight([2,7,4,1,8,1])"
   ]
  }
 ],
 "metadata": {
  "kernelspec": {
   "display_name": "Python 3 (ipykernel)",
   "language": "python",
   "name": "python3"
  },
  "language_info": {
   "codemirror_mode": {
    "name": "ipython",
    "version": 3
   },
   "file_extension": ".py",
   "mimetype": "text/x-python",
   "name": "python",
   "nbconvert_exporter": "python",
   "pygments_lexer": "ipython3",
   "version": "3.9.7"
  }
 },
 "nbformat": 4,
 "nbformat_minor": 5
}
