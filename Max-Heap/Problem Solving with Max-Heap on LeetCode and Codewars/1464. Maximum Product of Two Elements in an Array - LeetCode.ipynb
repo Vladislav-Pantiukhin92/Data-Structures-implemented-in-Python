{
 "cells": [
  {
   "cell_type": "markdown",
   "id": "3121a342",
   "metadata": {},
   "source": [
    "### 1464. Maximum Product of Two Elements in an Array"
   ]
  },
  {
   "cell_type": "code",
   "execution_count": 56,
   "id": "9eac4221",
   "metadata": {},
   "outputs": [
    {
     "data": {
      "text/plain": [
       "16"
      ]
     },
     "execution_count": 56,
     "metadata": {},
     "output_type": "execute_result"
    }
   ],
   "source": [
    "\"\"\"\n",
    "Given the array of integers nums, you will choose two different indices i and j of that array. \n",
    "Return the maximum value of (nums[i]-1)*(nums[j]-1).\n",
    "Example 1:\n",
    "\n",
    "Input: nums = [3,4,5,2]\n",
    "Output: 12 \n",
    "Explanation: If you choose the indices i=1 and j=2 (indexed from 0), you will get the maximum value, \n",
    "that is, (nums[1]-1)*(nums[2]-1) = (4-1)*(5-1) = 3*4 = 12. \n",
    "Example 2:\n",
    "\n",
    "Input: nums = [1,5,4,5]\n",
    "Output: 16\n",
    "Explanation: Choosing the indices i=1 and j=3 (indexed from 0), you will get the maximum value of \n",
    "(5-1)*(5-1) = 16.\n",
    "Example 3:\n",
    "\n",
    "Input: nums = [3,7]\n",
    "Output: 12\n",
    "\"\"\"\n",
    "\n",
    "class Solution: # To solve this problem the Heap (maxHeap) can be implemented (in other words, Priority Queue)\n",
    "    def maxProduct(self, nums: List[int]) -> int:\n",
    "        two_largest = []\n",
    "        def maxHeap(array): # The function, which will heapify the initial input list (transformation into the maxHeap)\n",
    "            result = [] # As the maxHeap envisages that parent nodes should always be bigger than child nodes - the function\n",
    "            # incorporates the parent-child nodes comparison and possible swapping\n",
    "            for i in array:\n",
    "                result.append(i)\n",
    "                if len(result) > 1:\n",
    "                    index = len(result) - 1\n",
    "                    parent = (index - 1) // 2 # There is a formula for finding the specific parent node\n",
    "                    while parent >= 0 and result[parent] < result[index]:\n",
    "                        result[parent], result[index] = result[index], result[parent]\n",
    "                        index = parent\n",
    "                        parent = (index - 1) // 2\n",
    "            return result\n",
    "        def top_down(array, index): # The function, which will be useful in case of list.pop() method\n",
    "            # In this case, the largest element within the maxHeap is extracted (initially it is swapped with the last element)\n",
    "            left = index * 2 + 1 # So it is important to insert the swapped element into the proper place\n",
    "            right = index * 2 + 2 # As a result of that, the swapping with child nodes (left and right) may take place\n",
    "            largest = index\n",
    "            if left < len(array) - 1 and array[largest] < array[left]:\n",
    "                largest = left\n",
    "            if right < len(array) - 1 and array[largest] < array[right]:\n",
    "                largest = right\n",
    "            if largest != index:\n",
    "                array[index], array[largest] = array[largest], array[index]\n",
    "                top_down(array, largest)\n",
    "        array = maxHeap(nums)\n",
    "        # The 'for loop' with 2 loops is being launch (because we need only two largest elements)\n",
    "        for _ in range(2):\n",
    "            elem = array.pop(0)\n",
    "            two_largest.append(elem)\n",
    "            top_down(array, 0)\n",
    "        return (two_largest[0] - 1) * (two_largest[1] - 1) # The final result is returned\n",
    "    \n",
    "a = Solution()\n",
    "a.maxProduct([1,5,4,5])"
   ]
  }
 ],
 "metadata": {
  "kernelspec": {
   "display_name": "Python 3 (ipykernel)",
   "language": "python",
   "name": "python3"
  },
  "language_info": {
   "codemirror_mode": {
    "name": "ipython",
    "version": 3
   },
   "file_extension": ".py",
   "mimetype": "text/x-python",
   "name": "python",
   "nbconvert_exporter": "python",
   "pygments_lexer": "ipython3",
   "version": "3.9.7"
  }
 },
 "nbformat": 4,
 "nbformat_minor": 5
}
