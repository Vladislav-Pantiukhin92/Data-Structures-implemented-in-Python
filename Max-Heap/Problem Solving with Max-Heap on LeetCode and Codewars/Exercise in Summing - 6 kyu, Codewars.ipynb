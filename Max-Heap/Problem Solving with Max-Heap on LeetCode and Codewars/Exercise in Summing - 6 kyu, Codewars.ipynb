{
 "cells": [
  {
   "cell_type": "markdown",
   "id": "75208e2f",
   "metadata": {},
   "source": [
    "### Exercise in Summing - 6 kyu, Codewars/Python"
   ]
  },
  {
   "cell_type": "code",
   "execution_count": 5,
   "id": "18ead859",
   "metadata": {},
   "outputs": [
    {
     "name": "stdout",
     "output_type": "stream",
     "text": [
      "3"
     ]
    },
    {
     "data": {
      "text/plain": [
       "12"
      ]
     },
     "execution_count": 5,
     "metadata": {},
     "output_type": "execute_result"
    }
   ],
   "source": [
    "\"\"\"\n",
    "Your task is to finish two functions, minimumSum and maximumSum, that take 2 parameters:\n",
    "values: an array of integers with an arbitrary length; may be positive and negative\n",
    "n: how many integers should be summed; always 0 or bigger\n",
    "Example:\n",
    "values = [5, 4, 3, 2, 1];\n",
    "minimum_sum(values, 2) #should return 1 + 2 = 3\n",
    "maximum_sum(values, 3) #should return 3 + 4 + 5 = 12\n",
    "All values given to the functions will be integers. Also take care of the following special cases:\n",
    "\n",
    "if values is empty, both functions should return 0\n",
    "if n is 0, both functions should also return 0\n",
    "if n is larger than values's length, use the length instead.\n",
    "\"\"\"\n",
    "\n",
    "# To extract the minimum elements from the given input list, let's create the minHeap, where parent nodes are \n",
    "# always smaller than child nodes:\n",
    "def minHeapify(array, n, i): # The function, aimed at creating the minHeap\n",
    "# We will implement the swapping process if a parent node > a child node\n",
    "    index = i\n",
    "    left = index * 2 + 1\n",
    "    right = index * 2 + 2\n",
    "    smallest = index\n",
    "    if left < n and array[smallest] > array[left]:\n",
    "        smallest = left\n",
    "    if right < n and array[smallest] > array[right]:\n",
    "        smallest = right \n",
    "    if smallest != index:\n",
    "        array[index], array[smallest] = array[smallest], array[index]\n",
    "        minHeapify(array, n, smallest)\n",
    "        \n",
    "# To extract the maximum elements from the given input list, let's create the maxHeap, where parent nodes are \n",
    "# always larger than child nodes:\n",
    "def maxHeapify(array, n, i): # The function, aimed at creating the maxHeap\n",
    "# We will implement the swapping process if a parent node < a child node\n",
    "    index = i\n",
    "    left = index * 2 + 1\n",
    "    right = index * 2 + 2\n",
    "    largest = index\n",
    "    if left < n and array[largest] < array[left]:\n",
    "        largest = left\n",
    "    if right < n and array[largest] < array[right]:\n",
    "        largest = right \n",
    "    if largest != index:\n",
    "        array[index], array[largest] = array[largest], array[index]\n",
    "        maxHeapify(array, n, largest)\n",
    "\n",
    "def minimum_sum(values, n):\n",
    "# First of all, we will deal with the copy of the original input list. It is necessary for avoiding the \n",
    "# mutation of the original array\n",
    "    my_arr = values.copy() \n",
    "    if not my_arr or n == 0: # If the list is empty or the 'n' parameter is 0 - we return 0\n",
    "        return 0\n",
    "    elif n > len(my_arr): # We will use the list length as the 'n' parameter, if the original 'n' parameter is \n",
    "        # larger than the number of elements in the list\n",
    "        n = len(my_arr)\n",
    "    # The next step is to transform the list of elements into the minHeap (parent nodes < child nodes)\n",
    "    for i in range(len(my_arr) - 1, -1, -1):\n",
    "        minHeapify(my_arr, len(my_arr), i)\n",
    "    min_arr = [] # We will create the list container to store the specific ('n') number of minElements\n",
    "    # Through the 'for loop' the minimum elements will be popped, and the list will be 'minHeapified' again\n",
    "    for _ in range(n): \n",
    "        my_arr[0], my_arr[len(my_arr) - 1] = my_arr[len(my_arr) - 1], my_arr[0]\n",
    "        minElem = my_arr.pop()\n",
    "        min_arr.append(minElem) # The popped minimum elements are appended to the list container\n",
    "        minHeapify(my_arr, len(my_arr), 0)\n",
    "    return sum(min_arr) # The sum of all stored minimum elements is returned\n",
    "\n",
    "def maximum_sum(values, n):\n",
    "# First of all, we will deal with the copy of the original input list. It is necessary for avoiding the \n",
    "# mutation of the original array\n",
    "    my_arr = values.copy()\n",
    "    if not my_arr or n == 0: # If the list is empty or the 'n' parameter is 0 - we return 0\n",
    "        return 0\n",
    "    elif n > len(my_arr): # We will use the list length as the 'n' parameter, if the original 'n' parameter is \n",
    "        # larger than the number of elements in the list\n",
    "        n = len(my_arr)\n",
    "# The next step is to transform the list of elements into the maxHeap (parent nodes > child nodes)\n",
    "    for i in range(len(my_arr) - 1, -1, -1):\n",
    "        maxHeapify(my_arr, len(my_arr), i)\n",
    "    max_arr = [] # We will create the list container to store the specific ('n') number of maxElements\n",
    "# Through the 'for loop' the maximum elements will be popped, and the list will be 'maxHeapified' again\n",
    "    for _ in range(n):\n",
    "        my_arr[0], my_arr[len(my_arr) - 1] = my_arr[len(my_arr) - 1], my_arr[0]\n",
    "        maxElem = my_arr.pop()\n",
    "        max_arr.append(maxElem) # The popped maximum elements are appended to the list container\n",
    "        maxHeapify(my_arr, len(my_arr), 0)\n",
    "    return sum(max_arr) # The sum of all stored maximum elements is returned\n",
    "\n",
    "print(minimum_sum([5, 4, 3, 2, 1], 2))\n",
    "maximum_sum([5, 4, 3, 2, 1], 3)"
   ]
  }
 ],
 "metadata": {
  "kernelspec": {
   "display_name": "Python 3 (ipykernel)",
   "language": "python",
   "name": "python3"
  },
  "language_info": {
   "codemirror_mode": {
    "name": "ipython",
    "version": 3
   },
   "file_extension": ".py",
   "mimetype": "text/x-python",
   "name": "python",
   "nbconvert_exporter": "python",
   "pygments_lexer": "ipython3",
   "version": "3.9.7"
  }
 },
 "nbformat": 4,
 "nbformat_minor": 5
}
