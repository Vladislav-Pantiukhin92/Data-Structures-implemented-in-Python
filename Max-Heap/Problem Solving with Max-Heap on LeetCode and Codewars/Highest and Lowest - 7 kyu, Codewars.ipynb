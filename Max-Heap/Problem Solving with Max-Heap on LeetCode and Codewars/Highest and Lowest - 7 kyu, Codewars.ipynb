{
 "cells": [
  {
   "cell_type": "markdown",
   "id": "d636ab4c",
   "metadata": {},
   "source": [
    "### Highest and Lowest - 7 kyu, Codewars/Python"
   ]
  },
  {
   "cell_type": "code",
   "execution_count": 4,
   "id": "ddaf589f",
   "metadata": {},
   "outputs": [
    {
     "data": {
      "text/plain": [
       "'5 1'"
      ]
     },
     "execution_count": 4,
     "metadata": {},
     "output_type": "execute_result"
    }
   ],
   "source": [
    "\"\"\"\n",
    "In this little assignment you are given a string of space separated numbers, and have to return the \n",
    "highest and lowest number.\n",
    "Examples\n",
    "high_and_low(\"1 2 3 4 5\")  # return \"5 1\"\n",
    "high_and_low(\"1 2 -3 4 5\") # return \"5 -3\"\n",
    "high_and_low(\"1 9 3 4 -5\") # return \"9 -5\"\n",
    "Notes\n",
    "All numbers are valid Int32, no need to validate them.\n",
    "There will always be at least one number in the input string.\n",
    "Output string must be two numbers separated by a single space, and highest number is first.\n",
    "\"\"\"\n",
    "\n",
    "from heapq import nsmallest # 'heapq.nsmallest' will return the smallest element/s within the list\n",
    "from heapq import nlargest # 'heapq.nlargest' will return the largest element/s within the list\n",
    "\n",
    "def high_and_low(numbers):\n",
    "# As we deal with the given input string - we need to turn it into the list with integers:\n",
    "    numbers = list(map(int, numbers.split()))\n",
    "    largest = str(nlargest(1, numbers)[0]) # The largest number from the given input list is obtained\n",
    "    smallest = str(nsmallest(1, numbers)[0]) # The smallest number from the given input list is obtained\n",
    "    return \" \".join([largest, smallest]) # These two numbers are merged as a string with a space between them\n",
    "high_and_low(\"1 2 3 4 5\")"
   ]
  }
 ],
 "metadata": {
  "kernelspec": {
   "display_name": "Python 3 (ipykernel)",
   "language": "python",
   "name": "python3"
  },
  "language_info": {
   "codemirror_mode": {
    "name": "ipython",
    "version": 3
   },
   "file_extension": ".py",
   "mimetype": "text/x-python",
   "name": "python",
   "nbconvert_exporter": "python",
   "pygments_lexer": "ipython3",
   "version": "3.9.7"
  }
 },
 "nbformat": 4,
 "nbformat_minor": 5
}
