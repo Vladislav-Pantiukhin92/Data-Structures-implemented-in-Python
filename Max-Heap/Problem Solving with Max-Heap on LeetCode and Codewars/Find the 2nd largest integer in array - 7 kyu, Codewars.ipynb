{
 "cells": [
  {
   "cell_type": "markdown",
   "id": "e919b5ef",
   "metadata": {},
   "source": [
    "### Find the 2nd largest integer in array - 7 kyu, Codewars/Python"
   ]
  },
  {
   "cell_type": "code",
   "execution_count": 121,
   "id": "5e61e1de",
   "metadata": {},
   "outputs": [
    {
     "data": {
      "text/plain": [
       "2"
      ]
     },
     "execution_count": 121,
     "metadata": {},
     "output_type": "execute_result"
    }
   ],
   "source": [
    "\"\"\"\n",
    "Find the 2nd largest integer in array If the array has no 2nd largest integer then return nil. Reject all \n",
    "non integers elements and then find the 2nd largest integer in array\n",
    "find_2nd_largest([1,2,3]) => 2\n",
    "find_2nd_largest([1,1,1,1,1]) => nil because all elements are same. Largest no. is 1. and there is no 2nd \n",
    "largest no.\n",
    "find_2nd_largest([1,'a','2',3,3,4,5,'b']) => 4 as after rejecting non integers array will be [1,3,3,4,5] \n",
    "Largest no. is 5. and 2nd largest is 4.\n",
    "Return nil if there is no 2nd largest integer. Take care of big numbers as well\n",
    "\"\"\"\n",
    "\n",
    "from heapq import * # The 'heapq' module makes it possible to work with functions, pertaining to the minHeap\n",
    "# and maxHeap structures (the minHeap, by default)\n",
    "\n",
    "def find_2nd_largest(arr):\n",
    "# Firstly, it is necessary to remove all non-digit values. It can be done through the 'filter' function\n",
    "    arr = list(filter(lambda x: isinstance(x, int), arr))\n",
    "    arr = list(set(arr)) # On top of that, let's eliminate all duplicates as well, because we need to find the \n",
    "    # distinct number\n",
    "    if len(arr) < 2: # We need to return None value if the input array contains less than 2 elements\n",
    "        return None\n",
    "    else:\n",
    "# In view of the fact that the default built-in Python option is the minHeap, we need to multiply all elements \n",
    "# by -1 in order to obtain the maxHeap\n",
    "        arr = list(map(lambda x: x * -1, arr))\n",
    "        for _ in range(2): # The two-step 'for loop' to find the second largest number within the array\n",
    "            heapify(arr) # The maxHeap is created\n",
    "            curElement = -heappop(arr) # The maxValue is popped\n",
    "        return curElement\n",
    "    \n",
    "find_2nd_largest([1,2,3])"
   ]
  }
 ],
 "metadata": {
  "kernelspec": {
   "display_name": "Python 3 (ipykernel)",
   "language": "python",
   "name": "python3"
  },
  "language_info": {
   "codemirror_mode": {
    "name": "ipython",
    "version": 3
   },
   "file_extension": ".py",
   "mimetype": "text/x-python",
   "name": "python",
   "nbconvert_exporter": "python",
   "pygments_lexer": "ipython3",
   "version": "3.9.7"
  }
 },
 "nbformat": 4,
 "nbformat_minor": 5
}
