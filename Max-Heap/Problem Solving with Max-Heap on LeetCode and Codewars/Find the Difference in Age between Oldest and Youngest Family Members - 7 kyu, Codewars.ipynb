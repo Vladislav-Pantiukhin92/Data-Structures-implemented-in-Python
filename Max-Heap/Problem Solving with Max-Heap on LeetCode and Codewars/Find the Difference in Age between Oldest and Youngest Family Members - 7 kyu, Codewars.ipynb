{
 "cells": [
  {
   "cell_type": "markdown",
   "id": "7ffc34f5",
   "metadata": {},
   "source": [
    "### Find the Difference in Age between Oldest and Youngest Family Members - 7 kyu, Codewars/Python"
   ]
  },
  {
   "cell_type": "code",
   "execution_count": 6,
   "id": "686052ab",
   "metadata": {},
   "outputs": [
    {
     "data": {
      "text/plain": [
       "(3, 88, 85)"
      ]
     },
     "execution_count": 6,
     "metadata": {},
     "output_type": "execute_result"
    }
   ],
   "source": [
    "\"\"\"\n",
    "At the annual family gathering, the family likes to find the oldest living family member’s age and the \n",
    "youngest family member’s age and calculate the difference between them.\n",
    "You will be given an array of all the family members' ages, in any order. The ages will be given in whole \n",
    "numbers, so a baby of 5 months, will have an ascribed ‘age’ of 0. Return a new array (a tuple in Python) \n",
    "with [youngest age, oldest age, difference between the youngest and oldest age].\n",
    "\"\"\"\n",
    "\n",
    "from heapq import * # 'heapq' will emulate the heap (maxHeap and minHeap) structure\n",
    "from operator import * # It will be used for executing the subtraction operation and making the number negative\n",
    "\n",
    "def difference_in_ages(ages):\n",
    "    array1 = ages.copy() # The first copy of the given input array will be transformed into the minHeap\n",
    "    array2 = ages.copy() # The second copy of the given input array will be transformed into the maxHeap\n",
    "    heapify(array1) # The minHeap\n",
    "    smallest = heappop(array1) # The first element within the minHeap is the smallest number (the youngest age)\n",
    "# In view of the fact that the default version of the heap structure in Python is the minHeap, it is necessary \n",
    "# to carry out some manipulations in order to obtain the maxHeap:\n",
    "    array2 = list(map(lambda x: x * -1, array2))\n",
    "    heapify(array2) # The maxHeap\n",
    "    largest = neg(heappop(array2)) # The first element within the maxHeap is the largest number (the oldest age)\n",
    "    difference = sub(largest, smallest) # The difference between the largest number (the oldest age) and the \n",
    "    # smallest number (the youngest age) is found\n",
    "    return (smallest, largest, difference) # The tuple with three parameters is returned\n",
    "\n",
    "difference_in_ages([16, 22, 31, 44, 3, 38, 27, 41, 88])"
   ]
  }
 ],
 "metadata": {
  "kernelspec": {
   "display_name": "Python 3 (ipykernel)",
   "language": "python",
   "name": "python3"
  },
  "language_info": {
   "codemirror_mode": {
    "name": "ipython",
    "version": 3
   },
   "file_extension": ".py",
   "mimetype": "text/x-python",
   "name": "python",
   "nbconvert_exporter": "python",
   "pygments_lexer": "ipython3",
   "version": "3.9.7"
  }
 },
 "nbformat": 4,
 "nbformat_minor": 5
}
