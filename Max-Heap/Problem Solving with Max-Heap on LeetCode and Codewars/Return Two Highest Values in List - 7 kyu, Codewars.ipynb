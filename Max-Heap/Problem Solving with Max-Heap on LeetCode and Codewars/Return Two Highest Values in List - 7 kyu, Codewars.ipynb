{
 "cells": [
  {
   "cell_type": "markdown",
   "id": "d636ab4c",
   "metadata": {},
   "source": [
    "### Return Two Highest Values in List - 7 kyu, Codewars/Python"
   ]
  },
  {
   "cell_type": "code",
   "execution_count": 3,
   "id": "5fe4cbb7",
   "metadata": {},
   "outputs": [
    {
     "data": {
      "text/plain": [
       "[10, 9]"
      ]
     },
     "execution_count": 3,
     "metadata": {},
     "output_type": "execute_result"
    }
   ],
   "source": [
    "\"\"\"\n",
    "In this kata, your job is to return the two distinct highest values in a list. If there're less than 2 \n",
    "unique values, return as many of them, as possible.\n",
    "The result should also be ordered from highest to lowest.\n",
    "Examples:\n",
    "\n",
    "[4, 10, 10, 9]  =>  [10, 9]\n",
    "[1, 1, 1]  =>  [1]\n",
    "[]  =>  []\n",
    "\"\"\"\n",
    "\n",
    "# In order to find the solution, let's implement the maxHeap structure, where the first element is always the \n",
    "# largest one\n",
    "\n",
    "def two_highest(arg1):\n",
    "    if not arg1: # If the given input list is empty - we return an empty list\n",
    "        return arg1\n",
    "    elif len(arg1) < 3: # If the length of the given input list < 3 - we return the list, sorted in descending order\n",
    "        return sorted(arg1, reverse=True)\n",
    "    arg1 = list(set(arg1)) # As we have to return distinct numbers, we need to remove duplicates\n",
    "    def maxHeapify(array, n, i): # The function, aimed at creating the maxHeap structure\n",
    "    # The maxHeap entity envisages the following structure: parent nodes are always larger than their child nodes\n",
    "    # If such a structure is disrupted, it is necessary to implement the swapping procedure\n",
    "        index = i\n",
    "        left = index * 2 + 1 # Left node is found\n",
    "        right = index * 2 + 2 # Right node is found\n",
    "        largest = index\n",
    "    # Implementation of the swapping procedure, if necessary:\n",
    "        if left < n and array[largest] < array[left]:\n",
    "            largest = left\n",
    "        if right < n and array[largest] < array[right]:\n",
    "            largest = right \n",
    "        if largest != index:\n",
    "            array[index], array[largest] = array[largest], array[index]\n",
    "            maxHeapify(array, n, largest)\n",
    "    for i in range(len(arg1) - 1, -1, -1): # Through the 'for loop' the list is initially 'heapified'\n",
    "        maxHeapify(arg1, len(arg1), i)\n",
    "    two_largest = [] # The list, which will contain the two largest numbers from the given input array\n",
    "    for _ in range(2): # We need to execute two iterations for appending the two largest numbers to the rear \n",
    "        # of the list\n",
    "        arg1[0], arg1[-1] = arg1[-1], arg1[0]\n",
    "        largest_one = arg1.pop() # The largest number is popped\n",
    "        two_largest.append(largest_one) # The popped largest number is added to the list\n",
    "        maxHeapify(arg1, len(arg1), 0) # The list is 'heapified' again for the second iteration\n",
    "    return two_largest # The list with the two largest numbers is returned\n",
    "\n",
    "two_highest([4, 10, 10, 9])"
   ]
  }
 ],
 "metadata": {
  "kernelspec": {
   "display_name": "Python 3 (ipykernel)",
   "language": "python",
   "name": "python3"
  },
  "language_info": {
   "codemirror_mode": {
    "name": "ipython",
    "version": 3
   },
   "file_extension": ".py",
   "mimetype": "text/x-python",
   "name": "python",
   "nbconvert_exporter": "python",
   "pygments_lexer": "ipython3",
   "version": "3.9.7"
  }
 },
 "nbformat": 4,
 "nbformat_minor": 5
}
