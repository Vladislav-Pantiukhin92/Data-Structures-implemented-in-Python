{
 "cells": [
  {
   "cell_type": "markdown",
   "id": "16daea89",
   "metadata": {},
   "source": [
    "### Dynamic Array"
   ]
  },
  {
   "cell_type": "code",
   "execution_count": 127,
   "id": "eab3d132",
   "metadata": {},
   "outputs": [],
   "source": [
    "# Implementation of the Dynamic Array (flexible data structure, the size of which can be changed)\n",
    "# Elements of the Dynamic Array can be added or removed\n",
    "\n",
    "class DynamicArray:\n",
    "    def __init__(self): # Constructor\n",
    "        self.size = 0 # The initial size equals to 0\n",
    "        self.capacity = 1 # The initial capacity of the Dynamic Array equals to 1\n",
    "        self.array = self._create_array(self.capacity) # Creation of the array, taking into consideration the\n",
    "        # current capacity - 1\n",
    "        \n",
    "    def _create_array(self, length): # The method, which constructs the array with the current capacity \n",
    "        return [None] * length\n",
    "    \n",
    "    def append(self, elem): # The method, which appends elements to the rear of the Dynamic Array\n",
    "        if self.size == self.capacity: # It is important to check the capacity and the current size \n",
    "            # If there are no vacant places to store values inside the Dynamic Array, the capacity of the \n",
    "            # Dynamic Array should be changed\n",
    "            self._resize(self.capacity * 2)\n",
    "        self.array[self.size] = elem \n",
    "        self.size += 1  \n",
    "            \n",
    "    def _resize(self, new_capacity): # The method, which changes the capacity of the Dynamic Array \n",
    "        # The capacity can be changed while elements are added to the list and removed from the list\n",
    "        new_array = self._create_array(new_capacity)\n",
    "        if len(new_array) > len(self.array):\n",
    "            for i in range(len(self.array)):\n",
    "                new_array[i] = self.array[i]\n",
    "        else:\n",
    "            for i in range(len(new_array)):\n",
    "                new_array[i] = self.array[i]\n",
    "        self.array = new_array\n",
    "        self.capacity = new_capacity\n",
    "    # To show the element it is relevant to inspect the index validity (it should be within the Dynamic Array indexation)\n",
    "    def __getitem__(self, index):\n",
    "        if not 0 <= index < self.size:\n",
    "            raise IndexError(\"Wrong index!\")\n",
    "            # If everything is right with the element's index, the element is returned\n",
    "        return self.array[index]\n",
    "    \n",
    "    def pop(self): # The method, which extracts the final (the latest) element from the Dynamic Array\n",
    "        # It can be done if the current size of the Dynamic Array > 0\n",
    "        curElement = None\n",
    "        if self.size > 0:\n",
    "            # While extracting the size is changed and capacity should be inspected (if necessary, it should be changed as well)\n",
    "            curElement = self.array[self.size - 1]\n",
    "            self.array[self.size - 1] = None\n",
    "            self.size -= 1\n",
    "            if self.size < self.capacity // 4:\n",
    "                self._resize(self.capacity // 2)\n",
    "        return curElement"
   ]
  }
 ],
 "metadata": {
  "kernelspec": {
   "display_name": "Python 3 (ipykernel)",
   "language": "python",
   "name": "python3"
  },
  "language_info": {
   "codemirror_mode": {
    "name": "ipython",
    "version": 3
   },
   "file_extension": ".py",
   "mimetype": "text/x-python",
   "name": "python",
   "nbconvert_exporter": "python",
   "pygments_lexer": "ipython3",
   "version": "3.9.7"
  }
 },
 "nbformat": 4,
 "nbformat_minor": 5
}
