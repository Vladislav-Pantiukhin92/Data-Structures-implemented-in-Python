{
 "cells": [
  {
   "cell_type": "markdown",
   "id": "aaa4b467",
   "metadata": {},
   "source": [
    "### Arrays - DS - HackerRank"
   ]
  },
  {
   "cell_type": "code",
   "execution_count": null,
   "id": "85e925a0",
   "metadata": {},
   "outputs": [],
   "source": [
    "\"\"\"\n",
    "Problem:\n",
    "An array is a type of data structure that stores elements of the same type in a contiguous block of \n",
    "memory. In an array, A, of size N, each memory location has some unique index, (where 0 ≤ i ≤ N), \n",
    "that can be referenced as A[i](you may also see it written as Ai).\n",
    "Given an array, A, of N integers, print each element in reverse order as a single line of space-separated integers.\n",
    "Note: If you’ve already solved our C++ domain’s Arrays Introduction challenge, you may want to skip this.\n",
    "Input Format\n",
    "The first line contains an integer, N (the number of integers in A).\n",
    "The second line contains N space-separated integers describing A.\n",
    "Constraints\n",
    "1 ≤ N ≤ 103\n",
    "1 ≤ Ai ≤ 104. where Ai is the ith integer in A\n",
    "Output Format\n",
    "Print all N integers in A in reverse order as a single line of space-separated integers.\n",
    "\"\"\"\n",
    "\n",
    "def reverseArray(a):\n",
    "    length = len(a) # First of all, let's determine the length of the given input array\n",
    "    # We are going to swap equidistant elements, using two pointers, while the first pointer <= the second \n",
    "    # pointer\n",
    "    i = 0 # The first pointer (starting position - 0)\n",
    "    j = length - 1 # The second pointer (starting position - the last element)\n",
    "    while i <= j:\n",
    "        a[i], a[j] = a[j], a[i] # The swapping procedure\n",
    "        i += 1\n",
    "        j -= 1\n",
    "    return a # The reversed array is returned"
   ]
  }
 ],
 "metadata": {
  "kernelspec": {
   "display_name": "Python 3 (ipykernel)",
   "language": "python",
   "name": "python3"
  },
  "language_info": {
   "codemirror_mode": {
    "name": "ipython",
    "version": 3
   },
   "file_extension": ".py",
   "mimetype": "text/x-python",
   "name": "python",
   "nbconvert_exporter": "python",
   "pygments_lexer": "ipython3",
   "version": "3.9.7"
  }
 },
 "nbformat": 4,
 "nbformat_minor": 5
}
