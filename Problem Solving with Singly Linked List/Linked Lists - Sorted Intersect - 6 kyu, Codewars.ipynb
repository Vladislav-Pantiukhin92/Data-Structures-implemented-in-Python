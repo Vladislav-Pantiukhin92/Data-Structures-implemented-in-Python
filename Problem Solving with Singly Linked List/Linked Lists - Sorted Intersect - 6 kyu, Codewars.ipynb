{
 "cells": [
  {
   "cell_type": "markdown",
   "id": "072046a1",
   "metadata": {},
   "source": [
    "### Linked Lists - Sorted Intersect - 6 kyu, Codewars"
   ]
  },
  {
   "cell_type": "code",
   "execution_count": null,
   "id": "fceb2cbc",
   "metadata": {},
   "outputs": [],
   "source": [
    "\"\"\"\n",
    "Linked Lists - Sorted Intersect\n",
    "Write a SortedIntersect() function which creates and returns a list representing the intersection of two \n",
    "lists that are sorted in increasing order. Ideally, each list should only be traversed once. \n",
    "The resulting list should not contain duplicates.\n",
    "\n",
    "var first = 1 -> 2 -> 2 -> 3 -> 3 -> 6 -> null\n",
    "var second = 1 -> 3 -> 4 -> 5 -> -> 6 -> null\n",
    "sortedIntersect(first, second) === 1 -> 3 -> 6 -> null\n",
    "\"\"\"\n",
    "\n",
    "class Node(object):\n",
    "    def __init__(self, data=None):\n",
    "        self.data = data\n",
    "        self.next = None\n",
    "    \n",
    "def sorted_intersect(first, second):\n",
    "    if first is None and second is None: # If both Singly Linked Lists are empty - we return None\n",
    "        return None\n",
    "    elif first is None or second is None: # If the first Singly Linked List is empty or the second Singly \n",
    "        # Linked List is empty - we return None\n",
    "        return None\n",
    "    else:\n",
    "    # If both Singly Linked Lists are non-empty - we create two simple empty lists\n",
    "        first_lst = [] # The first list will store nodes' values of the first Singly Linked List\n",
    "        intersection = [] # The second list will represent the intersection of two lists. This list will be returned\n",
    "        current = first\n",
    "        while current: # While traversing the Singly Linked List, all nodes' values are added to the first list\n",
    "            curValue = current.data\n",
    "            first_lst.append(curValue)\n",
    "            current = current.next\n",
    "        current = second\n",
    "        while current: # While traversing the second Singly Linked List, we already compare the nodes' values of the \n",
    "            # second Singly Linked List with elements from the first list container\n",
    "            curValue = current.data\n",
    "            if curValue in first_lst and curValue not in intersection:\n",
    "                intersection.append(curValue) # If the intersection takes place, we add the relevant value to the intersection list\n",
    "            current = current.next\n",
    "        if not intersection: # If the intersection list contains no elements - we return None value\n",
    "            return None\n",
    "        else:\n",
    "            head = Node(intersection[0]) \n",
    "            if len(intersection) == 1: # If the intersection list contains exactly 1 element - we return just \n",
    "                # the head\n",
    "                return head # The head is returned\n",
    "            else:\n",
    "            # If the intersection list contains over 1 element, we are going to restore the Singly Linked List, \n",
    "            # while looping over the elements from the intersection list\n",
    "                current = head\n",
    "                for i in intersection[1:]:\n",
    "                    current.next = Node(i)\n",
    "                    current = current.next\n",
    "                return head # The head is returned"
   ]
  }
 ],
 "metadata": {
  "kernelspec": {
   "display_name": "Python 3 (ipykernel)",
   "language": "python",
   "name": "python3"
  },
  "language_info": {
   "codemirror_mode": {
    "name": "ipython",
    "version": 3
   },
   "file_extension": ".py",
   "mimetype": "text/x-python",
   "name": "python",
   "nbconvert_exporter": "python",
   "pygments_lexer": "ipython3",
   "version": "3.9.7"
  }
 },
 "nbformat": 4,
 "nbformat_minor": 5
}
