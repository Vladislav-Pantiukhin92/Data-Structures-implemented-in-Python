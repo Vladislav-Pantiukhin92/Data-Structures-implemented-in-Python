{
 "cells": [
  {
   "cell_type": "markdown",
   "id": "ef276699",
   "metadata": {},
   "source": [
    "### Linked Lists - Insert Sort - 6 kyu, Codewars"
   ]
  },
  {
   "cell_type": "code",
   "execution_count": null,
   "id": "57723da2",
   "metadata": {},
   "outputs": [],
   "source": [
    "\"\"\"\n",
    "Linked Lists - Insert Sort\n",
    "\n",
    "Write an InsertSort() function which rearranges nodes in a linked list so they are sorted in increasing \n",
    "order. You can use the SortedInsert() function that you created in the \"Linked Lists - Sorted Insert\" kata \n",
    "below. The InsertSort() function takes the head of a linked list as an argument and must return the head \n",
    "of the linked list.\n",
    "\n",
    "var list = 4 -> 3 -> 1 -> 2 -> null\n",
    "insertSort(list) === 1 -> 2 -> 3 -> 4 -> null\n",
    "If the passed in head node is null or a single node, return null or the single node, respectively. \n",
    "You can assume that the head node will always be either null, a single node, or a linked list consisting \n",
    "of multiple nodes.\n",
    "The push(), buildOneTwoThree(), and sortedInsert() functions need not be redefined.\n",
    "\"\"\"\n",
    "\n",
    "class Node(object):\n",
    "    def __init__(self, data):\n",
    "        self.data = data\n",
    "        self.next = None\n",
    "    \n",
    "def insert_sort(head):\n",
    "    if head is None: # If the Singly Linked List is empty - we return None\n",
    "        return None\n",
    "    length = 0\n",
    "    current = head\n",
    "    while current:\n",
    "        length += 1\n",
    "        current = current.next\n",
    "    if length == 1: # If the length of the Singly Linked List is 1, we return just this one node\n",
    "        return head\n",
    "    else:\n",
    "    # If the length of the Singly Linked List is over 1 node - we will traverse the Singly Linked List and \n",
    "    # add values of nodes to the list container\n",
    "    \n",
    "        my_list = [] # The list container\n",
    "        current = head\n",
    "        while current:\n",
    "            curElement = current.data\n",
    "            my_list.append(curElement)\n",
    "            current = current.next\n",
    "        # When all nodes' values are added to the list, the next step is to sort the list of elements in \n",
    "        # ascending order through the Insertion Sort algorithm\n",
    "        def insertion_sort(array): # The Insertion Sort algorithm \n",
    "            for i in range(1, len(array)):\n",
    "                j = i\n",
    "                while j > 0 and array[j - 1] > array[j]:\n",
    "                    array[j - 1], array[j] = array[j], array[j - 1]\n",
    "                    j -= 1\n",
    "            return array\n",
    "        result = insertion_sort(my_list) # As a result, the list is sorted in ascending order\n",
    "        head = Node(result[0]) # Let's initialize the new head of the Singly Linked List\n",
    "        # The final operation is to restore the structure of the Singly Linked List, using the sorted list\n",
    "        current = head\n",
    "        for i in result[1:]:\n",
    "            newNode = Node(i)\n",
    "            current.next = newNode\n",
    "            current = current.next\n",
    "        return head # The head of the sorted Singly Linked List is returned"
   ]
  }
 ],
 "metadata": {
  "kernelspec": {
   "display_name": "Python 3 (ipykernel)",
   "language": "python",
   "name": "python3"
  },
  "language_info": {
   "codemirror_mode": {
    "name": "ipython",
    "version": 3
   },
   "file_extension": ".py",
   "mimetype": "text/x-python",
   "name": "python",
   "nbconvert_exporter": "python",
   "pygments_lexer": "ipython3",
   "version": "3.9.7"
  }
 },
 "nbformat": 4,
 "nbformat_minor": 5
}
