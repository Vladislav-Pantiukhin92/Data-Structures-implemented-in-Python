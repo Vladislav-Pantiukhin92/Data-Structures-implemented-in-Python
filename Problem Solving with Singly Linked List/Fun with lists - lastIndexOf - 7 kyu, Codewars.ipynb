{
 "cells": [
  {
   "cell_type": "markdown",
   "id": "8148baa4",
   "metadata": {},
   "source": [
    "### Fun with lists: lastIndexOf - 7 kyu, Codewars"
   ]
  },
  {
   "cell_type": "code",
   "execution_count": null,
   "id": "28966abc",
   "metadata": {},
   "outputs": [],
   "source": [
    "\"\"\"\n",
    "Implement the method lastIndexOf (last_index_of in PHP and Python), which accepts a linked list (head) \n",
    "and a value, and returns the index (zero based) of the last occurrence of that value if exists, or -1 otherwise.\n",
    "For example: Given the list: 1 -> 2 -> 3 -> 3, and the value 3, lastIndexOf / last_index_of should return 3.\n",
    "The linked list is defined as follows:\n",
    "\n",
    "class Node:\n",
    "    def __init__(self, data, next=None): \n",
    "        self.data = data\n",
    "        self.next = next\n",
    "Note: the list may be null/None and can hold any type of value.\n",
    "\n",
    "Good luck!\n",
    "\"\"\"\n",
    "\n",
    "def last_index_of(head, search_val):\n",
    "    index = -1 # The initial index is -1, it will be returned if the relevant value is not found within the \n",
    "    # Singly Linked List\n",
    "    count = 0 # The variable will count the current index of the node\n",
    "    if head is None: # If the Singly Linked List is empty - we return index -1\n",
    "        return index\n",
    "    else:\n",
    "        # If the Singly Linked List is not empty we will traverse the structure and verify the value of nodes\n",
    "        # If the relevant value is found - the index is updated\n",
    "        current = head\n",
    "        while current:\n",
    "            if current.data == search_val:\n",
    "                index = count\n",
    "            current = current.next\n",
    "            count += 1\n",
    "        return index # The last index of the real value (if it exists) is returned"
   ]
  }
 ],
 "metadata": {
  "kernelspec": {
   "display_name": "Python 3 (ipykernel)",
   "language": "python",
   "name": "python3"
  },
  "language_info": {
   "codemirror_mode": {
    "name": "ipython",
    "version": 3
   },
   "file_extension": ".py",
   "mimetype": "text/x-python",
   "name": "python",
   "nbconvert_exporter": "python",
   "pygments_lexer": "ipython3",
   "version": "3.9.7"
  }
 },
 "nbformat": 4,
 "nbformat_minor": 5
}
