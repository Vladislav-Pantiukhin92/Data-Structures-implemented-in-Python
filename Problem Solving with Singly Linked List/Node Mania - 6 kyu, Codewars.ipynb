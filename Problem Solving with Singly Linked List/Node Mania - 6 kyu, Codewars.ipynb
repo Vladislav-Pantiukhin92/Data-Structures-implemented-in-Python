{
 "cells": [
  {
   "cell_type": "markdown",
   "id": "bb682101",
   "metadata": {},
   "source": [
    "### Node Mania - 6 kyu, Codewars"
   ]
  },
  {
   "cell_type": "code",
   "execution_count": null,
   "id": "bd2de0ea",
   "metadata": {},
   "outputs": [],
   "source": [
    "\"\"\"\n",
    "This kata is about singly linked list. A linked list is an ordered set of data elements, each \n",
    "containing a link to its successor (and sometimes its predecessor, known as a double linked list). \n",
    "You are you to implement an algorithm to find the kth to last element.\n",
    "For example given a linked list of:\n",
    "\n",
    "a -> b -> c -> d\n",
    "\n",
    "if k is the number one then d should be returned\n",
    "if k is the number two then c should be returned\n",
    "if k is the number three then b should be returned\n",
    "if k is the number four then a should be returned\n",
    "if k exceeds the size of the list then None returned\n",
    "Special Note --> Node classes contain two fields; data and next. And to access the head of the list, \n",
    "use head. e.g. linked_list.head\n",
    "\"\"\"\n",
    "\n",
    "# pass in the linked list\n",
    "# to access the head of the linked list\n",
    "# linked_list.head\n",
    "def search_k_from_end(linked_list, k):\n",
    "    def len_func(head): # Let's determine the length of the Singly Linked List (the number of nodes within the \n",
    "    # Singly Linked List)\n",
    "        if head is None: # The length is 0, if the Singly Linked List is empty\n",
    "            return 0\n",
    "        else:\n",
    "        # To determine the length, we are going to traverse the Singly Linked List and count valid nodes\n",
    "            current = head\n",
    "            count = 0\n",
    "            while current:\n",
    "                count += 1\n",
    "                current = current.next\n",
    "            return count\n",
    "    length = len_func(linked_list.head) # The length is returned\n",
    "    if k > length: # If the 'k' parameter is larger than the calculated length of the Singly Linked List, we are \n",
    "        # not able to return anything, except the None value\n",
    "        return None\n",
    "    else:\n",
    "    # Otherwise, we traverse the Singly Linked List, simultaneously reducing the length by 1, while the length doesn't \n",
    "    # equal to the 'k' parameter. Then we return the value of the node\n",
    "        curLen = length\n",
    "        current = linked_list.head\n",
    "        while curLen != k:\n",
    "            current = current.next\n",
    "            curLen -= 1\n",
    "        return current.data"
   ]
  }
 ],
 "metadata": {
  "kernelspec": {
   "display_name": "Python 3 (ipykernel)",
   "language": "python",
   "name": "python3"
  },
  "language_info": {
   "codemirror_mode": {
    "name": "ipython",
    "version": 3
   },
   "file_extension": ".py",
   "mimetype": "text/x-python",
   "name": "python",
   "nbconvert_exporter": "python",
   "pygments_lexer": "ipython3",
   "version": "3.9.7"
  }
 },
 "nbformat": 4,
 "nbformat_minor": 5
}
