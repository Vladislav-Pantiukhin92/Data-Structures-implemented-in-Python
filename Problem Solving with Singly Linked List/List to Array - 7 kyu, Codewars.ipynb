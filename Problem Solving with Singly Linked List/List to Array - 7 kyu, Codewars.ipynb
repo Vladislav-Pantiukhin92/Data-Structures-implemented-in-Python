{
 "cells": [
  {
   "cell_type": "markdown",
   "id": "3b3267aa",
   "metadata": {},
   "source": [
    "### List to Array - 7 kyu, Codewars"
   ]
  },
  {
   "cell_type": "code",
   "execution_count": null,
   "id": "b445e687",
   "metadata": {},
   "outputs": [],
   "source": [
    "\"\"\"\n",
    "Linked lists are data structures composed of nested or chained objects, each containing a single value \n",
    "and a reference to the next object.\n",
    "Here's an example of a list:\n",
    "\n",
    "class LinkedList:\n",
    "    def __init__(self, value=0, next=None):\n",
    "        self.value = value\n",
    "        self.next = next\n",
    "        \n",
    "LinkedList(1, LinkedList(2, LinkedList(3)))\n",
    "Write a function listToArray (or list_to_array in Python) that converts a list to an array, like this:\n",
    "\n",
    "[1, 2, 3]\n",
    "Assume all inputs are valid lists with at least one value. For the purpose of simplicity, all values will \n",
    "be either numbers, strings, or Booleans.\n",
    "\"\"\"\n",
    "\n",
    "def list_to_array(node):\n",
    "    final = [] # The list, which will store values of nodes from the Singly Linked List\n",
    "    if node is None: # If the Singly Linked List is empty - we return an empty list\n",
    "        return final\n",
    "    else:\n",
    "    # Otherwise, we traverse the Singly Linked List and extract nodes' values, which are added to the final list\n",
    "        current = node\n",
    "        while current:\n",
    "            curElement = current.value\n",
    "            final.append(curElement)\n",
    "            current = current.next\n",
    "        return final # The final list is returned"
   ]
  }
 ],
 "metadata": {
  "kernelspec": {
   "display_name": "Python 3 (ipykernel)",
   "language": "python",
   "name": "python3"
  },
  "language_info": {
   "codemirror_mode": {
    "name": "ipython",
    "version": 3
   },
   "file_extension": ".py",
   "mimetype": "text/x-python",
   "name": "python",
   "nbconvert_exporter": "python",
   "pygments_lexer": "ipython3",
   "version": "3.9.7"
  }
 },
 "nbformat": 4,
 "nbformat_minor": 5
}
