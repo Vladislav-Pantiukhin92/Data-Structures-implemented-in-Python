{
 "cells": [
  {
   "cell_type": "markdown",
   "id": "a126e70f",
   "metadata": {},
   "source": [
    "### Delete a Node - HackerRank"
   ]
  },
  {
   "cell_type": "code",
   "execution_count": null,
   "id": "1cc6c6e3",
   "metadata": {},
   "outputs": [],
   "source": [
    "\"\"\"\n",
    "You’re given the pointer to the head node of a linked list and the position of a node to delete. \n",
    "Delete the node at the given position and return the head node. A position of 0 indicates head, a position of 1\n",
    "indicates one node away from the head and so on. The list may become empty after you delete the node.\n",
    "Input Format\n",
    "You have to complete the Node* Delete(Node* head, int position) method which takes two arguments -\n",
    "the head of the linked list and the position of the node to delete. You should NOT read any input from\n",
    "stdin/console. position will always be at least 0 and less than the number of the elements in the list.\n",
    "Output Format\n",
    "Delete the node at the given position and return the head of the updated linked list. Do NOT print\n",
    "anything to stdout/console.\n",
    "Sample Input\n",
    "1 --> 2 --> 3 --> NULL, position = 0\n",
    "1 --> NULL , position = 0\n",
    "\"\"\"\n",
    "\n",
    "def deleteNode(llist, position):\n",
    "    if position == 0: # If we have to deal with the deletion of the first node - we just move the pointer forward\n",
    "        llist = llist.next\n",
    "        return llist\n",
    "    else:\n",
    "    # If we have to deal with the deletion of other nodes:\n",
    "        current = llist\n",
    "        for _ in range(1, position): # Through the 'for loop' we are going to traverse the Singly Linked List, \n",
    "            # while the certain index position is not attained\n",
    "            prevNode = current\n",
    "            current = current.next\n",
    "        if current.next: # The case when we have to remove a node within the Singly Linked List (excl. the first \n",
    "            # node and the last node)\n",
    "            current.next = current.next.next\n",
    "            return llist\n",
    "        else: # The case, when we have to delete the last node:\n",
    "            prevNode.next = None\n",
    "            return llist"
   ]
  }
 ],
 "metadata": {
  "kernelspec": {
   "display_name": "Python 3 (ipykernel)",
   "language": "python",
   "name": "python3"
  },
  "language_info": {
   "codemirror_mode": {
    "name": "ipython",
    "version": 3
   },
   "file_extension": ".py",
   "mimetype": "text/x-python",
   "name": "python",
   "nbconvert_exporter": "python",
   "pygments_lexer": "ipython3",
   "version": "3.9.7"
  }
 },
 "nbformat": 4,
 "nbformat_minor": 5
}
