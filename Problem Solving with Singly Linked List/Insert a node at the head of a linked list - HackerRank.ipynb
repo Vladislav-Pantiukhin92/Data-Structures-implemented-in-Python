{
 "cells": [
  {
   "cell_type": "markdown",
   "id": "7960b4f6",
   "metadata": {},
   "source": [
    "### Insert a node at the head of a linked list - HackerRank"
   ]
  },
  {
   "cell_type": "code",
   "execution_count": null,
   "id": "20be3fac",
   "metadata": {},
   "outputs": [],
   "source": [
    "\"\"\"\n",
    "You’re given the pointer to the head node of a linked list and an integer to add to the list. Create a new\n",
    "node with the given integer, insert this node at the head of the linked list and return the new head node.\n",
    "The head pointer given may be null meaning that the initial list is empty.\n",
    "Input Format\n",
    "You have to complete the Node* Insert(Node* head, int data) method which takes two arguments - the\n",
    "head of the linked list and the integer to insert. You should NOT read any input from stdin/console.\n",
    "Output Format\n",
    "Insert the new node at the head and return the head of the updated linked list. Do NOT print anything to\n",
    "stdout/console.\n",
    "Sample Input\n",
    "NULL , data = 1\n",
    "1 --> NULL , data = 2\n",
    "\"\"\"\n",
    "\n",
    "def insertNodeAtHead(llist, data):\n",
    "# First of all, we should initialize the new node:\n",
    "    newNode = SinglyLinkedListNode(data)\n",
    "# When the new node is created, let's insert it:\n",
    "    newNode.next = llist\n",
    "    llist = newNode\n",
    "    return llist # The new head of the Singly Linked List is returned"
   ]
  }
 ],
 "metadata": {
  "kernelspec": {
   "display_name": "Python 3 (ipykernel)",
   "language": "python",
   "name": "python3"
  },
  "language_info": {
   "codemirror_mode": {
    "name": "ipython",
    "version": 3
   },
   "file_extension": ".py",
   "mimetype": "text/x-python",
   "name": "python",
   "nbconvert_exporter": "python",
   "pygments_lexer": "ipython3",
   "version": "3.9.7"
  }
 },
 "nbformat": 4,
 "nbformat_minor": 5
}
