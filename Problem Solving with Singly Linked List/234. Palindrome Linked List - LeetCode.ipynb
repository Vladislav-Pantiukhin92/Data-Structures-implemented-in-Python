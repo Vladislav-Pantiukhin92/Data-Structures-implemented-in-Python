{
 "cells": [
  {
   "cell_type": "markdown",
   "id": "00506977",
   "metadata": {},
   "source": [
    "### 234. Palindrome Linked List"
   ]
  },
  {
   "cell_type": "code",
   "execution_count": null,
   "id": "b1a2d285",
   "metadata": {},
   "outputs": [],
   "source": [
    "\"\"\"\n",
    "Given the head of a singly linked list, return true if it is a palindrome.\n",
    "Example 1:\n",
    "Input: head = [1,2,2,1]\n",
    "Output: true\n",
    "Example 2:\n",
    "Input: head = [1,2]\n",
    "Output: false\n",
    "\"\"\"\n",
    "# Definition for singly-linked list.\n",
    "# class ListNode:\n",
    "#     def __init__(self, val=0, next=None):\n",
    "#         self.val = val\n",
    "#         self.next = next\n",
    "\n",
    "from collections import deque\n",
    "\n",
    "class Solution:\n",
    "    def isPalindrome(self, head: Optional[ListNode]) -> bool:\n",
    "        # We are going to create two lists\n",
    "        # While traversing the Singly Linked List we are going to append the nodes' values to the front of the \n",
    "        # first list and to the rear of the second list\n",
    "        my_list1 = []\n",
    "        my_list2 = deque()\n",
    "        current = head\n",
    "        while current:\n",
    "            curElement = current.val\n",
    "            my_list1.append(curElement)\n",
    "            my_list2.appendleft(curElement)\n",
    "            current = current.next\n",
    "        my_list2 = list(my_list2)\n",
    "        # When two lists are created and subsequently filled with values, it is necessary to compare their content\n",
    "        # If two lists are totally equal, the Singly Linked List is a palindrome, otherwise - return False\n",
    "        i = 0\n",
    "        j = 0\n",
    "        while i < len(my_list1):\n",
    "            if my_list1[i] != my_list2[j]:\n",
    "                return False\n",
    "            i += 1\n",
    "            j += 1\n",
    "        return True"
   ]
  }
 ],
 "metadata": {
  "kernelspec": {
   "display_name": "Python 3 (ipykernel)",
   "language": "python",
   "name": "python3"
  },
  "language_info": {
   "codemirror_mode": {
    "name": "ipython",
    "version": 3
   },
   "file_extension": ".py",
   "mimetype": "text/x-python",
   "name": "python",
   "nbconvert_exporter": "python",
   "pygments_lexer": "ipython3",
   "version": "3.9.7"
  }
 },
 "nbformat": 4,
 "nbformat_minor": 5
}
