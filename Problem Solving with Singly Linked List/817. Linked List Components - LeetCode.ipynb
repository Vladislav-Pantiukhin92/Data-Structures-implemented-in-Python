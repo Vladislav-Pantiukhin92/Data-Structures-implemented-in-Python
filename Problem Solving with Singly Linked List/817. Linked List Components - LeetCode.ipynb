{
 "cells": [
  {
   "cell_type": "markdown",
   "id": "881b7b42",
   "metadata": {},
   "source": [
    "### 817. Linked List Components"
   ]
  },
  {
   "cell_type": "code",
   "execution_count": null,
   "id": "08a975af",
   "metadata": {},
   "outputs": [],
   "source": [
    "\"\"\"\n",
    "You are given the head of a linked list containing unique integer values and an integer array nums that \n",
    "is a subset of the linked list values.\n",
    "Return the number of connected components in nums where two values are connected if they appear \n",
    "consecutively in the linked list.\n",
    "Example 1:\n",
    "\n",
    "Input: head = [0,1,2,3], nums = [0,1,3]\n",
    "Output: 2\n",
    "Explanation: 0 and 1 are connected, so [0, 1] and [3] are the two connected components.\n",
    "Example 2:\n",
    "\n",
    "Input: head = [0,1,2,3,4], nums = [0,3,1,4]\n",
    "Output: 2\n",
    "Explanation: 0 and 1 are connected, 3 and 4 are connected, so [0, 1] and [3, 4] are the two connected components.\n",
    "\"\"\"\n",
    "\n",
    "# Definition for singly-linked list.\n",
    "# class ListNode:\n",
    "#     def __init__(self, val=0, next=None):\n",
    "#         self.val = val\n",
    "#         self.next = next\n",
    "\n",
    "class Solution:\n",
    "    def numComponents(self, head: Optional[ListNode], nums: List[int]) -> int:\n",
    "        if head is None: # The Singly Linked List can be empty - so in this case we return 0\n",
    "            return 0\n",
    "        else:\n",
    "            connected = 0\n",
    "            current = head\n",
    "            # Through the 'while loop' we try to extract connection chunks\n",
    "            while True:\n",
    "                if current and current.val in nums: # While connection is clear we continue to traverse the \n",
    "                    # Singly Linked List. In the meantime we count these connection chunks\n",
    "                    connected += 1\n",
    "                    while current and current.val in nums:\n",
    "                        current = current.next\n",
    "                    if not current: # If we attained the last node - we return the number of connection chunks\n",
    "                        return connected\n",
    "                elif current and not current.val in nums: # When there is no connection - we omit some nodes\n",
    "                    current = current.next\n",
    "                else:\n",
    "                    return connected # Finally we return the number of connection chunks"
   ]
  }
 ],
 "metadata": {
  "kernelspec": {
   "display_name": "Python 3 (ipykernel)",
   "language": "python",
   "name": "python3"
  },
  "language_info": {
   "codemirror_mode": {
    "name": "ipython",
    "version": 3
   },
   "file_extension": ".py",
   "mimetype": "text/x-python",
   "name": "python",
   "nbconvert_exporter": "python",
   "pygments_lexer": "ipython3",
   "version": "3.9.7"
  }
 },
 "nbformat": 4,
 "nbformat_minor": 5
}
