{
 "cells": [
  {
   "cell_type": "markdown",
   "id": "be584b20",
   "metadata": {},
   "source": [
    "### 2181. Merge Nodes in Between Zeros"
   ]
  },
  {
   "cell_type": "code",
   "execution_count": null,
   "id": "43aa88e1",
   "metadata": {},
   "outputs": [],
   "source": [
    "\"\"\"\n",
    "You are given the head of a linked list, which contains a series of integers separated by 0's. \n",
    "The beginning and end of the linked list will have Node.val == 0.\n",
    "For every two consecutive 0's, merge all the nodes lying in between them into a single node whose \n",
    "value is the sum of all the merged nodes. The modified list should not contain any 0's.\n",
    "Return the head of the modified linked list.\n",
    "Example 1:\n",
    "Input: head = [0,3,1,0,4,5,2,0]\n",
    "Output: [4,11]\n",
    "Explanation: \n",
    "The above figure represents the given linked list. The modified list contains\n",
    "- The sum of the nodes marked in green: 3 + 1 = 4.\n",
    "- The sum of the nodes marked in red: 4 + 5 + 2 = 11.\n",
    "Example 2:\n",
    "\n",
    "Input: head = [0,1,0,3,0,2,2,0]\n",
    "Output: [1,3,4]\n",
    "Explanation: \n",
    "The above figure represents the given linked list. The modified list contains\n",
    "- The sum of the nodes marked in green: 1 = 1.\n",
    "- The sum of the nodes marked in red: 3 = 3.\n",
    "- The sum of the nodes marked in yellow: 2 + 2 = 4.\n",
    "\"\"\"\n",
    "\n",
    "# Definition for singly-linked list.\n",
    "# class ListNode:\n",
    "#     def __init__(self, val=0, next=None):\n",
    "#         self.val = val\n",
    "#         self.next = next\n",
    "\n",
    "class Solution:\n",
    "    def mergeNodes(self, head: Optional[ListNode]) -> Optional[ListNode]:\n",
    "        head = head.next # We are able to exclude the first zero just by moving the head forward\n",
    "        current = head\n",
    "        my_list = [] # Let's create the list, which will contain all real values of nodes (which are added together)\n",
    "        while current: # Let's traverse the Singly Linked List\n",
    "            count = 0\n",
    "            if current.val != 0: # If the value of the node != 0 - we count this value\n",
    "                while current.val != 0:\n",
    "                    count += current.val \n",
    "                    current = current.next\n",
    "                my_list.append(count) # When the sequence of non-zero values came to an end, we append the \n",
    "                # addition result to the rear of the list\n",
    "            else:\n",
    "                while current.val == 0: # The zero-sequences are being omitted\n",
    "                    current = current.next\n",
    "                    if not current:\n",
    "                        break\n",
    "        # Finally, we obtained the list with values of nodes (adjacent values were added together)\n",
    "        head = ListNode(my_list[0]) # 'head' is the new initialized node (through class 'ListNode') with the first\n",
    "        # value from the list (index - [0])\n",
    "        current = head\n",
    "        for i in range(1, len(my_list)): # The 'for loop' is used to link nodes with values from the list\n",
    "            current.next = ListNode(my_list[i])\n",
    "            current = current.next\n",
    "        return head\n",
    "    \n"
   ]
  }
 ],
 "metadata": {
  "kernelspec": {
   "display_name": "Python 3 (ipykernel)",
   "language": "python",
   "name": "python3"
  },
  "language_info": {
   "codemirror_mode": {
    "name": "ipython",
    "version": 3
   },
   "file_extension": ".py",
   "mimetype": "text/x-python",
   "name": "python",
   "nbconvert_exporter": "python",
   "pygments_lexer": "ipython3",
   "version": "3.9.7"
  }
 },
 "nbformat": 4,
 "nbformat_minor": 5
}
