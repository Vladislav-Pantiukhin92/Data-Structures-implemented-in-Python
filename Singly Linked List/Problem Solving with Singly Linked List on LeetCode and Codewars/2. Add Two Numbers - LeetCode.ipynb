{
 "cells": [
  {
   "cell_type": "markdown",
   "id": "b76aa0c7",
   "metadata": {},
   "source": [
    "### 2. Add Two Numbers"
   ]
  },
  {
   "cell_type": "code",
   "execution_count": null,
   "id": "f15bdd19",
   "metadata": {},
   "outputs": [],
   "source": [
    "\"\"\"\n",
    "You are given two non-empty linked lists representing two non-negative integers. \n",
    "The digits are stored in reverse order, and each of their nodes contains a single digit. \n",
    "\\Add the two numbers and return the sum as a linked list.\n",
    "You may assume the two numbers do not contain any leading zero, except the number 0 itself.\n",
    "Example 1:\n",
    "Input: l1 = [2,4,3], l2 = [5,6,4]\n",
    "Output: [7,0,8]\n",
    "Explanation: 342 + 465 = 807.\n",
    "Example 2:\n",
    "Input: l1 = [0], l2 = [0]\n",
    "Output: [0]\n",
    "Example 3:\n",
    "Input: l1 = [9,9,9,9,9,9,9], l2 = [9,9,9,9]\n",
    "Output: [8,9,9,9,0,0,0,1]\n",
    "\"\"\"\n",
    "\n",
    "# Definition for singly-linked list.\n",
    "# class ListNode:\n",
    "#     def __init__(self, val=0, next=None):\n",
    "#         self.val = val\n",
    "#         self.next = next\n",
    "\n",
    "from collections import deque # 'collections.deque' will help to store the nodes' values of two Singly Linked Lists\n",
    "\n",
    "class Solution:\n",
    "    def addTwoNumbers(self, l1: Optional[ListNode], l2: Optional[ListNode]) -> Optional[ListNode]:\n",
    "        # The first step is to launch two deque structures, which will contain the nodes' values of two Singly \n",
    "        # Linked Lists \n",
    "        list1 = deque() # The first deque structure\n",
    "        list2 = deque() # The second deque structure\n",
    "        current = l1\n",
    "        while current: # Let's extract values from nodes of the first Singly Linked List\n",
    "            curElement = current.val\n",
    "            list1.appendleft(curElement)\n",
    "            current = current.next\n",
    "        current = l2\n",
    "        while current: # Let's extract values from nodes of the second Singly Linked List\n",
    "            curElement = current.val\n",
    "            list2.appendleft(curElement)\n",
    "            current = current.next\n",
    "        # When two lists are filled with all nodes' values it is important to transform them into the integer type\n",
    "        num1 = int(\"\".join(list(map(str, list(list1)))))\n",
    "        num2 = int(\"\".join(list(map(str, list(list2)))))\n",
    "        result = list(map(int, list(str(num1 + num2))))[::-1] # Obtained integers are added together, split again as well \n",
    "        # as reversed\n",
    "        # The final step is to restore the Singly Linked List\n",
    "        l1 = ListNode(result[0])\n",
    "        current = l1\n",
    "        for i in range(1, len(result)):\n",
    "            current.next = ListNode(result[i])\n",
    "            current = current.next\n",
    "        return l1"
   ]
  }
 ],
 "metadata": {
  "kernelspec": {
   "display_name": "Python 3 (ipykernel)",
   "language": "python",
   "name": "python3"
  },
  "language_info": {
   "codemirror_mode": {
    "name": "ipython",
    "version": 3
   },
   "file_extension": ".py",
   "mimetype": "text/x-python",
   "name": "python",
   "nbconvert_exporter": "python",
   "pygments_lexer": "ipython3",
   "version": "3.9.7"
  }
 },
 "nbformat": 4,
 "nbformat_minor": 5
}
