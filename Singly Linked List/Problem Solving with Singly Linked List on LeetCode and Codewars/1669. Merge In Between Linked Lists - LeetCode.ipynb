{
 "cells": [
  {
   "cell_type": "markdown",
   "id": "d9e486ec",
   "metadata": {},
   "source": [
    "### 1669. Merge In Between Linked Lists"
   ]
  },
  {
   "cell_type": "code",
   "execution_count": null,
   "id": "c3162f21",
   "metadata": {},
   "outputs": [],
   "source": [
    "\"\"\"\n",
    "You are given two linked lists: list1 and list2 of sizes n and m respectively.\n",
    "Remove list1's nodes from the ath node to the bth node, and put list2 in their place.\n",
    "The blue edges and nodes in the following figure indicate the result:\n",
    "Build the result list and return its head.\n",
    "Example 1:\n",
    "Input: list1 = [0,1,2,3,4,5], a = 3, b = 4, list2 = [1000000,1000001,1000002]\n",
    "Output: [0,1,2,1000000,1000001,1000002,5]\n",
    "Explanation: We remove the nodes 3 and 4 and put the entire list2 in their place. The blue edges and nodes in the above figure indicate the result.\n",
    "Example 2:\n",
    "\n",
    "Input: list1 = [0,1,2,3,4,5,6], a = 2, b = 5, list2 = [1000000,1000001,1000002,1000003,1000004]\n",
    "Output: [0,1,1000000,1000001,1000002,1000003,1000004,6]\n",
    "Explanation: The blue edges and nodes in the above figure indicate the result.\n",
    "\"\"\"\n",
    "\n",
    "# Definition for singly-linked list.\n",
    "# class ListNode:\n",
    "#     def __init__(self, val=0, next=None):\n",
    "#         self.val = val\n",
    "#         self.next = next\n",
    "\n",
    "class Solution:\n",
    "    def mergeInBetween(self, list1: ListNode, a: int, b: int, list2: ListNode) -> ListNode:\n",
    "        current = list1\n",
    "        count = 0\n",
    "        # Firstly, we are going to traverse the Singly Linked List while 'a' is not met\n",
    "        while count != a:\n",
    "            prevNode = current \n",
    "            current = current.next\n",
    "            count += 1 \n",
    "        # When 'a' is met, the position is remembered and after that we continue traversing the Singly Linked \n",
    "        # List while 'b' is not met - the second position is remembered as well \n",
    "        # Finally, the range between 'a' and 'b' inclusively is omitted and two remaining parts are attached to each other\n",
    "        while count != b:\n",
    "            current = current.next\n",
    "            count += 1\n",
    "        prevNode.next = list2\n",
    "        newNode = list2\n",
    "        while newNode.next:\n",
    "            newNode = newNode.next\n",
    "        newNode.next = current.next\n",
    "        return list1"
   ]
  }
 ],
 "metadata": {
  "kernelspec": {
   "display_name": "Python 3 (ipykernel)",
   "language": "python",
   "name": "python3"
  },
  "language_info": {
   "codemirror_mode": {
    "name": "ipython",
    "version": 3
   },
   "file_extension": ".py",
   "mimetype": "text/x-python",
   "name": "python",
   "nbconvert_exporter": "python",
   "pygments_lexer": "ipython3",
   "version": "3.9.7"
  }
 },
 "nbformat": 4,
 "nbformat_minor": 5
}
