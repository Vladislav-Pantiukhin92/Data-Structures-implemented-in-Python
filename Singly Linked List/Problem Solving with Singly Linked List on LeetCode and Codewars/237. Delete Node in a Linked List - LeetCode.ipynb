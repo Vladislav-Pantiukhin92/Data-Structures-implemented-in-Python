{
 "cells": [
  {
   "cell_type": "markdown",
   "id": "0324baf0",
   "metadata": {},
   "source": [
    "### 237. Delete Node in a Linked List"
   ]
  },
  {
   "cell_type": "code",
   "execution_count": null,
   "id": "c2a11dba",
   "metadata": {},
   "outputs": [],
   "source": [
    "\"\"\"\n",
    "Write a function to delete a node in a singly-linked list. You will not be given access to the head of \n",
    "the list, instead you will be given access to the node to be deleted directly.\n",
    "It is guaranteed that the node to be deleted is not a tail node in the list.\n",
    "Example 1:\n",
    "\n",
    "Input: head = [4,5,1,9], node = 5\n",
    "Output: [4,1,9]\n",
    "Explanation: You are given the second node with value 5, the linked list should become 4 -> 1 -> 9 after \n",
    "calling your function.\n",
    "Example 2:\n",
    "\n",
    "Input: head = [4,5,1,9], node = 1\n",
    "Output: [4,5,9]\n",
    "Explanation: You are given the third node with value 1, the linked list should become 4 -> 5 -> 9 after \n",
    "calling your function.\n",
    "\"\"\"\n",
    "# Definition for singly-linked list.\n",
    "# class ListNode:\n",
    "#     def __init__(self, x):\n",
    "#         self.val = x\n",
    "#         self.next = None\n",
    "\n",
    "class Solution:\n",
    "# The major difficulty is that we don't have the head of the Singly Linked List\n",
    "# This is why we have the following solution strategy:\n",
    "    def deleteNode(self, node):\n",
    "        temp = node.next\n",
    "        values_lst = [] # First of all, we traverse the Singly Linked List from the given node.next and \n",
    "        # replicate all values of nodes, adding them to the list container (as we are going to remove the given \n",
    "        # node, its value is not added to the list)\n",
    "        while temp:\n",
    "            curElem = temp.val\n",
    "            values_lst.append(curElem) # While traversing the Singly Linked List, all values from the input node.next\n",
    "            # are added to the list\n",
    "            temp = temp.next\n",
    "        current = node\n",
    "        # When all nodes' values are added to the list, we will replace the old values of nodes (starting from the \n",
    "        # input node) with the new nodes' values\n",
    "        for i in range(len(values_lst)):\n",
    "            if i == len(values_lst) - 1:\n",
    "                curValue = values_lst[i]\n",
    "                current.val = curValue\n",
    "                current.next = None\n",
    "                break \n",
    "            else:\n",
    "                current.val = values_lst[i]\n",
    "                current = current.next"
   ]
  }
 ],
 "metadata": {
  "kernelspec": {
   "display_name": "Python 3 (ipykernel)",
   "language": "python",
   "name": "python3"
  },
  "language_info": {
   "codemirror_mode": {
    "name": "ipython",
    "version": 3
   },
   "file_extension": ".py",
   "mimetype": "text/x-python",
   "name": "python",
   "nbconvert_exporter": "python",
   "pygments_lexer": "ipython3",
   "version": "3.9.7"
  }
 },
 "nbformat": 4,
 "nbformat_minor": 5
}
