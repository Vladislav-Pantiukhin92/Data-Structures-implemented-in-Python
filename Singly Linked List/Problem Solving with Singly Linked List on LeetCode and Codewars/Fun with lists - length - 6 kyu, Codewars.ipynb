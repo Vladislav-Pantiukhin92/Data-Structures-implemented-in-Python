{
 "cells": [
  {
   "cell_type": "markdown",
   "id": "4fca9a1b",
   "metadata": {},
   "source": [
    "### Fun with lists: length - 6 kyu, Codewars"
   ]
  },
  {
   "cell_type": "code",
   "execution_count": null,
   "id": "6d9456fd",
   "metadata": {},
   "outputs": [],
   "source": [
    "\"\"\"\n",
    "Implement the method length, which accepts a linked list (head), and returns the length of the list.\n",
    "For example: Given the list: 1 -> 2 -> 3 -> 4, length should return 4.\n",
    "The linked list is defined as follows:\n",
    "\n",
    "class Node:\n",
    "    def __init__(self, data, next=None): \n",
    "        self.data = data\n",
    "        self.next = next\n",
    "Note: the list may be null and can hold any type of value.\n",
    "Good luck!\n",
    "\"\"\"\n",
    "\n",
    "def length(head): \n",
    "    count = 0 # If the Singly Linked List is empty - we return 0\n",
    "    if head is None:\n",
    "        return count\n",
    "    else:\n",
    "    # Otherwise, we are going to traverse the Singly Linked List and count valid nodes\n",
    "        current = head\n",
    "        while current:\n",
    "            count += 1\n",
    "            current = current.next\n",
    "        return count # The total number of valid nodes is returned"
   ]
  }
 ],
 "metadata": {
  "kernelspec": {
   "display_name": "Python 3 (ipykernel)",
   "language": "python",
   "name": "python3"
  },
  "language_info": {
   "codemirror_mode": {
    "name": "ipython",
    "version": 3
   },
   "file_extension": ".py",
   "mimetype": "text/x-python",
   "name": "python",
   "nbconvert_exporter": "python",
   "pygments_lexer": "ipython3",
   "version": "3.9.7"
  }
 },
 "nbformat": 4,
 "nbformat_minor": 5
}
