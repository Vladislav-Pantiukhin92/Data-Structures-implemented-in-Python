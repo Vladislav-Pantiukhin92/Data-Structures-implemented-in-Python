{
 "cells": [
  {
   "cell_type": "markdown",
   "id": "f7ec87c2",
   "metadata": {},
   "source": [
    "### Convert a linked list to a string - 7 kyu, Codewars"
   ]
  },
  {
   "cell_type": "code",
   "execution_count": null,
   "id": "0d2f3018",
   "metadata": {},
   "outputs": [],
   "source": [
    "\"\"\"\n",
    "Convert a linked list to a string\n",
    "Related Kata\n",
    "Although this Kata is not part of an official Series, you may also want to try out Parse a linked \n",
    "list from a string if you enjoyed this Kata.\n",
    "Preloaded\n",
    "Preloaded for you is a class, struct or derived data type Node ( depending on the language ) \n",
    "used to construct linked lists in this Kata:\n",
    "\n",
    "class Node():\n",
    "    def __init__(self, data, next = None):\n",
    "        self.data = data\n",
    "        self.next = next\n",
    "\n",
    "Task\n",
    "Create a function stringify which accepts an argument list / $list and returns a string representation \n",
    "of the list. The string representation of the list starts with the value of the current Node, specified \n",
    "by its data / $data / Data property, followed by a whitespace character, an arrow and another whitespace \n",
    "character (\" -> \"), followed by the rest of the list. The end of the string representation of a list must \n",
    "always end with null / NULL / None / nil / nullptr / null() ( all caps or all lowercase depending on the \n",
    "language you are undertaking this Kata in ). For example, given the following list:\n",
    "\n",
    "Node(1, Node(2, Node(3)))\n",
    "... its string representation would be:\n",
    "\n",
    "\"1 -> 2 -> 3 -> None\"\n",
    "And given the following linked list:\n",
    "\n",
    "Node(0, Node(1, Node(4, Node(9, Node(16)))))\n",
    "... its string representation would be:\n",
    "\"\"\"\n",
    "\n",
    "def stringify(node):\n",
    "    if node is None: # If the Singly Linked List is empty - we return None\n",
    "        return \"None\"\n",
    "    else:\n",
    "        # If the Singly Linked List is not empty - we create the list container for values of nodes\n",
    "        final = []\n",
    "        current = node\n",
    "        # We are going to traverse the Singly Linked List and store values of nodes within the list container\n",
    "        while current:\n",
    "            curValue = str(current.data)\n",
    "            final.append(curValue)\n",
    "            current = current.next\n",
    "        final.append(\"None\")\n",
    "        # The list container is transformed into the string output and finally returned\n",
    "        return \" -> \".join(final)"
   ]
  }
 ],
 "metadata": {
  "kernelspec": {
   "display_name": "Python 3 (ipykernel)",
   "language": "python",
   "name": "python3"
  },
  "language_info": {
   "codemirror_mode": {
    "name": "ipython",
    "version": 3
   },
   "file_extension": ".py",
   "mimetype": "text/x-python",
   "name": "python",
   "nbconvert_exporter": "python",
   "pygments_lexer": "ipython3",
   "version": "3.9.7"
  }
 },
 "nbformat": 4,
 "nbformat_minor": 5
}
