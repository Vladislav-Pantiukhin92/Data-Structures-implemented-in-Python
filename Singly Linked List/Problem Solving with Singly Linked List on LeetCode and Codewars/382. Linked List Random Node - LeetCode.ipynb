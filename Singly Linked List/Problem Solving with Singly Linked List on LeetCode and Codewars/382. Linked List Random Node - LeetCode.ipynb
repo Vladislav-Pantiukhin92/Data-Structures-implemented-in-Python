{
 "cells": [
  {
   "cell_type": "markdown",
   "id": "bebe2b21",
   "metadata": {},
   "source": [
    "### 382. Linked List Random Node"
   ]
  },
  {
   "cell_type": "code",
   "execution_count": null,
   "id": "860c13b7",
   "metadata": {},
   "outputs": [],
   "source": [
    "\"\"\"\n",
    "Given a singly linked list, return a random node's value from the linked list. \n",
    "Each node must have the same probability of being chosen.\n",
    "Implement the Solution class:\n",
    "Solution(ListNode head) Initializes the object with the head of the singly-linked list head.\n",
    "int getRandom() Chooses a node randomly from the list and returns its value. All the nodes of the list should be equally likely to be chosen.\n",
    "Example 1:\n",
    "Input\n",
    "[\"Solution\", \"getRandom\", \"getRandom\", \"getRandom\", \"getRandom\", \"getRandom\"]\n",
    "[[[1, 2, 3]], [], [], [], [], []]\n",
    "Output\n",
    "[null, 1, 3, 2, 2, 3]\n",
    "\n",
    "Explanation\n",
    "Solution solution = new Solution([1, 2, 3]);\n",
    "solution.getRandom(); // return 1\n",
    "solution.getRandom(); // return 3\n",
    "solution.getRandom(); // return 2\n",
    "solution.getRandom(); // return 2\n",
    "solution.getRandom(); // return 3\n",
    "// getRandom() should return either 1, 2, or 3 randomly. Each element should have equal probability of returning.\n",
    "\"\"\"\n",
    "\n",
    "# Definition for singly-linked list.\n",
    "# class ListNode:\n",
    "#     def __init__(self, val=0, next=None):\n",
    "#         self.val = val\n",
    "#         self.next = next\n",
    "\n",
    "import random\n",
    "\n",
    "class Solution:\n",
    "\n",
    "    def __init__(self, head: Optional[ListNode]):\n",
    "        self.head = head\n",
    "\n",
    "    def getRandom(self) -> int:\n",
    "        length = self.__len__() # To return the random element it is relevant to know the total length (the number\n",
    "        # of nodes within the Singly Linked List)\n",
    "        range_lst = list(range(1, length + 1)) # Taking into account the length, we can build the range of numbers and\n",
    "        # With the help of this range it is possible to pick up the random count of the node\n",
    "        random_node = random.choice(range_lst)\n",
    "        count = 1\n",
    "        current = self.head\n",
    "        while count != random_node: # While this random count is not attained - we traverse the Singly Linked List\n",
    "            current = current.next\n",
    "            count += 1\n",
    "        return current.val # When the random node is attained we return the value of this node\n",
    "          \n",
    "    def __len__(self): # The method, which returns the total length of the Singly Linked List\n",
    "        current = self.head\n",
    "        count = 0\n",
    "        while current:\n",
    "            count += 1\n",
    "            current = current.next\n",
    "        return count\n",
    "\n",
    "# Your Solution object will be instantiated and called as such:\n",
    "# obj = Solution(head)\n",
    "# param_1 = obj.getRandom()"
   ]
  }
 ],
 "metadata": {
  "kernelspec": {
   "display_name": "Python 3 (ipykernel)",
   "language": "python",
   "name": "python3"
  },
  "language_info": {
   "codemirror_mode": {
    "name": "ipython",
    "version": 3
   },
   "file_extension": ".py",
   "mimetype": "text/x-python",
   "name": "python",
   "nbconvert_exporter": "python",
   "pygments_lexer": "ipython3",
   "version": "3.9.7"
  }
 },
 "nbformat": 4,
 "nbformat_minor": 5
}
