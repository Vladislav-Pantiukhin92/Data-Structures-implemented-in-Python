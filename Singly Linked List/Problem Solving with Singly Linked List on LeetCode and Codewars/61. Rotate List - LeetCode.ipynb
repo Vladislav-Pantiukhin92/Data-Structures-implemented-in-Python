{
 "cells": [
  {
   "cell_type": "markdown",
   "id": "b83e6b6c",
   "metadata": {},
   "source": [
    "### 61. Rotate List"
   ]
  },
  {
   "cell_type": "code",
   "execution_count": null,
   "id": "7012a31e",
   "metadata": {},
   "outputs": [],
   "source": [
    "\"\"\"\n",
    "Given the head of a linked list, rotate the list to the right by k places.\n",
    "Example 1:\n",
    "Input: head = [1,2,3,4,5], k = 2\n",
    "Output: [4,5,1,2,3]\n",
    "Example 2:\n",
    "Input: head = [0,1,2], k = 4\n",
    "Output: [2,0,1]\n",
    "\"\"\"\n",
    "\n",
    "# Definition for singly-linked list.\n",
    "# class ListNode:\n",
    "#     def __init__(self, val=0, next=None):\n",
    "#         self.val = val\n",
    "#         self.next = next\n",
    "\n",
    "from collections import deque\n",
    "\n",
    "class Solution:\n",
    "    def rotateRight(self, head: Optional[ListNode], k: int) -> Optional[ListNode]:\n",
    "        if head is None: # The case, when the Singly Linked List is empty\n",
    "            return head\n",
    "        # Otherwise, we are going to extract nodes' values from the Singly Linked List and store them within \n",
    "        # the list container\n",
    "        my_list = [] # The list container\n",
    "        current = head \n",
    "        while current: # While traversing the Singly Linked List it is necessary to extract values\n",
    "            curElement = current.val\n",
    "            my_list.append(curElement)\n",
    "            current = current.next\n",
    "        # When all values are extracted - we use 'collections.deque' to rotate the list \n",
    "        my_list = deque(my_list)\n",
    "        my_list.rotate(k)\n",
    "        my_list = list(my_list)\n",
    "        # When rotation came to an end - the new Singly Linked List is reconstructed\n",
    "        head = ListNode(my_list[0])\n",
    "        current = head\n",
    "        for i in range(1, len(my_list)):\n",
    "            current.next = ListNode(my_list[i])\n",
    "            current = current.next\n",
    "        return head"
   ]
  }
 ],
 "metadata": {
  "kernelspec": {
   "display_name": "Python 3 (ipykernel)",
   "language": "python",
   "name": "python3"
  },
  "language_info": {
   "codemirror_mode": {
    "name": "ipython",
    "version": 3
   },
   "file_extension": ".py",
   "mimetype": "text/x-python",
   "name": "python",
   "nbconvert_exporter": "python",
   "pygments_lexer": "ipython3",
   "version": "3.9.7"
  }
 },
 "nbformat": 4,
 "nbformat_minor": 5
}
