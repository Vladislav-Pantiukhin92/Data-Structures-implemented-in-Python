{
 "cells": [
  {
   "cell_type": "markdown",
   "id": "3a5935c6",
   "metadata": {},
   "source": [
    "### 141. Linked List Cycle"
   ]
  },
  {
   "cell_type": "code",
   "execution_count": null,
   "id": "c2cad325",
   "metadata": {},
   "outputs": [],
   "source": [
    "\"\"\"\n",
    "Given head, the head of a linked list, determine if the linked list has a cycle in it.\n",
    "There is a cycle in a linked list if there is some node in the list that can be reached again \n",
    "by continuously following the next pointer. Internally, pos is used to denote the index of the node \n",
    "that tail's next pointer is connected to. Note that pos is not passed as a parameter.\n",
    "Return true if there is a cycle in the linked list. Otherwise, return false.\n",
    "Example 1:\n",
    "\n",
    "Input: head = [3,2,0,-4], pos = 1\n",
    "Output: true\n",
    "Explanation: There is a cycle in the linked list, where the tail connects to the 1st node (0-indexed).\n",
    "Example 2:\n",
    "\n",
    "Input: head = [1,2], pos = 0\n",
    "Output: true\n",
    "Explanation: There is a cycle in the linked list, where the tail connects to the 0th node.\n",
    "Example 3:\n",
    "\n",
    "Input: head = [1], pos = -1\n",
    "Output: false\n",
    "Explanation: There is no cycle in the linked list.\n",
    "\n",
    "Constraints:\n",
    "\n",
    "The number of the nodes in the list is in the range [0, 104].\n",
    "-105 <= Node.val <= 105\n",
    "pos is -1 or a valid index in the linked-list.\n",
    "\"\"\"\n",
    "\n",
    "# Definition for singly-linked list.\n",
    "# class ListNode:\n",
    "#     def __init__(self, x):\n",
    "#         self.val = x\n",
    "#         self.next = None\n",
    "\n",
    "class Solution:\n",
    "    def hasCycle(self, head: Optional[ListNode]) -> bool:\n",
    "        current = head\n",
    "        # The plan is to traverse the Singly Linked List and change the value of each node (new unique value is float(\"inf\"))\n",
    "        while current and current.val != float(\"inf\"):\n",
    "            current.val = float(\"inf\")\n",
    "            current = current.next\n",
    "        if not current: # If the None value was attained during the traversal of the Singly Linked List - we return False,\n",
    "            # because this None value means that the Singly Linked List has the final node/ end node\n",
    "            return False\n",
    "        else:\n",
    "            return True # If the float(\"inf\") value was attained - it means that we have already been here, so\n",
    "        # we return True because of the cycle, that we successfully identified"
   ]
  }
 ],
 "metadata": {
  "kernelspec": {
   "display_name": "Python 3 (ipykernel)",
   "language": "python",
   "name": "python3"
  },
  "language_info": {
   "codemirror_mode": {
    "name": "ipython",
    "version": 3
   },
   "file_extension": ".py",
   "mimetype": "text/x-python",
   "name": "python",
   "nbconvert_exporter": "python",
   "pygments_lexer": "ipython3",
   "version": "3.9.7"
  }
 },
 "nbformat": 4,
 "nbformat_minor": 5
}
