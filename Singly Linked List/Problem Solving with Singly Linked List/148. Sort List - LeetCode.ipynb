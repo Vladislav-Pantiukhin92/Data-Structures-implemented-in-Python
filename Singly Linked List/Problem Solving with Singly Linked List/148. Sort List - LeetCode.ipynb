{
 "cells": [
  {
   "cell_type": "markdown",
   "id": "29cf1141",
   "metadata": {},
   "source": [
    "### 148. Sort List"
   ]
  },
  {
   "cell_type": "code",
   "execution_count": null,
   "id": "f5f85137",
   "metadata": {},
   "outputs": [],
   "source": [
    "\"\"\"\n",
    "Given the head of a linked list, return the list after sorting it in ascending order.\n",
    "Example 1:\n",
    "\n",
    "Input: head = [4,2,1,3]\n",
    "Output: [1,2,3,4]\n",
    "Example 2:\n",
    "\n",
    "Input: head = [-1,5,3,4,0]\n",
    "Output: [-1,0,3,4,5]\n",
    "Example 3:\n",
    "\n",
    "Input: head = []\n",
    "Output: []\n",
    "\"\"\"\n",
    "\n",
    "# Definition for singly-linked list.\n",
    "# class ListNode:\n",
    "#     def __init__(self, val=0, next=None):\n",
    "#         self.val = val\n",
    "#         self.next = next\n",
    "\n",
    "class Solution:\n",
    "    def sortList(self, head: Optional[ListNode]) -> Optional[ListNode]:\n",
    "        my_list = []\n",
    "        if head is None: # If the Singly Linked List is empty - we return None\n",
    "            return head\n",
    "        else:\n",
    "            # The major principle - while traversing all the nodes of the Singly Linked List, real values are'\n",
    "            # extracted from the nodes and added to the simple list container\n",
    "            current = head\n",
    "            while current:\n",
    "                element = current.val\n",
    "                my_list.append(element)\n",
    "                current = current.next\n",
    "        my_list = sorted(my_list) # After that the list with obtained values is sorted\n",
    "        # The final step is to restore the Singly Linked list but in a sorted order\n",
    "        head = ListNode(my_list[0])\n",
    "        current = head\n",
    "        for i in range(1, len(my_list)):\n",
    "            current.next = ListNode(my_list[i])\n",
    "            current = current.next\n",
    "        return head"
   ]
  }
 ],
 "metadata": {
  "kernelspec": {
   "display_name": "Python 3 (ipykernel)",
   "language": "python",
   "name": "python3"
  },
  "language_info": {
   "codemirror_mode": {
    "name": "ipython",
    "version": 3
   },
   "file_extension": ".py",
   "mimetype": "text/x-python",
   "name": "python",
   "nbconvert_exporter": "python",
   "pygments_lexer": "ipython3",
   "version": "3.9.7"
  }
 },
 "nbformat": 4,
 "nbformat_minor": 5
}
