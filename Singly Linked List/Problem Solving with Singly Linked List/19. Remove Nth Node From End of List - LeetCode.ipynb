{
 "cells": [
  {
   "cell_type": "markdown",
   "id": "219a6b0c",
   "metadata": {},
   "source": [
    "### 19. Remove Nth Node From End of List"
   ]
  },
  {
   "cell_type": "code",
   "execution_count": null,
   "id": "bcd54a75",
   "metadata": {},
   "outputs": [],
   "source": [
    "\"\"\"\n",
    "Given the head of a linked list, remove the nth node from the end of the list and return its head.\n",
    "Example 1:\n",
    "\n",
    "Input: head = [1,2,3,4,5], n = 2\n",
    "Output: [1,2,3,5]\n",
    "Example 2:\n",
    "\n",
    "Input: head = [1], n = 1\n",
    "Output: []\n",
    "Example 3:\n",
    "\n",
    "Input: head = [1,2], n = 1\n",
    "Output: [1]\n",
    "\"\"\"\n",
    "\n",
    "# Definition for singly-linked list.\n",
    "# class ListNode:\n",
    "#     def __init__(self, val=0, next=None):\n",
    "#         self.val = val\n",
    "#         self.next = next\n",
    "\n",
    "class Solution:\n",
    "    def removeNthFromEnd(self, head: Optional[ListNode], n: int) -> Optional[ListNode]:\n",
    "        total_length = self.__len__(head) # Initially, let's return the length (the number of nodes) of the \n",
    "        # input Singly Linked List\n",
    "        if total_length == 1: # The special case - when the length equals to 1, then we return the None value\n",
    "            head = None\n",
    "            return head\n",
    "        current = head\n",
    "        if total_length == n: # If the length equals to 'n', it means that the first node should be removed\n",
    "            head = head.next\n",
    "            return head\n",
    "        while total_length > n: # Otherwise, we traverse the Singly Linked List (each time the length is reduced by 1)\n",
    "            # It is done while the length != 'n'\n",
    "            prevNode = current \n",
    "            current = current.next\n",
    "            total_length -= 1\n",
    "        prevNode.next = current.next\n",
    "        return head\n",
    "    \n",
    "    def __len__(self, head): # The function, which measures the length of the Singly Linked List\n",
    "        count = 0\n",
    "        current = head \n",
    "        while current:\n",
    "            count += 1\n",
    "            current = current.next\n",
    "        return count"
   ]
  }
 ],
 "metadata": {
  "kernelspec": {
   "display_name": "Python 3 (ipykernel)",
   "language": "python",
   "name": "python3"
  },
  "language_info": {
   "codemirror_mode": {
    "name": "ipython",
    "version": 3
   },
   "file_extension": ".py",
   "mimetype": "text/x-python",
   "name": "python",
   "nbconvert_exporter": "python",
   "pygments_lexer": "ipython3",
   "version": "3.9.7"
  }
 },
 "nbformat": 4,
 "nbformat_minor": 5
}
