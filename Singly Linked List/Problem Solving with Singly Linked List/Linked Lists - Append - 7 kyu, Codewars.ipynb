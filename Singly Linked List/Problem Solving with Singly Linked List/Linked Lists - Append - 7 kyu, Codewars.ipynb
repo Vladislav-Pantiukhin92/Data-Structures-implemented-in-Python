{
 "cells": [
  {
   "cell_type": "markdown",
   "id": "c46c1548",
   "metadata": {},
   "source": [
    "### Linked Lists - Append - 7 kyu, Codewars"
   ]
  },
  {
   "cell_type": "code",
   "execution_count": 71,
   "id": "9a913777",
   "metadata": {},
   "outputs": [],
   "source": [
    "\"\"\"\n",
    "Linked Lists - Append\n",
    "Write an Append() function which appends one linked list to another. The head of the resulting list \n",
    "should be returned.\n",
    "\n",
    "var listA = 1 -> 2 -> 3 -> null\n",
    "var listB = 4 -> 5 -> 6 -> null\n",
    "append(listA, listB) === 1 -> 2 -> 3 -> 4 -> 5 -> 6 -> null\n",
    "If both listA and listB are null/NULL/None/nil, return null/NULL/None/nil. If one list is null/NULL/None/\n",
    "nil and the other is not, simply return the non-null/NULL/None/nil list.\n",
    "The push() and buildOneTwoThree() (build_one_two_three() in PHP and ruby) functions need not be \n",
    "redefined. The Node class is also predefined for you in PHP.\n",
    "\"\"\"\n",
    "\n",
    "class Node(object):\n",
    "    def __init__(self, data):\n",
    "        self.data = data\n",
    "        self.next = None\n",
    "\n",
    "def append(listA, listB):\n",
    "    if listA is None and listB is None: # If both Singly Linked Lists are empty - we return None\n",
    "        return None\n",
    "    elif listA is None: # If the first Singly Linked List is empty - we return the second Singly Linked List\n",
    "        return listB\n",
    "    elif listB is None: # If the second Singly Linked List is empty - we return the first Singly Linked List\n",
    "        return listA\n",
    "    else:\n",
    "        # If both Singly Linked Lists are not empty - we are going to traverse the first Singly Linked List\n",
    "        # When the final node is attained - we attach the last node (through 'current.next') to the head \n",
    "        # of the second Singly Linked List\n",
    "        current = listA\n",
    "        while current.next:\n",
    "            current = current.next\n",
    "        current.next = listB\n",
    "        return listA # The head of the unified Singly Linked List is returned"
   ]
  }
 ],
 "metadata": {
  "kernelspec": {
   "display_name": "Python 3 (ipykernel)",
   "language": "python",
   "name": "python3"
  },
  "language_info": {
   "codemirror_mode": {
    "name": "ipython",
    "version": 3
   },
   "file_extension": ".py",
   "mimetype": "text/x-python",
   "name": "python",
   "nbconvert_exporter": "python",
   "pygments_lexer": "ipython3",
   "version": "3.9.7"
  }
 },
 "nbformat": 4,
 "nbformat_minor": 5
}
