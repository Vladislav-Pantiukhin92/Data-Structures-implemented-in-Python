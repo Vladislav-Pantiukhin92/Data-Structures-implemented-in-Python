{
 "cells": [
  {
   "cell_type": "markdown",
   "id": "70907cc1",
   "metadata": {},
   "source": [
    "### 203. Remove Linked List Elements"
   ]
  },
  {
   "cell_type": "code",
   "execution_count": null,
   "id": "6d511fd3",
   "metadata": {},
   "outputs": [],
   "source": [
    "\"\"\"\n",
    "Given the head of a linked list and an integer val, remove all the nodes of the \n",
    "linked list that has Node.val == val, and return the new head.\n",
    "Example 1:\n",
    "\n",
    "Input: head = [1,2,6,3,4,5,6], val = 6\n",
    "Output: [1,2,3,4,5]\n",
    "Example 2:\n",
    "\n",
    "Input: head = [], val = 1\n",
    "Output: []\n",
    "Example 3:\n",
    "\n",
    "Input: head = [7,7,7,7], val = 7\n",
    "Output: []\n",
    "\"\"\"\n",
    "\n",
    "# Definition for singly-linked list.\n",
    "# class ListNode:\n",
    "#     def __init__(self, val=0, next=None):\n",
    "#         self.val = val\n",
    "#         self.next = next\n",
    "\n",
    "class Solution:\n",
    "    def removeElements(self, head: Optional[ListNode], val: int) -> Optional[ListNode]:\n",
    "        if head is None: # The case, when the Singly Linked List contains nothing (the List is empty)\n",
    "            return head\n",
    "        else:\n",
    "            # Otherwise:\n",
    "            while True: # First of all, if possible, let's remove front nodes, which may contain the envisaged value\n",
    "                if head and head.val == val:\n",
    "                    head = head.next\n",
    "                else:\n",
    "                    # If, - after the removal, - the Singly Linked List is empty - we return nothing\n",
    "                    if not head:\n",
    "                        return head\n",
    "                    else: # In other case, when values are not equal anymore, the loop is broken\n",
    "                        break\n",
    "            # While traversing the Singly Linked List we omit nodes with the specific value, establishing next pointers\n",
    "            # right past them\n",
    "            current = head \n",
    "            while current:\n",
    "                if current.val == val:\n",
    "                    prevNode.next = current.next\n",
    "                    current = prevNode.next\n",
    "                else:\n",
    "                    prevNode = current\n",
    "                    current = current.next\n",
    "        return head"
   ]
  }
 ],
 "metadata": {
  "kernelspec": {
   "display_name": "Python 3 (ipykernel)",
   "language": "python",
   "name": "python3"
  },
  "language_info": {
   "codemirror_mode": {
    "name": "ipython",
    "version": 3
   },
   "file_extension": ".py",
   "mimetype": "text/x-python",
   "name": "python",
   "nbconvert_exporter": "python",
   "pygments_lexer": "ipython3",
   "version": "3.9.7"
  }
 },
 "nbformat": 4,
 "nbformat_minor": 5
}
