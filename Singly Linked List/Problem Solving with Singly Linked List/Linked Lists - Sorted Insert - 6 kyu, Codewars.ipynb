{
 "cells": [
  {
   "cell_type": "markdown",
   "id": "60646b72",
   "metadata": {},
   "source": [
    "### Linked Lists - Sorted Insert - 6 kyu, Codewars"
   ]
  },
  {
   "cell_type": "code",
   "execution_count": null,
   "id": "55392025",
   "metadata": {},
   "outputs": [],
   "source": [
    "\"\"\"\n",
    "Linked Lists - Sorted Insert\n",
    "Write a SortedInsert() function which inserts a node into the correct location of a pre-sorted linked \n",
    "list which is sorted in ascending order. SortedInsert takes the head of a linked list and data used to \n",
    "create a node as arguments. SortedInsert() should also return the head of the list.\n",
    "\n",
    "sortedInsert(1 -> 2 -> 3 -> null, 4) === 1 -> 2 -> 3 -> 4 -> null)\n",
    "sortedInsert(1 -> 7 -> 8 -> null, 5) === 1 -> 5 -> 7 -> 8 -> null)\n",
    "sortedInsert(3 -> 5 -> 9 -> null, 7) === 3 -> 5 -> 7 -> 9 -> null)\n",
    "The push() and buildOneTwoThree() functions do not need to be redefined.\n",
    "\"\"\"\n",
    "\n",
    "\"\"\" For your information:\n",
    "class Node(object):\n",
    "    def __init__(self, data):\n",
    "        self.data = data\n",
    "        self.next = None\n",
    "\"\"\"\n",
    "\n",
    "def sorted_insert(head, data):\n",
    "    newNode = Node(data) # The new node with the input value is created in advance\n",
    "    if head is None: # If the Singly Linked List is empty - the new node is the head of the Singly Linked List\n",
    "        head = newNode\n",
    "        return head\n",
    "    else:\n",
    "        # If the Singly Linked List is non-empty, but the given value < the value of the head -> the new node\n",
    "        # is added as the new head of the Singly Linked List\n",
    "        if data < head.data:\n",
    "            newNode.next = head\n",
    "            head = newNode\n",
    "            return head\n",
    "        else:\n",
    "            # Otherwise, we are going to traverse the Singly Linked List and compare the given value with values\n",
    "            # of other nodes\n",
    "            # When the next value > the given value we place the new node in the envisaged location\n",
    "            current = head\n",
    "            while current.next and current.next.data < data:\n",
    "                current = current.next\n",
    "            if not current.next: # The case, when the new node should be appended to the rear of the Singly Linked List\n",
    "                current.next = newNode\n",
    "                return head\n",
    "            else: # The case, when the new node should be added within the Singly Linked List (excl. the first and the last positions)\n",
    "                newNode.next = current.next\n",
    "                current.next = newNode\n",
    "                return head"
   ]
  }
 ],
 "metadata": {
  "kernelspec": {
   "display_name": "Python 3 (ipykernel)",
   "language": "python",
   "name": "python3"
  },
  "language_info": {
   "codemirror_mode": {
    "name": "ipython",
    "version": 3
   },
   "file_extension": ".py",
   "mimetype": "text/x-python",
   "name": "python",
   "nbconvert_exporter": "python",
   "pygments_lexer": "ipython3",
   "version": "3.9.7"
  }
 },
 "nbformat": 4,
 "nbformat_minor": 5
}
