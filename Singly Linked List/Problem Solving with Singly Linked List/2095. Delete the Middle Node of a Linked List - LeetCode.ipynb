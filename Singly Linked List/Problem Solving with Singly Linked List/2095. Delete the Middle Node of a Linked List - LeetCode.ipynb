{
 "cells": [
  {
   "cell_type": "markdown",
   "id": "7b2a8415",
   "metadata": {},
   "source": [
    "### 2095. Delete the Middle Node of a Linked List"
   ]
  },
  {
   "cell_type": "code",
   "execution_count": null,
   "id": "cd5ec85a",
   "metadata": {},
   "outputs": [],
   "source": [
    "\"\"\"\n",
    "You are given the head of a linked list. Delete the middle node, and return the head of the modified linked list.\n",
    "The middle node of a linked list of size n is the ⌊n / 2⌋th node from the start using 0-based indexing, \n",
    "where ⌊x⌋ denotes the largest integer less than or equal to x.\n",
    "For n = 1, 2, 3, 4, and 5, the middle nodes are 0, 1, 1, 2, and 2, respectively.\n",
    "Example 1:\n",
    "\n",
    "Input: head = [1,3,4,7,1,2,6]\n",
    "Output: [1,3,4,1,2,6]\n",
    "Explanation:\n",
    "The above figure represents the given linked list. The indices of the nodes are written below.\n",
    "Since n = 7, node 3 with value 7 is the middle node, which is marked in red.\n",
    "We return the new list after removing this node. \n",
    "Example 2:\n",
    "\n",
    "Input: head = [1,2,3,4]\n",
    "Output: [1,2,4]\n",
    "Explanation:\n",
    "The above figure represents the given linked list.\n",
    "For n = 4, node 2 with value 3 is the middle node, which is marked in red.\n",
    "Example 3:\n",
    "\n",
    "Input: head = [2,1]\n",
    "Output: [2]\n",
    "Explanation:\n",
    "The above figure represents the given linked list.\n",
    "For n = 2, node 1 with value 1 is the middle node, which is marked in red.\n",
    "Node 0 with value 2 is the only node remaining after removing node 1.\n",
    "\"\"\"\n",
    "\n",
    "# Definition for singly-linked list.\n",
    "# class ListNode:\n",
    "#     def __init__(self, val=0, next=None):\n",
    "#         self.val = val\n",
    "#         self.next = next\n",
    "\n",
    "\n",
    "class Solution:\n",
    "    def deleteMiddle(self, head: Optional[ListNode]) -> Optional[ListNode]:\n",
    "        total_length = self.__len__(head) # Firstly, let's return the length of the input Singly Linked List\n",
    "        middle_node = (total_length // 2) # Taking into account the total length of the Singly Linked List, we \n",
    "        # are able to figure out the position of the relevant node\n",
    "        if middle_node == 0: # The specific case - when there is only one node, so we return just None value as a head output\n",
    "            head = None\n",
    "            return head\n",
    "        count = 0\n",
    "        current = head\n",
    "        # Otherwise, we implement the traversal of the Singly Linked List while the relevant node is not found\n",
    "        while count < middle_node:\n",
    "            prevNode = current\n",
    "            current = current.next\n",
    "            count += 1\n",
    "        prevNode.next = current.next\n",
    "        return head\n",
    "        \n",
    "    def __len__(self, head): # The function, which measures the length of the Singly Linked List\n",
    "        current = head\n",
    "        count = 0\n",
    "        while current:\n",
    "            current = current.next\n",
    "            count += 1\n",
    "        return count"
   ]
  }
 ],
 "metadata": {
  "kernelspec": {
   "display_name": "Python 3 (ipykernel)",
   "language": "python",
   "name": "python3"
  },
  "language_info": {
   "codemirror_mode": {
    "name": "ipython",
    "version": 3
   },
   "file_extension": ".py",
   "mimetype": "text/x-python",
   "name": "python",
   "nbconvert_exporter": "python",
   "pygments_lexer": "ipython3",
   "version": "3.9.7"
  }
 },
 "nbformat": 4,
 "nbformat_minor": 5
}
