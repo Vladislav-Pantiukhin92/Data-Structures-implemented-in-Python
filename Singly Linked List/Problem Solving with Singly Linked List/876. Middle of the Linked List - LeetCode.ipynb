{
 "cells": [
  {
   "cell_type": "markdown",
   "id": "9c8ec1f6",
   "metadata": {},
   "source": [
    "### 876. Middle of the Linked List"
   ]
  },
  {
   "cell_type": "code",
   "execution_count": null,
   "id": "8760f122",
   "metadata": {},
   "outputs": [],
   "source": [
    "\"\"\"\n",
    "Given the head of a singly linked list, return the middle node of the linked list.\n",
    "If there are two middle nodes, return the second middle node.\n",
    "Example 1:\n",
    "Input: head = [1,2,3,4,5]\n",
    "Output: [3,4,5]\n",
    "Explanation: The middle node of the list is node 3.\n",
    "Example 2:\n",
    "Input: head = [1,2,3,4,5,6]\n",
    "Output: [4,5,6]\n",
    "Explanation: Since the list has two middle nodes with values 3 and 4, we return the second one.\n",
    "\"\"\"\n",
    "\n",
    "# Definition for singly-linked list.\n",
    "# class ListNode:\n",
    "#     def __init__(self, val=0, next=None):\n",
    "#         self.val = val\n",
    "#         self.next = next\n",
    "\n",
    "class Solution:\n",
    "    def middleNode(self, head: Optional[ListNode]) -> Optional[ListNode]:\n",
    "        # First of all, it is necessary to find the length of the Singly Linked List\n",
    "        result = self.__len__(head)\n",
    "        # When the length of the Singly Linked List is returned we should divide the length by 2 and add 1\n",
    "        # The obtained number is the position of the middle node, which should be returned\n",
    "        target = (result // 2) + 1\n",
    "        current = head\n",
    "        number = 1\n",
    "        # Knowing the position of the relevant node we traverse the Singly Linked List\n",
    "        while number != target:\n",
    "            current = current.next\n",
    "            number += 1\n",
    "        return current # When the relevant node is attained, we return it\n",
    "        \n",
    "    def __len__(self, head): # The function, which measures the length of the Singly Linked List\n",
    "        current = head\n",
    "        count = 0\n",
    "        while current:\n",
    "            count += 1\n",
    "            current = current.next\n",
    "        return count"
   ]
  }
 ],
 "metadata": {
  "kernelspec": {
   "display_name": "Python 3 (ipykernel)",
   "language": "python",
   "name": "python3"
  },
  "language_info": {
   "codemirror_mode": {
    "name": "ipython",
    "version": 3
   },
   "file_extension": ".py",
   "mimetype": "text/x-python",
   "name": "python",
   "nbconvert_exporter": "python",
   "pygments_lexer": "ipython3",
   "version": "3.9.7"
  }
 },
 "nbformat": 4,
 "nbformat_minor": 5
}
