{
 "cells": [
  {
   "cell_type": "markdown",
   "id": "2a32152e",
   "metadata": {},
   "source": [
    "### 445. Add Two Numbers II"
   ]
  },
  {
   "cell_type": "code",
   "execution_count": null,
   "id": "c66a5f2b",
   "metadata": {},
   "outputs": [],
   "source": [
    "\"\"\"\n",
    "You are given two non-empty linked lists representing two non-negative integers. \n",
    "The most significant digit comes first and each of their nodes contains a single digit. \n",
    "Add the two numbers and return the sum as a linked list.\n",
    "You may assume the two numbers do not contain any leading zero, except the number 0 itself.\n",
    "Example 1:\n",
    "\n",
    "Input: l1 = [7,2,4,3], l2 = [5,6,4]\n",
    "Output: [7,8,0,7]\n",
    "Example 2:\n",
    "\n",
    "Input: l1 = [2,4,3], l2 = [5,6,4]\n",
    "Output: [8,0,7]\n",
    "Example 3:\n",
    "\n",
    "Input: l1 = [0], l2 = [0]\n",
    "Output: [0]\n",
    "\"\"\"\n",
    "\n",
    "# Definition for singly-linked list.\n",
    "# class ListNode:\n",
    "#     def __init__(self, val=0, next=None):\n",
    "#         self.val = val\n",
    "#         self.next = next\n",
    "class Solution:\n",
    "    def addTwoNumbers(self, l1: Optional[ListNode], l2: Optional[ListNode]) -> Optional[ListNode]:\n",
    "        # Two lists will store nodes' values of two Singly Linked Lists\n",
    "        list1 = [] # The list will store values for the first Singly Linked List\n",
    "        list2 = [] # The list will store values for the second Singly Linked List\n",
    "        current = l1\n",
    "        while current: # Values' extraction while traversing the first Singly Linked List\n",
    "            curElement = current.val\n",
    "            list1.append(curElement)\n",
    "            current = current.next\n",
    "        current = l2\n",
    "        while current: # Values' extraction while traversing the second Singly Linked List\n",
    "            curElement = current.val\n",
    "            list2.append(curElement)\n",
    "            current = current.next\n",
    "        # Two lists with integer values are transformed into integers\n",
    "        num1 = int(\"\".join(list(map(str, list1))))\n",
    "        num2 = int(\"\".join(list(map(str, list2))))\n",
    "        result = list(map(int, list(str(num1 + num2)))) # Two integers are added together\n",
    "        # The final step is to restore the Singly Linked List, using recently obtained values\n",
    "        l1 = ListNode(result[0])\n",
    "        current = l1\n",
    "        for i in range(1, len(result)):\n",
    "            current.next = ListNode(result[i])\n",
    "            current = current.next\n",
    "        return l1\n",
    "        "
   ]
  }
 ],
 "metadata": {
  "kernelspec": {
   "display_name": "Python 3 (ipykernel)",
   "language": "python",
   "name": "python3"
  },
  "language_info": {
   "codemirror_mode": {
    "name": "ipython",
    "version": 3
   },
   "file_extension": ".py",
   "mimetype": "text/x-python",
   "name": "python",
   "nbconvert_exporter": "python",
   "pygments_lexer": "ipython3",
   "version": "3.9.7"
  }
 },
 "nbformat": 4,
 "nbformat_minor": 5
}
