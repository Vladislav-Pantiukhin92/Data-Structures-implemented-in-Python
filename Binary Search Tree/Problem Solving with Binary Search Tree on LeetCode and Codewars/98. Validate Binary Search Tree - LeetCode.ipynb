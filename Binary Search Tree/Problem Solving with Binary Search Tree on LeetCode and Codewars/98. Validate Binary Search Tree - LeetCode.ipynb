{
 "cells": [
  {
   "cell_type": "markdown",
   "id": "a9e542d8",
   "metadata": {},
   "source": [
    "### 98. Validate Binary Search Tree"
   ]
  },
  {
   "cell_type": "code",
   "execution_count": null,
   "id": "4ecb3c50",
   "metadata": {},
   "outputs": [],
   "source": [
    "\"\"\"\n",
    "Given the root of a binary tree, determine if it is a valid binary search tree (BST).\n",
    "A valid BST is defined as follows:\n",
    "The left subtree of a node contains only nodes with keys less than the node's key.\n",
    "The right subtree of a node contains only nodes with keys greater than the node's key.\n",
    "Both the left and right subtrees must also be binary search trees.\n",
    " \n",
    "Example 1:\n",
    "\n",
    "Input: root = [2,1,3]\n",
    "Output: true\n",
    "Example 2:\n",
    "\n",
    "Input: root = [5,1,4,null,null,3,6]\n",
    "Output: false\n",
    "Explanation: The root node's value is 5 but its right child's value is 4.\n",
    "Constraints:\n",
    "The number of nodes in the tree is in the range [1, 104].\n",
    "-231 <= Node.val <= 231 - 1\n",
    "\"\"\"\n",
    "\n",
    "# Definition for a binary tree node.\n",
    "# class TreeNode:\n",
    "#     def __init__(self, val=0, left=None, right=None):\n",
    "#         self.val = val\n",
    "#         self.left = left\n",
    "#         self.right = right\n",
    "class Solution:\n",
    "# The validity of the Binary Search Tree can be verified through the Inorder Traversal algorithm\n",
    "# The Inorder Traversal algorithm of the Binary Search Tree can help to add nodes' values to the list in \n",
    "# ascending order\n",
    "# As a result of the Inorder Traversal we obtain the sorted list of nodes' elements in ascending order\n",
    "# So, if we obtained the list with elements, which are not sorted in ascending order, the Binary Search Tree \n",
    "# is not valid\n",
    "\n",
    "    def isValidBST(self, root: Optional[TreeNode]) -> bool:\n",
    "        def inorder_traversal(root, final=[]): # The Inorder Traversal function\n",
    "            if root.left: # Firstly, let's traverse all the left nodes\n",
    "                inorder_traversal(root.left, final)\n",
    "            final.append(root.val) # The next step is to traverse the root node\n",
    "            if root.right: # Finally, we traverse all the right nodes\n",
    "                inorder_traversal(root.right, final)\n",
    "            return final # The list with nodes' values from the Binary Search Tree is returned\n",
    "        tree_values = inorder_traversal(root)\n",
    "        if len(tree_values) == 1: # If the length of the list is less than 2 - we return True\n",
    "            return True\n",
    "        else:\n",
    "            i = 0\n",
    "            j = 1\n",
    "        # Otherwise, we verify the ascending order of elements in the list\n",
    "            while j < len(tree_values):\n",
    "                if tree_values[i] >= tree_values[j]:\n",
    "                    # If the ascending order is violated - we return False\n",
    "                    return False\n",
    "                i += 1\n",
    "                j += 1\n",
    "            return True # In other case, we return True without any violations in terms of the ascending order"
   ]
  }
 ],
 "metadata": {
  "kernelspec": {
   "display_name": "Python 3 (ipykernel)",
   "language": "python",
   "name": "python3"
  },
  "language_info": {
   "codemirror_mode": {
    "name": "ipython",
    "version": 3
   },
   "file_extension": ".py",
   "mimetype": "text/x-python",
   "name": "python",
   "nbconvert_exporter": "python",
   "pygments_lexer": "ipython3",
   "version": "3.9.7"
  }
 },
 "nbformat": 4,
 "nbformat_minor": 5
}
