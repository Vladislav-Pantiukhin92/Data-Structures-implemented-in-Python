{
 "cells": [
  {
   "cell_type": "markdown",
   "id": "18ba83e3",
   "metadata": {},
   "source": [
    "### 94. Binary Tree Inorder Traversal - LeetCode"
   ]
  },
  {
   "cell_type": "code",
   "execution_count": null,
   "id": "da0cf9d3",
   "metadata": {},
   "outputs": [],
   "source": [
    "\"\"\"\n",
    "Given the root of a binary tree, return the inorder traversal of its nodes' values.\n",
    "Example 1:\n",
    "\n",
    "Input: root = [1,null,2,3]\n",
    "Output: [1,3,2]\n",
    "Example 2:\n",
    "\n",
    "Input: root = []\n",
    "Output: []\n",
    "Example 3:\n",
    "\n",
    "Input: root = [1]\n",
    "Output: [1]\n",
    "\"\"\"\n",
    "\n",
    "# Definition for a binary tree node.\n",
    "# class TreeNode:\n",
    "#     def __init__(self, val=0, left=None, right=None):\n",
    "#         self.val = val\n",
    "#         self.left = left\n",
    "#         self.right = right\n",
    "class Solution:\n",
    "    def inorderTraversal(self, root: Optional[TreeNode]) -> List[int]:\n",
    "        if root is None: # The Binary Search Tree can be empty - then we return None\n",
    "            return None\n",
    "        # The Inorder Traversal mechanism envisages the following path: left nodes -> root node - > right nodes\n",
    "        # The Inorder Traversal principle sorts the elements in ascending order\n",
    "        def inorder_traversal(root, final=[]):\n",
    "            if root.left:\n",
    "                inorder_traversal(root.left)\n",
    "            curElement = root.val\n",
    "            final.append(curElement)\n",
    "            if root.right:\n",
    "                inorder_traversal(root.right)\n",
    "            return final\n",
    "        result = inorder_traversal(root)\n",
    "        return result"
   ]
  }
 ],
 "metadata": {
  "kernelspec": {
   "display_name": "Python 3 (ipykernel)",
   "language": "python",
   "name": "python3"
  },
  "language_info": {
   "codemirror_mode": {
    "name": "ipython",
    "version": 3
   },
   "file_extension": ".py",
   "mimetype": "text/x-python",
   "name": "python",
   "nbconvert_exporter": "python",
   "pygments_lexer": "ipython3",
   "version": "3.9.7"
  }
 },
 "nbformat": 4,
 "nbformat_minor": 5
}
