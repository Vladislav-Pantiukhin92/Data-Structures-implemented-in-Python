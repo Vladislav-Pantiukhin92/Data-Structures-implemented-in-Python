{
 "cells": [
  {
   "cell_type": "markdown",
   "id": "abed84b0",
   "metadata": {},
   "source": [
    "### 145. Binary Tree Postorder Traversal"
   ]
  },
  {
   "cell_type": "code",
   "execution_count": null,
   "id": "5bb60bea",
   "metadata": {},
   "outputs": [],
   "source": [
    "\"\"\"\n",
    "Given the root of a binary tree, return the postorder traversal of its nodes' values.\n",
    "Example 1:\n",
    "\n",
    "Input: root = [1,null,2,3]\n",
    "Output: [3,2,1]\n",
    "Example 2:\n",
    "\n",
    "Input: root = []\n",
    "Output: []\n",
    "Example 3:\n",
    "\n",
    "Input: root = [1]\n",
    "Output: [1]\n",
    "\"\"\"\n",
    "\n",
    "# Definition for a binary tree node.\n",
    "# class TreeNode:\n",
    "#     def __init__(self, val=0, left=None, right=None):\n",
    "#         self.val = val\n",
    "#         self.left = left\n",
    "#         self.right = right\n",
    "class Solution:\n",
    "    def postorderTraversal(self, root: Optional[TreeNode]) -> List[int]:\n",
    "        if not root: # The case, when the Binary Search Tree is empty - we return None\n",
    "            return None\n",
    "    # The Postorder Traversal envisages the following path: left nodes - > right nodes - > root node\n",
    "        def postorder_traversal(root, final=[]):\n",
    "            if root.left: # Let's traverse left nodes\n",
    "                postorder_traversal(root.left, final)\n",
    "            if root.right: # Let's traverse right nodes\n",
    "                postorder_traversal(root.right, final)\n",
    "            curElement = root.val # Let's traverse the root node\n",
    "            final.append(curElement)\n",
    "            return final \n",
    "        result = postorder_traversal(root)\n",
    "        return result"
   ]
  }
 ],
 "metadata": {
  "kernelspec": {
   "display_name": "Python 3 (ipykernel)",
   "language": "python",
   "name": "python3"
  },
  "language_info": {
   "codemirror_mode": {
    "name": "ipython",
    "version": 3
   },
   "file_extension": ".py",
   "mimetype": "text/x-python",
   "name": "python",
   "nbconvert_exporter": "python",
   "pygments_lexer": "ipython3",
   "version": "3.9.7"
  }
 },
 "nbformat": 4,
 "nbformat_minor": 5
}
