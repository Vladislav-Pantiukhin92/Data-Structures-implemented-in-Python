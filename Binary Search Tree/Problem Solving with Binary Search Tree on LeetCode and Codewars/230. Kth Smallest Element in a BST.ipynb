{
 "cells": [
  {
   "cell_type": "markdown",
   "id": "9fd937f6",
   "metadata": {},
   "source": [
    "### 230. Kth Smallest Element in a BST"
   ]
  },
  {
   "cell_type": "code",
   "execution_count": null,
   "id": "ec721203",
   "metadata": {},
   "outputs": [],
   "source": [
    "\"\"\"\n",
    "Given the root of a binary search tree, and an integer k, return the kth smallest value (1-indexed) of \n",
    "all the values of the nodes in the tree.\n",
    "Example 1:\n",
    "\n",
    "Input: root = [3,1,4,null,2], k = 1\n",
    "Output: 1\n",
    "Example 2:\n",
    "Input: root = [5,3,6,2,4,null,null,1], k = 3\n",
    "Output: 3\n",
    "\"\"\"\n",
    "\n",
    "class Solution:\n",
    "    def kthSmallest(self, root: Optional[TreeNode], k: int) -> int:\n",
    "        # To find the k-th smallest value within the Binary Search Tree it is important to have the list of values\n",
    "        # within the Binary Search Tree, sorted in some order - in ascending or descending order\n",
    "        # So, the problem can be resolved through the implementation of the Inorder Traversal (it is exactly \n",
    "        # the specific kind of traversal of the Binary Search Tree, executed in ascending order: left nodes - >\n",
    "        # root node - > right nodes)\n",
    "        def inorder_traversal(root, final=[]): # Let's create the function, which will implement the inorder \n",
    "            # traversal of the Binary Search Tree as well as append the elements to the list in ascending order\n",
    "            if root.left:\n",
    "                inorder_traversal(root.left)\n",
    "            curElement = root.val\n",
    "            final.append(curElement)\n",
    "            if root.right:\n",
    "                inorder_traversal(root.right)\n",
    "            return final\n",
    "        \n",
    "        result = inorder_traversal(root)\n",
    "        # Right now we possess the sorted list of elements from the Binary Search Tree\n",
    "        # The final step is to return the specific element, using the 'k' variable\n",
    "        return result[k - 1]"
   ]
  }
 ],
 "metadata": {
  "kernelspec": {
   "display_name": "Python 3 (ipykernel)",
   "language": "python",
   "name": "python3"
  },
  "language_info": {
   "codemirror_mode": {
    "name": "ipython",
    "version": 3
   },
   "file_extension": ".py",
   "mimetype": "text/x-python",
   "name": "python",
   "nbconvert_exporter": "python",
   "pygments_lexer": "ipython3",
   "version": "3.9.7"
  }
 },
 "nbformat": 4,
 "nbformat_minor": 5
}
