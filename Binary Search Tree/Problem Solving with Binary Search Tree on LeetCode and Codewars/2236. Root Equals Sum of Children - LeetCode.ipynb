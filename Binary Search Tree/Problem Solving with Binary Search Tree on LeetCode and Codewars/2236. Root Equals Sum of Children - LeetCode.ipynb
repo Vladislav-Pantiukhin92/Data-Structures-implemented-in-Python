{
 "cells": [
  {
   "cell_type": "markdown",
   "id": "2341c17c",
   "metadata": {},
   "source": [
    "### 2236. Root Equals Sum of Children"
   ]
  },
  {
   "cell_type": "code",
   "execution_count": null,
   "id": "9bc78362",
   "metadata": {},
   "outputs": [],
   "source": [
    "\"\"\"\n",
    "You are given the root of a binary tree that consists of exactly 3 nodes: the root, its left child, and its right child.\n",
    "Return true if the value of the root is equal to the sum of the values of its two children, or false otherwise.\n",
    "Example 1:\n",
    "\n",
    "Input: root = [10,4,6]\n",
    "Output: true\n",
    "Explanation: The values of the root, its left child, and its right child are 10, 4, and 6, respectively.\n",
    "10 is equal to 4 + 6, so we return true.\n",
    "Example 2:\n",
    "\n",
    "Input: root = [5,3,1]\n",
    "Output: false\n",
    "Explanation: The values of the root, its left child, and its right child are 5, 3, and 1, respectively.\n",
    "5 is not equal to 3 + 1, so we return false.\n",
    "\"\"\"\n",
    "\n",
    "# Definition for a binary tree node.\n",
    "# class TreeNode:\n",
    "#     def __init__(self, val=0, left=None, right=None):\n",
    "#         self.val = val\n",
    "#         self.left = left\n",
    "#         self.right = right\n",
    "class Solution:\n",
    "    def checkTree(self, root: Optional[TreeNode]) -> bool:\n",
    "        root_node = root.val # The value of the root node\n",
    "        lchild = root.left.val # The value of the left child node\n",
    "        rchild = root.right.val # The value of the right child node\n",
    "        if root_node == (lchild + rchild): # If values are equal - we return True, otherwise we return False\n",
    "            return True\n",
    "        return False"
   ]
  }
 ],
 "metadata": {
  "kernelspec": {
   "display_name": "Python 3 (ipykernel)",
   "language": "python",
   "name": "python3"
  },
  "language_info": {
   "codemirror_mode": {
    "name": "ipython",
    "version": 3
   },
   "file_extension": ".py",
   "mimetype": "text/x-python",
   "name": "python",
   "nbconvert_exporter": "python",
   "pygments_lexer": "ipython3",
   "version": "3.9.7"
  }
 },
 "nbformat": 4,
 "nbformat_minor": 5
}
