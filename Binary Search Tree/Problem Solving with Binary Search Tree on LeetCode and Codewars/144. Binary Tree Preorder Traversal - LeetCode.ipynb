{
 "cells": [
  {
   "cell_type": "markdown",
   "id": "5161a3e8",
   "metadata": {},
   "source": [
    "### 144. Binary Tree Preorder Traversal "
   ]
  },
  {
   "cell_type": "code",
   "execution_count": null,
   "id": "0c3d76a2",
   "metadata": {},
   "outputs": [],
   "source": [
    "\"\"\"\n",
    "Given the root of a binary tree, return the preorder traversal of its nodes' values.\n",
    "Example 1:\n",
    "\n",
    "Input: root = [1,null,2,3]\n",
    "Output: [1,2,3]\n",
    "Example 2:\n",
    "\n",
    "Input: root = []\n",
    "Output: []\n",
    "Example 3:\n",
    "\n",
    "Input: root = [1]\n",
    "Output: [1]\n",
    "\"\"\"\n",
    "\n",
    "# Definition for a binary tree node.\n",
    "# class TreeNode:\n",
    "#     def __init__(self, val=0, left=None, right=None):\n",
    "#         self.val = val\n",
    "#         self.left = left\n",
    "#         self.right = right\n",
    "class Solution:\n",
    "    def preorderTraversal(self, root: Optional[TreeNode]) -> List[int]:\n",
    "        if not root: # The Binary Search Tree is empty - return None\n",
    "            return None\n",
    "    # The Preorder Traversal envisages the following path: root node -> left nodes -> right nodes\n",
    "        def preorder_traversal(root, final=[]):\n",
    "            curElement = root.val # Firstly, the root node is appended to the final list\n",
    "            final.append(curElement)\n",
    "            if root.left: # Secondly, left nodes are appended to the final list\n",
    "                preorder_traversal(root.left, final)\n",
    "            if root.right: # Thirdly, right nodes are appended to the final list\n",
    "                preorder_traversal(root.right, final)\n",
    "            return final\n",
    "        result = preorder_traversal(root)\n",
    "        return result"
   ]
  }
 ],
 "metadata": {
  "kernelspec": {
   "display_name": "Python 3 (ipykernel)",
   "language": "python",
   "name": "python3"
  },
  "language_info": {
   "codemirror_mode": {
    "name": "ipython",
    "version": 3
   },
   "file_extension": ".py",
   "mimetype": "text/x-python",
   "name": "python",
   "nbconvert_exporter": "python",
   "pygments_lexer": "ipython3",
   "version": "3.9.7"
  }
 },
 "nbformat": 4,
 "nbformat_minor": 5
}
