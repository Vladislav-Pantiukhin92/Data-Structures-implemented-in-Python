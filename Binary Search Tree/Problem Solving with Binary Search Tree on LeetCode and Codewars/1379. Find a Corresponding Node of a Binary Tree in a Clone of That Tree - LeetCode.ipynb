{
 "cells": [
  {
   "cell_type": "markdown",
   "id": "030cb4dc",
   "metadata": {},
   "source": [
    "### 1379. Find a Corresponding Node of a Binary Tree in a Clone of That Tree"
   ]
  },
  {
   "cell_type": "code",
   "execution_count": null,
   "id": "b819783f",
   "metadata": {},
   "outputs": [],
   "source": [
    "\"\"\"\n",
    "Given two binary trees original and cloned and given a reference to a node target in the original tree.\n",
    "The cloned tree is a copy of the original tree.\n",
    "Return a reference to the same node in the cloned tree.\n",
    "Note that you are not allowed to change any of the two trees or the target node and the answer must be \n",
    "a reference to a node in the cloned tree.\n",
    "Example 1:\n",
    "Input: tree = [7,4,3,null,null,6,19], target = 3\n",
    "Output: 3\n",
    "Explanation: In all examples the original and cloned trees are shown. The target node is a green node \n",
    "from the original tree. The answer is the yellow node from the cloned tree.\n",
    "Example 2:\n",
    "\n",
    "Input: tree = [7], target =  7\n",
    "Output: 7\n",
    "Example 3:\n",
    "\n",
    "Input: tree = [8,null,6,null,5,null,4,null,3,null,2,null,1], target = 4\n",
    "Output: 4\n",
    "\"\"\"\n",
    "\n",
    "# Definition for a binary tree node.\n",
    "# class TreeNode:\n",
    "#     def __init__(self, x):\n",
    "#         self.val = x\n",
    "#         self.left = None\n",
    "#         self.right = None\n",
    "\n",
    "class Solution:\n",
    "    def getTargetCopy(self, original: TreeNode, cloned: TreeNode, target: TreeNode) -> TreeNode:\n",
    "    # We are going to traverse the cloned Binary Tree until the target node is not found. After that the \n",
    "    # target node is added to the list and returned\n",
    "        def find_target(cloned, target, final=[]):\n",
    "        # The left-right traversal of the cloned Binary Tree\n",
    "            if cloned.val == target.val: # If the root node == the target node, it is added to the list and \n",
    "                # returned\n",
    "                final.append(cloned)\n",
    "            if cloned.left: # Let's traverse all the left nodes\n",
    "                find_target(cloned.left, target)\n",
    "            if cloned.right: # Let's traverse all the right nodes\n",
    "                find_target(cloned.right, target)\n",
    "            return final # The list with the target node is returned\n",
    "        result = find_target(cloned, target) \n",
    "        # Now the target node is within the list, we need to return it (index - [0])\n",
    "        return result[0]"
   ]
  }
 ],
 "metadata": {
  "kernelspec": {
   "display_name": "Python 3 (ipykernel)",
   "language": "python",
   "name": "python3"
  },
  "language_info": {
   "codemirror_mode": {
    "name": "ipython",
    "version": 3
   },
   "file_extension": ".py",
   "mimetype": "text/x-python",
   "name": "python",
   "nbconvert_exporter": "python",
   "pygments_lexer": "ipython3",
   "version": "3.9.7"
  }
 },
 "nbformat": 4,
 "nbformat_minor": 5
}
