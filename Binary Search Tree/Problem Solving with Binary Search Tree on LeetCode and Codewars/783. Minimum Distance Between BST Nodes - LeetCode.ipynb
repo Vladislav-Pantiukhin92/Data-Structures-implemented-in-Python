{
 "cells": [
  {
   "cell_type": "markdown",
   "id": "b7380e0f",
   "metadata": {},
   "source": [
    "### 783. Minimum Distance Between BST Nodes"
   ]
  },
  {
   "cell_type": "code",
   "execution_count": null,
   "id": "2cae5494",
   "metadata": {},
   "outputs": [],
   "source": [
    "\"\"\"\n",
    "Given the root of a Binary Search Tree (BST), return the minimum difference between the values of any two \n",
    "different nodes in the tree.\n",
    "Example 1:\n",
    "\n",
    "Input: root = [4,2,6,1,3]\n",
    "Output: 1\n",
    "Example 2:\n",
    "\n",
    "Input: root = [1,0,48,null,null,12,49]\n",
    "Output: 1\n",
    "\"\"\"\n",
    "\n",
    "# Definition for a binary tree node.\n",
    "# class TreeNode:\n",
    "#     def __init__(self, val=0, left=None, right=None):\n",
    "#         self.val = val\n",
    "#         self.left = left\n",
    "#         self.right = right\n",
    "class Solution:\n",
    "    def minDiffInBST(self, root: Optional[TreeNode]) -> int:\n",
    "    # To figure out the minimum difference, first of all, it is necessary to know all values of nodes within \n",
    "    # the Binary Search Tree\n",
    "    # Such a problem can be resolved through the implementation of the Inorder Traversal (sort in ascending order)\n",
    "        def inorder_traversal(root, final=[]): # Let's create the internal function, which will execute the Inorder\n",
    "            # Traversal of the Binary Search Tree\n",
    "            if root.left:\n",
    "                inorder_traversal(root.left)\n",
    "            curElement = root.val\n",
    "            final.append(curElement) # All traversed values are added to the list\n",
    "            if root.right:\n",
    "                inorder_traversal(root.right)\n",
    "            return final\n",
    "        result = inorder_traversal(root)\n",
    "        # As we obtained the list of values in ascending order, the final step is to find the minimum difference\n",
    "        # We are going to inspect every pair of values (two adjacent values)\n",
    "        i = 0\n",
    "        j = 1\n",
    "        minDiff = float(\"inf\")\n",
    "        while j < len(result):\n",
    "            if result[j] - result[i] < minDiff: # The minimum difference will be constantly updated (when the new\n",
    "                # result is smaller than the previous one)\n",
    "                minDiff = result[j] - result[i]\n",
    "            i += 1\n",
    "            j += 1\n",
    "        return minDiff99 # Finally, the smallest difference is returned"
   ]
  }
 ],
 "metadata": {
  "kernelspec": {
   "display_name": "Python 3 (ipykernel)",
   "language": "python",
   "name": "python3"
  },
  "language_info": {
   "codemirror_mode": {
    "name": "ipython",
    "version": 3
   },
   "file_extension": ".py",
   "mimetype": "text/x-python",
   "name": "python",
   "nbconvert_exporter": "python",
   "pygments_lexer": "ipython3",
   "version": "3.9.7"
  }
 },
 "nbformat": 4,
 "nbformat_minor": 5
}
