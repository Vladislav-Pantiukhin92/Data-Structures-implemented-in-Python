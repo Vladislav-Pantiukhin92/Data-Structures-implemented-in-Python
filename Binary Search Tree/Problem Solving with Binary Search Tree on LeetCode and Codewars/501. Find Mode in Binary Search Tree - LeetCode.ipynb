{
 "cells": [
  {
   "cell_type": "markdown",
   "id": "1ae5c78d",
   "metadata": {},
   "source": [
    "### 501. Find Mode in Binary Search Tree"
   ]
  },
  {
   "cell_type": "code",
   "execution_count": null,
   "id": "c93ce517",
   "metadata": {},
   "outputs": [],
   "source": [
    "\"\"\"\n",
    "Given the root of a binary search tree (BST) with duplicates, return all the mode(s) (i.e., the most \n",
    "frequently occurred element) in it.\n",
    "If the tree has more than one mode, return them in any order.\n",
    "Assume a BST is defined as follows:\n",
    "The left subtree of a node contains only nodes with keys less than or equal to the node's key.\n",
    "The right subtree of a node contains only nodes with keys greater than or equal to the node's key.\n",
    "Both the left and right subtrees must also be binary search trees.\n",
    "Example 1:\n",
    "\n",
    "Input: root = [1,null,2,2]\n",
    "Output: [2]\n",
    "Example 2:\n",
    "\n",
    "Input: root = [0]\n",
    "Output: [0]\n",
    "\"\"\"\n",
    "\n",
    "# Definition for a binary tree node.\n",
    "# class TreeNode:\n",
    "#     def __init__(self, val=0, left=None, right=None):\n",
    "#         self.val = val\n",
    "#         self.left = left\n",
    "#         self.right = right\n",
    "\n",
    "from collections import Counter\n",
    "from operator import *\n",
    "\n",
    "class Solution:\n",
    "    def findMode(self, root: Optional[TreeNode]) -> List[int]:\n",
    "    # To extract all elements from the Binary Search Tree let's utilize the most effective traversal procedure - \n",
    "    # The Inorder Traversal\n",
    "        def inorder_traversal(root, final=[]): # The function, which implements the Inorder Traversal of the \n",
    "            # Binary Search Tree with the following path: left nodes -> root node -> right nodes\n",
    "            # All elements will be stored within the list container\n",
    "            if root.left:\n",
    "                inorder_traversal(root.left)\n",
    "            curElement = root.val\n",
    "            final.append(curElement)\n",
    "            if root.right:\n",
    "                inorder_traversal(root.right)\n",
    "            return final\n",
    "        result = inorder_traversal(root) # Right now all elements are stored within the list container\n",
    "        # Through the 'collections.Counter' let's determine the occurrences of elements \n",
    "        my_list = sorted(list(dict(Counter(result)).items()), key=itemgetter(1))\n",
    "        maxElement = max(my_list, key=itemgetter(1))[1] # maxElement implies the maxOccurrence of elements\n",
    "        # Through the 'filter' function we remove elements without the maxOccurrence and return the final result\n",
    "        final_lst = list(filter(lambda x: x[1] == maxElement, my_list))\n",
    "        final_lst = list(map(lambda x: x[0], final_lst))\n",
    "        return final_lst"
   ]
  }
 ],
 "metadata": {
  "kernelspec": {
   "display_name": "Python 3 (ipykernel)",
   "language": "python",
   "name": "python3"
  },
  "language_info": {
   "codemirror_mode": {
    "name": "ipython",
    "version": 3
   },
   "file_extension": ".py",
   "mimetype": "text/x-python",
   "name": "python",
   "nbconvert_exporter": "python",
   "pygments_lexer": "ipython3",
   "version": "3.9.7"
  }
 },
 "nbformat": 4,
 "nbformat_minor": 5
}
