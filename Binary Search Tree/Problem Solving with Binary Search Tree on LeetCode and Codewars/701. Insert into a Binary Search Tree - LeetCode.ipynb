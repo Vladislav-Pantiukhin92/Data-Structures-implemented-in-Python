{
 "cells": [
  {
   "cell_type": "markdown",
   "id": "67b24108",
   "metadata": {},
   "source": [
    "### 701. Insert into a Binary Search Tree"
   ]
  },
  {
   "cell_type": "code",
   "execution_count": null,
   "id": "8027674d",
   "metadata": {},
   "outputs": [],
   "source": [
    "\"\"\"\n",
    "You are given the root node of a binary search tree (BST) and a value to insert into the tree. \n",
    "Return the root node of the BST after the insertion. It is guaranteed that the new value does not exist in the original BST.\n",
    "Notice that there may exist multiple valid ways for the insertion, as long as the tree remains \n",
    "a BST after insertion. You can return any of them.\n",
    "Example 1:\n",
    "\n",
    "Input: root = [4,2,7,1,3], val = 5\n",
    "Output: [4,2,7,1,3,5]\n",
    "Explanation: Another accepted tree is:\n",
    "\n",
    "Example 2:\n",
    "\n",
    "Input: root = [40,20,60,10,30,50,70], val = 25\n",
    "Output: [40,20,60,10,30,50,70,null,null,25]\n",
    "Example 3:\n",
    "\n",
    "Input: root = [4,2,7,1,3,null,null,null,null,null,null], val = 5\n",
    "Output: [4,2,7,1,3,5]\n",
    "\"\"\"\n",
    "\n",
    "# Definition for a binary tree node.\n",
    "# class TreeNode:\n",
    "#     def __init__(self, val=0, left=None, right=None):\n",
    "#         self.val = val\n",
    "#         self.left = left\n",
    "#         self.right = right\n",
    "\n",
    "class Solution:\n",
    "    def insertIntoBST(self, root: Optional[TreeNode], val: int) -> Optional[TreeNode]:\n",
    "        if not root: # If the Binary Search Tree is empty - we create the first node\n",
    "            root = TreeNode(val)\n",
    "            return root\n",
    "        if root.val == 0: # If the value of the node is 0, the position is vacant, so it should be taken\n",
    "            root.val = val\n",
    "            return root\n",
    "        elif root.val == val: # The case, when the value is already within the Binary Search Tree\n",
    "            return\n",
    "        else:\n",
    "            # Otherwise, we are going to traverse the Binary Search Tree\n",
    "            if val > root.val: # The case, when we are going to traverse the right half of the Binary Search Tree\n",
    "                if root.right is None:\n",
    "                    root.right = TreeNode(val)\n",
    "\n",
    "                else:\n",
    "                    self.insertIntoBST(root.right, val)\n",
    "            else:\n",
    "                if root.left is None: # The case, when we are going to traverse the left half of the Binary Search Tree\n",
    "                    root.left = TreeNode(val)\n",
    "                else:\n",
    "                    self.insertIntoBST(root.left, val)\n",
    "        return root"
   ]
  }
 ],
 "metadata": {
  "kernelspec": {
   "display_name": "Python 3 (ipykernel)",
   "language": "python",
   "name": "python3"
  },
  "language_info": {
   "codemirror_mode": {
    "name": "ipython",
    "version": 3
   },
   "file_extension": ".py",
   "mimetype": "text/x-python",
   "name": "python",
   "nbconvert_exporter": "python",
   "pygments_lexer": "ipython3",
   "version": "3.9.7"
  }
 },
 "nbformat": 4,
 "nbformat_minor": 5
}
