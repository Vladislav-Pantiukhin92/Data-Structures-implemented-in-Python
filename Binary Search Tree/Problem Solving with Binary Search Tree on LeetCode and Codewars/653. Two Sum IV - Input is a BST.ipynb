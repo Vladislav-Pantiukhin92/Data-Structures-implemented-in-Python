{
 "cells": [
  {
   "cell_type": "markdown",
   "id": "3179c770",
   "metadata": {},
   "source": [
    "### 653. Two Sum IV - Input is a BST"
   ]
  },
  {
   "cell_type": "code",
   "execution_count": null,
   "id": "cbe66c48",
   "metadata": {},
   "outputs": [],
   "source": [
    "\"\"\"\n",
    "Given the root of a Binary Search Tree and a target number k, return true if there exist two elements \n",
    "in the BST such that their sum is equal to the given target.\n",
    "Example 1:\n",
    "\n",
    "Input: root = [5,3,6,2,4,null,7], k = 9\n",
    "Output: true\n",
    "Example 2:\n",
    "\n",
    "Input: root = [5,3,6,2,4,null,7], k = 28\n",
    "Output: false\n",
    "\"\"\"\n",
    "\n",
    "# Definition for a binary tree node.\n",
    "# class TreeNode:\n",
    "#     def __init__(self, val=0, left=None, right=None):\n",
    "#         self.val = val\n",
    "#         self.left = left\n",
    "#         self.right = right\n",
    "\n",
    "from operator import *\n",
    "\n",
    "class Solution:\n",
    "    def findTarget(self, root: Optional[TreeNode], k: int) -> bool:\n",
    "    # Let's implement the Inorder Traversal of the Binary Search Tree for appending all elements to the\n",
    "    # list container\n",
    "        def inorder_traversal(root, final=[]): # The function, which will implement the Inorder Traversal \n",
    "            # of the Binary Search Tree \n",
    "            if root.left: # First of all, let's traverse left nodes\n",
    "                inorder_traversal(root.left, final)\n",
    "            curElement = root.val # Afterwards, let's traverse the root node\n",
    "            final.append(curElement)\n",
    "            if root.right: # Finally, let's traverse right nodes\n",
    "                inorder_traversal(root.right, final)\n",
    "            return final\n",
    "        result = inorder_traversal(root) # Right now we have the list of elements\n",
    "        # The final step is to use the nested 'for loop' and try to select two elements, the sum of which \n",
    "        # equals to the given target 'k'\n",
    "        for i in range(len(result) - 1):\n",
    "            for j in range(i + 1, len(result)):\n",
    "                if add(result[i], result[j]) == k:\n",
    "                    return True # If such two elements exist within the list container - we return True\n",
    "        return False # Otherwise, we return False"
   ]
  }
 ],
 "metadata": {
  "kernelspec": {
   "display_name": "Python 3 (ipykernel)",
   "language": "python",
   "name": "python3"
  },
  "language_info": {
   "codemirror_mode": {
    "name": "ipython",
    "version": 3
   },
   "file_extension": ".py",
   "mimetype": "text/x-python",
   "name": "python",
   "nbconvert_exporter": "python",
   "pygments_lexer": "ipython3",
   "version": "3.9.7"
  }
 },
 "nbformat": 4,
 "nbformat_minor": 5
}
