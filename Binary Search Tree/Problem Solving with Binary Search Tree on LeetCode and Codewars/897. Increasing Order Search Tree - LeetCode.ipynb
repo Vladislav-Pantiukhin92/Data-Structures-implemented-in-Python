{
 "cells": [
  {
   "cell_type": "markdown",
   "id": "fd0c9cd1",
   "metadata": {},
   "source": [
    "### 897. Increasing Order Search Tree"
   ]
  },
  {
   "cell_type": "code",
   "execution_count": null,
   "id": "4880c7b9",
   "metadata": {},
   "outputs": [],
   "source": [
    "\"\"\"\n",
    "Given the root of a binary search tree, rearrange the tree in in-order so that the leftmost node in the \n",
    "tree is now the root of the tree, and every node has no left child and only one right child.\n",
    "Example 1:\n",
    "\n",
    "Input: root = [5,3,6,2,4,null,8,1,null,null,null,7,9]\n",
    "Output: [1,null,2,null,3,null,4,null,5,null,6,null,7,null,8,null,9]\n",
    "Example 2:\n",
    "\n",
    "Input: root = [5,1,7]\n",
    "Output: [1,null,5,null,7]\n",
    "\"\"\"\n",
    "\n",
    "# Definition for a binary tree node.\n",
    "# class TreeNode:\n",
    "#     def __init__(self, val=0, left=None, right=None):\n",
    "#         self.val = val\n",
    "#         self.left = left\n",
    "#         self.right = right\n",
    "class Solution:\n",
    "    def increasingBST(self, root: TreeNode) -> TreeNode:\n",
    "    # First of all, we need to extract all elements through the Inorder Traversal of the Binary Search Tree\n",
    "    # and append them to the list container\n",
    "        def inorder_traversal(root, final=[]): # The finction, which implements the Inorder Traversal of the \n",
    "            # Binary Search Tree\n",
    "            if root.left: # Let's traverse left nodes\n",
    "                inorder_traversal(root.left, final)\n",
    "            curElement = root.val # Let's traverse the root node\n",
    "            final.append(curElement)\n",
    "            if root.right: # Let's traverse right nodes\n",
    "                inorder_traversal(root.right, final)\n",
    "            return final\n",
    "        result = inorder_traversal(root) # Right now we have all elements within the aforementioned list container\n",
    "        # The final step is to restore the Binary Search Tree with elements in ascending order\n",
    "        root = TreeNode(result[0]) # The root node is initialized\n",
    "        current = root\n",
    "        for i in range(1, len(result)): # Using the 'for loop' we restore the Binary Search Tree with the \n",
    "            # focus upon the right child nodes\n",
    "            current.right = TreeNode(result[i])\n",
    "            current = current.right\n",
    "        return root"
   ]
  }
 ],
 "metadata": {
  "kernelspec": {
   "display_name": "Python 3 (ipykernel)",
   "language": "python",
   "name": "python3"
  },
  "language_info": {
   "codemirror_mode": {
    "name": "ipython",
    "version": 3
   },
   "file_extension": ".py",
   "mimetype": "text/x-python",
   "name": "python",
   "nbconvert_exporter": "python",
   "pygments_lexer": "ipython3",
   "version": "3.9.7"
  }
 },
 "nbformat": 4,
 "nbformat_minor": 5
}
