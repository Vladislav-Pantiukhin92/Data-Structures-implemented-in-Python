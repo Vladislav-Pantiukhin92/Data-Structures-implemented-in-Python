{
 "cells": [
  {
   "cell_type": "markdown",
   "id": "6748ff99",
   "metadata": {},
   "source": [
    "### 1008. Construct Binary Search Tree from Preorder Traversal"
   ]
  },
  {
   "cell_type": "code",
   "execution_count": null,
   "id": "a6732c3b",
   "metadata": {},
   "outputs": [],
   "source": [
    "\"\"\"\n",
    "Given an array of integers preorder, which represents the preorder traversal of a BST (i.e., binary search \n",
    "tree), construct the tree and return its root.\n",
    "It is guaranteed that there is always possible to find a binary search tree with the given requirements \n",
    "for the given test cases.\n",
    "A binary search tree is a binary tree where for every node, any descendant of Node.left has a value \n",
    "strictly less than Node.val, and any descendant of Node.right has a value strictly greater than Node.val.\n",
    "A preorder traversal of a binary tree displays the value of the node first, then traverses Node.left, \n",
    "then traverses Node.right.\n",
    "Example 1:\n",
    "\n",
    "Input: preorder = [8,5,1,7,10,12]\n",
    "Output: [8,5,10,1,7,null,12]\n",
    "Example 2:\n",
    "\n",
    "Input: preorder = [1,3]\n",
    "Output: [1,null,3]\n",
    "\"\"\"\n",
    "\n",
    "# Definition for a binary tree node.\n",
    "# class TreeNode:\n",
    "#     def __init__(self, val=0, left=None, right=None):\n",
    "#         self.val = val\n",
    "#         self.left = left\n",
    "#         self.right = right\n",
    "class Solution:\n",
    "    def bstFromPreorder(self, preorder: List[int]) -> Optional[TreeNode]:\n",
    "        root = TreeNode(preorder[0]) # First of all, let's initialize the root node of the Binary Search Tree - \n",
    "        # it is the first element within the preorder list\n",
    "        # After that, let's make the function, aimed at inserting a node within the Binary Search Tree\n",
    "        def insert_node(root, node): # The function, aimed at inserting nodes within the Binary Search Tree\n",
    "            if root is None:\n",
    "                root = TreeNode(node)\n",
    "                return\n",
    "            else:\n",
    "                if node > root.val: # The case, when the input node is larger than the root node\n",
    "                    if root.right is None:\n",
    "                        root.right = TreeNode(node)\n",
    "                        return \n",
    "                    else:\n",
    "                        insert_node(root.right, node)\n",
    "                else: # The case when, the input node is smaller than the root node\n",
    "                    if root.left is None:\n",
    "                        root.left = TreeNode(node)\n",
    "                        return\n",
    "                    else:\n",
    "                        insert_node(root.left, node)\n",
    "                        \n",
    "        for i in preorder[1:]: # Through the 'for loop' we insert all values within the Binary Search Tree\n",
    "        # We start from the index [1], because the root node is already initialized at the beginning of the solution\n",
    "            insert_node(root, i)\n",
    "        return root"
   ]
  }
 ],
 "metadata": {
  "kernelspec": {
   "display_name": "Python 3 (ipykernel)",
   "language": "python",
   "name": "python3"
  },
  "language_info": {
   "codemirror_mode": {
    "name": "ipython",
    "version": 3
   },
   "file_extension": ".py",
   "mimetype": "text/x-python",
   "name": "python",
   "nbconvert_exporter": "python",
   "pygments_lexer": "ipython3",
   "version": "3.9.7"
  }
 },
 "nbformat": 4,
 "nbformat_minor": 5
}
