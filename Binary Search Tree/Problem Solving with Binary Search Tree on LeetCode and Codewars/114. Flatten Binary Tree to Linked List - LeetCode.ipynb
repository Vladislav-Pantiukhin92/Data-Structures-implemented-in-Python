{
 "cells": [
  {
   "cell_type": "markdown",
   "id": "29a14f85",
   "metadata": {},
   "source": [
    "### 114. Flatten Binary Tree to Linked List"
   ]
  },
  {
   "cell_type": "code",
   "execution_count": null,
   "id": "8ba2e58a",
   "metadata": {},
   "outputs": [],
   "source": [
    "\"\"\"\n",
    "Given the root of a binary tree, flatten the tree into a \"linked list\":\n",
    "The \"linked list\" should use the same TreeNode class where the right child pointer points to the next \n",
    "node in the list and the left child pointer is always null.\n",
    "The \"linked list\" should be in the same order as a pre-order traversal of the binary tree.\n",
    "Example 1:\n",
    "\n",
    "Input: root = [1,2,5,3,4,null,6]\n",
    "Output: [1,null,2,null,3,null,4,null,5,null,6]\n",
    "Example 2:\n",
    "\n",
    "Input: root = []\n",
    "Output: []\n",
    "Example 3:\n",
    "\n",
    "Input: root = [0]\n",
    "Output: [0]\n",
    "\"\"\"\n",
    "\n",
    "# Definition for a binary tree node.\n",
    "# class TreeNode:\n",
    "#     def __init__(self, val=0, left=None, right=None):\n",
    "#         self.val = val\n",
    "#         self.left = left\n",
    "#         self.right = right\n",
    "class Solution:\n",
    "    def flatten(self, root: Optional[TreeNode]) -> None:\n",
    "        if root is None: # If the Binary Tree is empty - we return None\n",
    "            return root\n",
    "        elif root.left is None and root.right is None: # If the Binary Tree contains only one node (that is, the \n",
    "            # root node) - we return this root node\n",
    "            return root\n",
    "        # If the Binary Tree contains over 1 element - we implement the Preorder Traversal algorithm\n",
    "        # While traversing the Binary Tree, we will add nodes' values to the list container\n",
    "        def preorder_traversal(root, final=[]): # The Preorder Traversal: root node - > left nodes - > right nodes\n",
    "            final.append(root.val)\n",
    "            if root.left:\n",
    "                preorder_traversal(root.left, final)\n",
    "            if root.right:\n",
    "                preorder_traversal(root.right, final)\n",
    "            return final\n",
    "        nodes_lst = preorder_traversal(root) # Now we have the list of nodes\n",
    "        current = root \n",
    "        # The final operation is to build the Singly Linked List, using the Tree Node class, where the left pointer -> None\n",
    "        # and the right pointer -> the next node (element)\n",
    "        for i in nodes_lst[1:]:\n",
    "            current.right = TreeNode(i)\n",
    "            current.left = None\n",
    "            current = current.right"
   ]
  }
 ],
 "metadata": {
  "kernelspec": {
   "display_name": "Python 3 (ipykernel)",
   "language": "python",
   "name": "python3"
  },
  "language_info": {
   "codemirror_mode": {
    "name": "ipython",
    "version": 3
   },
   "file_extension": ".py",
   "mimetype": "text/x-python",
   "name": "python",
   "nbconvert_exporter": "python",
   "pygments_lexer": "ipython3",
   "version": "3.9.7"
  }
 },
 "nbformat": 4,
 "nbformat_minor": 5
}
