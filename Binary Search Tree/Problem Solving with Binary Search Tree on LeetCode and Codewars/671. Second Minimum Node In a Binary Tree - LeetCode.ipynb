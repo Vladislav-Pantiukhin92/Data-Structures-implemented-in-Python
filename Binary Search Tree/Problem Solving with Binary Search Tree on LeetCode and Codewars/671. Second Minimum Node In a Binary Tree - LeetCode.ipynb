{
 "cells": [
  {
   "cell_type": "markdown",
   "id": "08f0fc4d",
   "metadata": {},
   "source": [
    "### 671. Second Minimum Node In a Binary Tree"
   ]
  },
  {
   "cell_type": "code",
   "execution_count": null,
   "id": "fbf1897b",
   "metadata": {},
   "outputs": [],
   "source": [
    "\"\"\"\n",
    "Given a non-empty special binary tree consisting of nodes with the non-negative value, where each node \n",
    "in this tree has exactly two or zero sub-node. If the node has two sub-nodes, then this node's value is \n",
    "the smaller value among its two sub-nodes. More formally, the property root.val = min(root.left.val, \n",
    "root.right.val) always holds.\n",
    "Given such a binary tree, you need to output the second minimum value in the set made of all the nodes' \n",
    "value in the whole tree.\n",
    "If no such second minimum value exists, output -1 instead.\n",
    "Example 1:\n",
    "\n",
    "Input: root = [2,2,5,null,null,5,7]\n",
    "Output: 5\n",
    "Explanation: The smallest value is 2, the second smallest value is 5.\n",
    "Example 2:\n",
    "\n",
    "Input: root = [2,2,2]\n",
    "Output: -1\n",
    "Explanation: The smallest value is 2, but there isn't any second smallest value.\n",
    "\"\"\"\n",
    "\n",
    "from heapq import nsmallest # 'heapq.nsmallest' will find the n-th smallest elements within the array\n",
    "\n",
    "# Definition for a binary tree node.\n",
    "# class TreeNode:\n",
    "#     def __init__(self, val=0, left=None, right=None):\n",
    "#         self.val = val\n",
    "#         self.left = left\n",
    "#         self.right = right\n",
    "class Solution:\n",
    "    def findSecondMinimumValue(self, root: Optional[TreeNode]) -> int:\n",
    "    # Let's traverse the Binary Tree and append all nodes'values to the list\n",
    "        def tree_traversal(root, final=[]): # The Binary Tree traversal function\n",
    "            if root.left: # Firstly, let's traverse all the left nodes\n",
    "                tree_traversal(root.left, final)\n",
    "            final.append(root.val) # Secondly, let's traverse the root node\n",
    "            if root.right: # Thirdly, let's traverse all the right nodes\n",
    "                tree_traversal(root.right, final)\n",
    "            return final # The list with all nodes' values is returned\n",
    "        tree_list = tree_traversal(root)\n",
    "        tree_list = list(set(tree_list)) # To remove duplicates from the list, let's use the set structure\n",
    "        if len(tree_list) < 2: # If the list contains less than 2 elements - we return -1\n",
    "            return -1\n",
    "        else:\n",
    "        # Otherwise, we use 'heapq.nsmallest' to find two the smallest elements in the list\n",
    "            smallest = sorted(nsmallest(2, tree_list))\n",
    "            return smallest[1] # The larger one among two the smallest elements is returned"
   ]
  }
 ],
 "metadata": {
  "kernelspec": {
   "display_name": "Python 3 (ipykernel)",
   "language": "python",
   "name": "python3"
  },
  "language_info": {
   "codemirror_mode": {
    "name": "ipython",
    "version": 3
   },
   "file_extension": ".py",
   "mimetype": "text/x-python",
   "name": "python",
   "nbconvert_exporter": "python",
   "pygments_lexer": "ipython3",
   "version": "3.9.7"
  }
 },
 "nbformat": 4,
 "nbformat_minor": 5
}
