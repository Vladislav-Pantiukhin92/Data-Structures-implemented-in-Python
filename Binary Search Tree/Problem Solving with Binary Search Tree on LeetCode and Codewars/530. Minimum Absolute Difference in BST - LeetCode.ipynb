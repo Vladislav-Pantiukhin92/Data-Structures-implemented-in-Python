{
 "cells": [
  {
   "cell_type": "markdown",
   "id": "9c1b5967",
   "metadata": {},
   "source": [
    "### 530. Minimum Absolute Difference in BST"
   ]
  },
  {
   "cell_type": "code",
   "execution_count": null,
   "id": "391a502d",
   "metadata": {},
   "outputs": [],
   "source": [
    "\"\"\"\n",
    "Given the root of a Binary Search Tree (BST), return the minimum absolute difference between the values \n",
    "of any two different nodes in the tree.\n",
    "Example 1:\n",
    "\n",
    "Input: root = [4,2,6,1,3]\n",
    "Output: 1\n",
    "Example 2:\n",
    "\n",
    "Input: root = [1,0,48,null,null,12,49]\n",
    "Output: 1\n",
    "\"\"\"\n",
    "\n",
    "# Definition for a binary tree node.\n",
    "# class TreeNode:\n",
    "#     def __init__(self, val=0, left=None, right=None):\n",
    "#         self.val = val\n",
    "#         self.left = left\n",
    "#         self.right = right\n",
    "class Solution:\n",
    "    def getMinimumDifference(self, root: Optional[TreeNode]) -> int:\n",
    "# Let's execute the inorder traversal algorithm to obtain the values of the Binary Search Tree \n",
    "# in ascending order\n",
    "        def inorder_traversal(root, final=[]): # The inorder traversal function\n",
    "            if root.left: # The first step is to traverse all the left nodes\n",
    "                inorder_traversal(root.left, final)\n",
    "            final.append(root.val) # The second step is to traverse the root node\n",
    "            if root.right: # The final step is to traverse all the right nodes\n",
    "                inorder_traversal(root.right, final)\n",
    "            return final # The list with nodes' values, sorted in ascending order, is returned\n",
    "        values_lst = inorder_traversal(root)\n",
    "    # The following operation is to find the minimum absolute difference in the Binary Search Tree\n",
    "    # It is obvious that this minimum absolute difference can be found only between two adjacent elements within \n",
    "    # the sorted list\n",
    "        minDiff = float(\"inf\")\n",
    "        i = 0\n",
    "        j = 1\n",
    "        while j < len(values_lst): # Let's find out the minimum absolute difference between two adjacent elements \n",
    "            # within the sorted list:\n",
    "            if values_lst[j] - values_lst[i] < minDiff:\n",
    "                minDiff = values_lst[j] - values_lst[i] # The minDifference value is updated, if necessary\n",
    "            i += 1\n",
    "            j += 1\n",
    "        return minDiff # The minimum absolute difference is returned"
   ]
  }
 ],
 "metadata": {
  "kernelspec": {
   "display_name": "Python 3 (ipykernel)",
   "language": "python",
   "name": "python3"
  },
  "language_info": {
   "codemirror_mode": {
    "name": "ipython",
    "version": 3
   },
   "file_extension": ".py",
   "mimetype": "text/x-python",
   "name": "python",
   "nbconvert_exporter": "python",
   "pygments_lexer": "ipython3",
   "version": "3.9.7"
  }
 },
 "nbformat": 4,
 "nbformat_minor": 5
}
