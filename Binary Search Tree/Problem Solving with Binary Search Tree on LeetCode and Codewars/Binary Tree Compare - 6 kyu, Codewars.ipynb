{
 "cells": [
  {
   "cell_type": "markdown",
   "id": "5ce35dd2",
   "metadata": {},
   "source": [
    "### Binary Tree Compare - 6 kyu, Codewars"
   ]
  },
  {
   "cell_type": "code",
   "execution_count": null,
   "id": "419d712d",
   "metadata": {},
   "outputs": [],
   "source": [
    "\"\"\"\n",
    "Given the node object:\n",
    "Node:\n",
    "  val: <int>,\n",
    "  left: <Node> or null,\n",
    "  right: <Node> or null\n",
    "write a function compare(a, b) which compares the two trees defined by Nodes a and b and returns true \n",
    "if they are equal in structure and in value and false otherwise.\n",
    "\n",
    "Examples:\n",
    "\n",
    "1       1\n",
    "| \\     | \\\n",
    "2  3    2  3\n",
    "=> true\n",
    "\n",
    "1       1\n",
    "| \\     | \\\n",
    "3  3    2  3\n",
    "=> false (values not the same 2 != 3)\n",
    "\n",
    "1       1\n",
    "| \\     |\n",
    "2  3    2\n",
    "        |\n",
    "        3\n",
    "=> false (structure not the same)\n",
    "\"\"\"\n",
    "\n",
    "def compare(a, b): # We are going to compare two Binary Trees by extracting values and adding them to two lists\n",
    "    # If these lists are not equal - we return False, otherwise we return True\n",
    "    if a is None and b is None: # If both Binary Trees are empty, they are equal - we return True\n",
    "        return True\n",
    "    elif a is None or b is None: # If the first/the second Binary Tree is empty, and the second/the first Binary \n",
    "        # Tree is non-empty - they are different, so we return False\n",
    "        return False\n",
    "    final1 = [] # The first list container\n",
    "    final2 = [] # The second list container\n",
    "    def traversal(root, final): # The Traversal function\n",
    "    # We are going to traverse both Binary Trees, using the same trajectory/pattern for obtaining the fair result:\n",
    "        final.append(root.val) # Firstly, the root node is added\n",
    "        if root.left: # After that, we deal with left nodes\n",
    "            traversal(root.left, final)\n",
    "        else:\n",
    "            final.append(\"None\")\n",
    "        if root.right: # Finally, we deal with right nodes\n",
    "            traversal(root.right, final)\n",
    "        else:\n",
    "            final.append(\"None\") # The list container with traversed nodes is returned\n",
    "        return final\n",
    "    my_arr1 = traversal(a, final1)\n",
    "    my_arr2 = traversal(b, final2)\n",
    "    if len(my_arr1) != len(my_arr2): # If the length of two list containers with nodes' values is different - \n",
    "        # we immediately return False\n",
    "        return False\n",
    "    # Alternatively, we are going to execute the element-by-element comparison between two list containers:\n",
    "    i = 0\n",
    "    j = 0\n",
    "    while i < len(my_arr1):\n",
    "        if my_arr1[i] != my_arr2[j]: # We return False, if the discrepancy is encountered\n",
    "            return False\n",
    "        i += 1\n",
    "        j += 1\n",
    "    return True # Otherwise, folowing the 'while loop' we return True, because errors were not raised"
   ]
  }
 ],
 "metadata": {
  "kernelspec": {
   "display_name": "Python 3 (ipykernel)",
   "language": "python",
   "name": "python3"
  },
  "language_info": {
   "codemirror_mode": {
    "name": "ipython",
    "version": 3
   },
   "file_extension": ".py",
   "mimetype": "text/x-python",
   "name": "python",
   "nbconvert_exporter": "python",
   "pygments_lexer": "ipython3",
   "version": "3.9.7"
  }
 },
 "nbformat": 4,
 "nbformat_minor": 5
}
