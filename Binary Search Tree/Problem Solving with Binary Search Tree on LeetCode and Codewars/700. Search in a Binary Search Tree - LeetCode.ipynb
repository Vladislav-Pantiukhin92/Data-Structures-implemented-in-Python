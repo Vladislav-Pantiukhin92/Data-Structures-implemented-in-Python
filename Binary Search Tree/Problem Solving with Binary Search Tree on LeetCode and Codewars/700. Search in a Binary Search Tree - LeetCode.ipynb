{
 "cells": [
  {
   "cell_type": "markdown",
   "id": "d0a578f8",
   "metadata": {},
   "source": [
    "### 700. Search in a Binary Search Tree"
   ]
  },
  {
   "cell_type": "code",
   "execution_count": null,
   "id": "d1a27914",
   "metadata": {},
   "outputs": [],
   "source": [
    "\"\"\"\n",
    "You are given the root of a binary search tree (BST) and an integer val.\n",
    "Find the node in the BST that the node's value equals val and return the subtree rooted with that node. \n",
    "If such a node does not exist, return null.\n",
    "Example 1:\n",
    "\n",
    "Input: root = [4,2,7,1,3], val = 2\n",
    "Output: [2,1,3]\n",
    "Example 2:\n",
    "\n",
    "Input: root = [4,2,7,1,3], val = 5\n",
    "Output: []\n",
    "\"\"\"\n",
    "\n",
    "# Definition for a binary tree node.\n",
    "# class TreeNode:\n",
    "#     def __init__(self, val=0, left=None, right=None):\n",
    "#         self.val = val\n",
    "#         self.left = left\n",
    "#         self.right = right\n",
    "class Solution:\n",
    "    def searchBST(self, root: Optional[TreeNode], val: int) -> Optional[TreeNode]:\n",
    "        if root.val == val: # The case, when the value is found and subsequently returned\n",
    "            return root\n",
    "        else:\n",
    "            # Otherwise, we are going to traverse the Binary Search Tree in search of the relevant value:\n",
    "            if val > root.val:\n",
    "                if root.right is None:\n",
    "                    return None\n",
    "                else:\n",
    "                    result = self.searchBST(root.right, val)\n",
    "                    return result\n",
    "            else:\n",
    "                if root.left is None:\n",
    "                    return None\n",
    "                else:\n",
    "                    result = self.searchBST(root.left, val)\n",
    "                    return result"
   ]
  }
 ],
 "metadata": {
  "kernelspec": {
   "display_name": "Python 3 (ipykernel)",
   "language": "python",
   "name": "python3"
  },
  "language_info": {
   "codemirror_mode": {
    "name": "ipython",
    "version": 3
   },
   "file_extension": ".py",
   "mimetype": "text/x-python",
   "name": "python",
   "nbconvert_exporter": "python",
   "pygments_lexer": "ipython3",
   "version": "3.9.7"
  }
 },
 "nbformat": 4,
 "nbformat_minor": 5
}
