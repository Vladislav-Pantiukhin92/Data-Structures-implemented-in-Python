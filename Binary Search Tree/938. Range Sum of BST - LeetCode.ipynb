{
 "cells": [
  {
   "cell_type": "markdown",
   "id": "230cb43d",
   "metadata": {},
   "source": [
    "### 938. Range Sum of BST"
   ]
  },
  {
   "cell_type": "code",
   "execution_count": null,
   "id": "3630fc7b",
   "metadata": {},
   "outputs": [],
   "source": [
    "\"\"\"\n",
    "Given the root node of a binary search tree and two integers low and high, return the sum of values of \n",
    "all nodes with a value in the inclusive range [low, high].\n",
    "Example 1:\n",
    "\n",
    "Input: root = [10,5,15,3,7,null,18], low = 7, high = 15\n",
    "Output: 32\n",
    "Explanation: Nodes 7, 10, and 15 are in the range [7, 15]. 7 + 10 + 15 = 32.\n",
    "Example 2:\n",
    "\n",
    "Input: root = [10,5,15,3,7,13,18,1,null,6], low = 6, high = 10\n",
    "Output: 23\n",
    "Explanation: Nodes 6, 7, and 10 are in the range [6, 10]. 6 + 7 + 10 = 23.\n",
    "\"\"\"\n",
    "\n",
    "# Definition for a binary tree node.\n",
    "# class TreeNode:\n",
    "#     def __init__(self, val=0, left=None, right=None):\n",
    "#         self.val = val\n",
    "#         self.left = left\n",
    "#         self.right = right\n",
    "class Solution:\n",
    "    def rangeSumBST(self, root: Optional[TreeNode], low: int, high: int) -> int:\n",
    "        # Let's traverse the Binary Search Tree and append all elements to the list container\n",
    "        # The traversal principle doesn't matter in this case, for example, the Preorder Traversal can be \n",
    "        # easily chosen for this task\n",
    "        def preorder_traversal(root, final = []): # The function, which implements the Preorder Traversal with \n",
    "            # the following path: root node -> left nodes -> right nodes\n",
    "            curElement = root.val\n",
    "            final.append(curElement)\n",
    "            if root.left:\n",
    "                preorder_traversal(root.left, final)\n",
    "            if root.right:\n",
    "                preorder_traversal(root.right, final)\n",
    "            return final\n",
    "        result = preorder_traversal(root) # The 'result' variable will preserve all elements of the Binary Search Tree\n",
    "        # Let's create the filter function, which will remove all elements, which are not contained within the \n",
    "        # inclusive range [low:high]\n",
    "        def filter_func(x):\n",
    "            if x >= low and x <= high:\n",
    "                return 1\n",
    "            return 0\n",
    "        result = list(filter(filter_func, result))\n",
    "        # Finally, we can summarize the remaining elements of the list and obtain the result, which is to be returned\n",
    "        return sum(result)"
   ]
  }
 ],
 "metadata": {
  "kernelspec": {
   "display_name": "Python 3 (ipykernel)",
   "language": "python",
   "name": "python3"
  },
  "language_info": {
   "codemirror_mode": {
    "name": "ipython",
    "version": 3
   },
   "file_extension": ".py",
   "mimetype": "text/x-python",
   "name": "python",
   "nbconvert_exporter": "python",
   "pygments_lexer": "ipython3",
   "version": "3.9.7"
  }
 },
 "nbformat": 4,
 "nbformat_minor": 5
}
