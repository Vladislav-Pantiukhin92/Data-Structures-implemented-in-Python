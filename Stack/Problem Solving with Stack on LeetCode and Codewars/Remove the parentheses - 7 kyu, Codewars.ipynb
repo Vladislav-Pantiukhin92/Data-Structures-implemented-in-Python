{
 "cells": [
  {
   "cell_type": "markdown",
   "id": "922e4582",
   "metadata": {},
   "source": [
    "### Remove the parentheses - 7 kyu, Codewars/Python"
   ]
  },
  {
   "cell_type": "code",
   "execution_count": 17,
   "id": "0c508a1d",
   "metadata": {},
   "outputs": [
    {
     "data": {
      "text/plain": [
       "'exampleexample'"
      ]
     },
     "execution_count": 17,
     "metadata": {},
     "output_type": "execute_result"
    }
   ],
   "source": [
    "\"\"\"\n",
    "Remove the parentheses\n",
    "In this kata you are given a string for example:\n",
    "\"example(unwanted thing)example\"\n",
    "Your task is to remove everything inside the parentheses as well as the parentheses themselves.\n",
    "The example above would return:\n",
    "\n",
    "\"exampleexample\"\n",
    "Notes\n",
    "Other than parentheses only letters and spaces can occur in the string. Don't worry about other brackets \n",
    "like \"[]\" and \"{}\" as these will never appear.\n",
    "There can be multiple parentheses.\n",
    "The parentheses can be nested.\n",
    "\"\"\"\n",
    "\n",
    "def remove_parentheses(s):\n",
    "    final = \"\" # The string will store elements outside parentheses\n",
    "    brackets = [] # Let's initialize the stack structure for parentheses\n",
    "    for i in s:\n",
    "        # If we face letters, digits or space and the stack with parentheses is empty - we append the character \n",
    "        # to the string\n",
    "        if i.isalnum() and not brackets or i.isspace() and not brackets:\n",
    "            final += i\n",
    "        # If we face parenthesis but the stack structure is still empty - we just append the value to the stack\n",
    "        # and continue without appending values to the string (because now they are within parentheses)     \n",
    "        elif not i.isalnum() and not i.isspace() and not brackets:\n",
    "            brackets.append(i)\n",
    "        # If we face parenthesis and the stack structure is not empty, we inspect the new value: if the new value \n",
    "        # is \")\" - it means that we encountered the closing parenthesis, so from now on we can be able to append\n",
    "        # values to the string again\n",
    "        elif not i.isalnum() and not i.isspace() and brackets:\n",
    "            if brackets[-1] + i == \"()\":\n",
    "                brackets.pop()\n",
    "            else: # If the new value is an open parenthesis, it means that we are still within parentheses, so \n",
    "                # we won't append values to the string\n",
    "                brackets.append(i)\n",
    "    return final # The final string result is returned\n",
    "\n",
    "remove_parentheses(\"example(unwanted thing)example\")"
   ]
  }
 ],
 "metadata": {
  "kernelspec": {
   "display_name": "Python 3 (ipykernel)",
   "language": "python",
   "name": "python3"
  },
  "language_info": {
   "codemirror_mode": {
    "name": "ipython",
    "version": 3
   },
   "file_extension": ".py",
   "mimetype": "text/x-python",
   "name": "python",
   "nbconvert_exporter": "python",
   "pygments_lexer": "ipython3",
   "version": "3.9.7"
  }
 },
 "nbformat": 4,
 "nbformat_minor": 5
}
