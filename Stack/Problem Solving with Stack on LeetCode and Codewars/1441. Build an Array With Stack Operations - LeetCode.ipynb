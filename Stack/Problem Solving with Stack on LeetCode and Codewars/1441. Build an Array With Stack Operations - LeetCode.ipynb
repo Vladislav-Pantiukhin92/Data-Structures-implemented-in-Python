{
 "cells": [
  {
   "cell_type": "markdown",
   "id": "a1d87c85",
   "metadata": {},
   "source": [
    "### 1441. Build an Array With Stack Operations"
   ]
  },
  {
   "cell_type": "code",
   "execution_count": 96,
   "id": "2351c908",
   "metadata": {},
   "outputs": [
    {
     "data": {
      "text/plain": [
       "['Push', 'Push', 'Pop', 'Push']"
      ]
     },
     "execution_count": 96,
     "metadata": {},
     "output_type": "execute_result"
    }
   ],
   "source": [
    "\"\"\"\n",
    "You are given an array target and an integer n.\n",
    "In each iteration, you will read a number from list = [1, 2, 3, ..., n].\n",
    "Build the target array using the following operations:\n",
    "\"Push\": Reads a new element from the beginning list, and pushes it in the array.\n",
    "\"Pop\": Deletes the last element of the array.\n",
    "If the target array is already built, stop reading more elements.\n",
    "Return a list of the operations needed to build target. The test cases are generated so that the answer is unique.\n",
    "Example 1:\n",
    "\n",
    "Input: target = [1,3], n = 3\n",
    "Output: [\"Push\",\"Push\",\"Pop\",\"Push\"]\n",
    "Explanation: \n",
    "Read number 1 and automatically push in the array -> [1]\n",
    "Read number 2 and automatically push in the array then Pop it -> [1]\n",
    "Read number 3 and automatically push in the array -> [1,3]\n",
    "Example 2:\n",
    "\n",
    "Input: target = [1,2,3], n = 3\n",
    "Output: [\"Push\",\"Push\",\"Push\"]\n",
    "Example 3:\n",
    "\n",
    "Input: target = [1,2], n = 4\n",
    "Output: [\"Push\",\"Push\"]\n",
    "Explanation: You only need to read the first 2 numbers and stop.\n",
    "\"\"\"\n",
    "\n",
    "class Solution:\n",
    "    def buildArray(self, target: List[int], n: int) -> List[str]:\n",
    "        final_array = [] # The container will store just \"Push\" or \"Pop\"\n",
    "        count_array = [] # The array will store numbers, which will be compared with the input array\n",
    "        count = 1 # We start from zero and are going to move in ascending order\n",
    "        while count < n and count_array != target:\n",
    "            if count in target: # During our ascending counting if the original input array contains the number - \n",
    "                # \"Push\" is added\n",
    "                count_array.append(count)\n",
    "                final_array.append(\"Push\")\n",
    "            else:\n",
    "                # Otherwise, we use combination \"Push\" - \"Pop\" to initially insert and afterwards to delete the element\n",
    "                final_array.append(\"Push\")\n",
    "                final_array.append(\"Pop\")\n",
    "            count += 1\n",
    "        # The loop stops when the counting stops (depending upon 'n') or when two arrays are equal\n",
    "        if count_array == target:\n",
    "            return final_array\n",
    "        else:\n",
    "            final_array.append(\"Push\")\n",
    "            return final_array\n",
    "        \n",
    "a = Solution()\n",
    "a.buildArray([1,3], 3)"
   ]
  }
 ],
 "metadata": {
  "kernelspec": {
   "display_name": "Python 3 (ipykernel)",
   "language": "python",
   "name": "python3"
  },
  "language_info": {
   "codemirror_mode": {
    "name": "ipython",
    "version": 3
   },
   "file_extension": ".py",
   "mimetype": "text/x-python",
   "name": "python",
   "nbconvert_exporter": "python",
   "pygments_lexer": "ipython3",
   "version": "3.9.7"
  }
 },
 "nbformat": 4,
 "nbformat_minor": 5
}
