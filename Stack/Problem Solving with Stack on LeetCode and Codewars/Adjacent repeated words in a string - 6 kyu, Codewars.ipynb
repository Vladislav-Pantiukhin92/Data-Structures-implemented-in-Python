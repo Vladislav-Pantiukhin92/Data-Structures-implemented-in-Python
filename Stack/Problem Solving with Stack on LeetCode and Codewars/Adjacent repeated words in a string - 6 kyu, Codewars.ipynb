{
 "cells": [
  {
   "cell_type": "markdown",
   "id": "2549168b",
   "metadata": {},
   "source": [
    "### Adjacent repeated words in a string - 6 kyu, Codewars/Python"
   ]
  },
  {
   "cell_type": "code",
   "execution_count": 1,
   "id": "5983f917",
   "metadata": {},
   "outputs": [
    {
     "data": {
      "text/plain": [
       "3"
      ]
     },
     "execution_count": 1,
     "metadata": {},
     "output_type": "execute_result"
    }
   ],
   "source": [
    "\"\"\"\n",
    "You know how sometimes you write the the same word twice in a sentence, but then don't notice that it \n",
    "happened? For example, you've been distracted for a second. Did you notice that \"the\" is doubled in the \n",
    "first sentence of this description?\n",
    "As as aS you can see, it's not easy to spot those errors, especially if words differ in case, like \"as\" \n",
    "at the beginning of this sentence.\n",
    "Write a function that counts the number of sections repeating the same word (case insensitive). \n",
    "The occurence of two or more equal words next after each other counts as one.\n",
    "\n",
    "Examples\n",
    "\"dog cat\"                  -->  0\n",
    "\"dog DOG cat\"              -->  1\n",
    "\"apple dog cat\"            -->  0\n",
    "\"pineapple apple dog cat\"  -->  0\n",
    "\"apple apple dog cat\"      -->  1\n",
    "\"apple dog apple dog cat\"  -->  0\n",
    "\"dog dog DOG dog dog dog\"  -->  1\n",
    "\"dog dog dog dog cat cat\"  -->  2\n",
    "\"cat cat dog dog cat cat\"  -->  3\n",
    "\"\"\"\n",
    "\n",
    "# To implement the solution, it may be possible to use the stack structure\n",
    "from queue import LifoQueue # The in-built Python stack structure will be used\n",
    "\n",
    "def count_adjacent_pairs(st):\n",
    "    st = st.casefold() # The lowercase transformation of all letters within the given input string\n",
    "    adj_pairs = 0 # The initial number of adjacent pairs is 0\n",
    "    repeated = 0 # The variable will count the number of current consecutive words\n",
    "    my_stack = LifoQueue() # Let's initialize the in-built Python stack structure\n",
    "    st = st.split() # Let's split the given input string into the list of words\n",
    "# The major solution idea is that we are going to pop elements from the list with words and compare each word\n",
    "# with the last element from the initialized stack structure. The adjacent repeated words are constantly taken into \n",
    "# account\n",
    "    while st:\n",
    "        curElement = st.pop(0)\n",
    "        if my_stack.empty(): # The initial case is when the stack structure is empty - so we just append the \n",
    "            # element to the rear of the stack structure\n",
    "            my_stack.put(curElement)\n",
    "        else:\n",
    "    # If the stack structure is not empty:\n",
    "            lastElement = my_stack.get()\n",
    "            if curElement == lastElement:\n",
    "                repeated += 1 # If words are equal, the adjacent repeated pattern is taken into account\n",
    "                my_stack.put(lastElement)\n",
    "                my_stack.put(curElement)\n",
    "            else:\n",
    "                if repeated > 0: # If words are not equal - we check the existence of the previous adjacent \n",
    "                    # repeated pattern. If it exists - we increase the number of adjacent repeated words by 1\n",
    "                    adj_pairs += 1\n",
    "                    repeated = 0\n",
    "                my_stack.put(lastElement)\n",
    "                my_stack.put(curElement)\n",
    "    if repeated > 0:\n",
    "        adj_pairs += 1\n",
    "    return adj_pairs # The number of pattern sections is returned\n",
    "\n",
    "count_adjacent_pairs(\"cat cat dog dog cat cat\")"
   ]
  }
 ],
 "metadata": {
  "kernelspec": {
   "display_name": "Python 3 (ipykernel)",
   "language": "python",
   "name": "python3"
  },
  "language_info": {
   "codemirror_mode": {
    "name": "ipython",
    "version": 3
   },
   "file_extension": ".py",
   "mimetype": "text/x-python",
   "name": "python",
   "nbconvert_exporter": "python",
   "pygments_lexer": "ipython3",
   "version": "3.9.7"
  }
 },
 "nbformat": 4,
 "nbformat_minor": 5
}
