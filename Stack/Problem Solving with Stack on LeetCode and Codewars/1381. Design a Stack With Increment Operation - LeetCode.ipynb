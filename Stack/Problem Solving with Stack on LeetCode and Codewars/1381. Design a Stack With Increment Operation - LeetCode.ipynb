{
 "cells": [
  {
   "cell_type": "markdown",
   "id": "bb22cbe2",
   "metadata": {},
   "source": [
    "### 1381. Design a Stack With Increment Operation"
   ]
  },
  {
   "cell_type": "code",
   "execution_count": null,
   "id": "3630b385",
   "metadata": {},
   "outputs": [],
   "source": [
    "\"\"\"\n",
    "Design a stack which supports the following operations.\n",
    "Implement the CustomStack class:\n",
    "CustomStack(int maxSize) Initializes the object with maxSize which is the maximum number of elements in the stack or do nothing if the stack reached the maxSize.\n",
    "void push(int x) Adds x to the top of the stack if the stack hasn't reached the maxSize.\n",
    "int pop() Pops and returns the top of stack or -1 if the stack is empty.\n",
    "void inc(int k, int val) Increments the bottom k elements of the stack by val. If there are less than k elements in the stack, just increment all the elements in the stack.\n",
    "\"\"\"\n",
    "\n",
    "class CustomStack:\n",
    "\n",
    "    def __init__(self, maxSize: int): # Constructor\n",
    "        self.myStack = []\n",
    "        self.maxSize = maxSize # The limit\n",
    "        self.curSize = 0 # The initial size of the stack structure\n",
    "\n",
    "    def push(self, x: int) -> None: # We are going to append elements to the rear of the stack structure while\n",
    "        # the limit (maxSize) is not attained\n",
    "        if self.curSize < self.maxSize:\n",
    "            self.myStack.append(x) # If the limit is not attained, an element is appended and the size is \n",
    "            # increased by 1\n",
    "            self.curSize += 1\n",
    "\n",
    "    def pop(self) -> int: # We are not able to pop elements if the stack structure contains nothing, so \n",
    "        # '-1' will be returned\n",
    "        if self.curSize == 0:\n",
    "            return -1\n",
    "        else:\n",
    "            # In other case, the element is extracted, returned and the size is reduced by 1 respectively\n",
    "            curElement = self.myStack.pop()\n",
    "            self.curSize -= 1\n",
    "            return curElement\n",
    "        \n",
    "    def increment(self, k: int, val: int) -> None:\n",
    "        if self.curSize <= k: # The simplest case - if the size <= k - all elements are incremented\n",
    "            self.myStack = list(map(lambda x: x + val, self.myStack))\n",
    "        else:\n",
    "            # If another case is encountered, then, the stack is split into two slices, the first/bottom slice is \n",
    "            # incremented by 'val' through 'map' function, the second/upper slice remains the same\n",
    "            # So, the final result is the concatenation of two slices as the new self.myStack\n",
    "            left_half = self.myStack[:k]\n",
    "            right_half = self.myStack[k:]\n",
    "            left_half = list(map(lambda x: x + val, left_half))\n",
    "            self.myStack = left_half + right_half"
   ]
  }
 ],
 "metadata": {
  "kernelspec": {
   "display_name": "Python 3 (ipykernel)",
   "language": "python",
   "name": "python3"
  },
  "language_info": {
   "codemirror_mode": {
    "name": "ipython",
    "version": 3
   },
   "file_extension": ".py",
   "mimetype": "text/x-python",
   "name": "python",
   "nbconvert_exporter": "python",
   "pygments_lexer": "ipython3",
   "version": "3.9.7"
  }
 },
 "nbformat": 4,
 "nbformat_minor": 5
}
