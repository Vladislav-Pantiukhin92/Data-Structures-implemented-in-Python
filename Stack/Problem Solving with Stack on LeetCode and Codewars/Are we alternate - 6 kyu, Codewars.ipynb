{
 "cells": [
  {
   "cell_type": "markdown",
   "id": "d3febfc8",
   "metadata": {},
   "source": [
    "### Are we alternate? - 6 kyu, Codewars/Python"
   ]
  },
  {
   "cell_type": "code",
   "execution_count": 22,
   "id": "e12a0f37",
   "metadata": {},
   "outputs": [
    {
     "data": {
      "text/plain": [
       "True"
      ]
     },
     "execution_count": 22,
     "metadata": {},
     "output_type": "execute_result"
    }
   ],
   "source": [
    "\"\"\"\n",
    "Create a function isAlt() that accepts a string as an argument and validates whether the vowels \n",
    "(a, e, i, o, u) and consonants are in alternate order.\n",
    "\n",
    "is_alt(\"amazon\")\n",
    "// true\n",
    "is_alt(\"apple\")\n",
    "// false\n",
    "is_alt(\"banana\")\n",
    "// true\n",
    "Arguments consist of only lowercase letters.\n",
    "\"\"\"\n",
    "\n",
    "from queue import LifoQueue # The solution will be implemented through the in-built stack structure\n",
    "\n",
    "def is_alt(s):\n",
    "    vowels = \"aeiou\" # Let's define the vowels in advance\n",
    "    stack = LifoQueue() # The stack structure is initialized\n",
    "    s = list(s) # The string is divided into the list of letters\n",
    "    # Each time we are going to compare two letters: the first one from the stack and the second one - from \n",
    "    # the list\n",
    "    # If both elements are vowels or both elements are not vowels - we immediately return False\n",
    "    while s:\n",
    "        count = 0\n",
    "        curLetter = s.pop(0)\n",
    "        if stack.empty(): # The initial case is when the stack structure is empty. We just add the first\n",
    "        # element, popped from the list, to the stack structure:\n",
    "            stack.put(curLetter)\n",
    "        else:\n",
    "            # Otherwise, we check the existence of both letters in 'vowels':\n",
    "            if stack.queue[-1] in vowels:\n",
    "                count += 1\n",
    "            if curLetter in vowels:\n",
    "                count += 1\n",
    "            # If letters scored 2 or 0, it means that these letters are either both vowels or both consonants - \n",
    "            # so we immediately return False\n",
    "            if count == 2 or count == 0:\n",
    "                return False\n",
    "            else:\n",
    "                # Otherwise, we just put another letter inside the stack structure\n",
    "                stack.put(curLetter)\n",
    "    # Following the 'while loop' we return True, because letter pairs always scored neither 0 nor 2.\n",
    "    return True\n",
    "\n",
    "is_alt(\"banana\")"
   ]
  }
 ],
 "metadata": {
  "kernelspec": {
   "display_name": "Python 3 (ipykernel)",
   "language": "python",
   "name": "python3"
  },
  "language_info": {
   "codemirror_mode": {
    "name": "ipython",
    "version": 3
   },
   "file_extension": ".py",
   "mimetype": "text/x-python",
   "name": "python",
   "nbconvert_exporter": "python",
   "pygments_lexer": "ipython3",
   "version": "3.9.7"
  }
 },
 "nbformat": 4,
 "nbformat_minor": 5
}
