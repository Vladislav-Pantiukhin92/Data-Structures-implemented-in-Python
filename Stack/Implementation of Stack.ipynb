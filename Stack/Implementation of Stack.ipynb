{
 "cells": [
  {
   "cell_type": "markdown",
   "id": "657e9780",
   "metadata": {},
   "source": [
    "### Stack"
   ]
  },
  {
   "cell_type": "code",
   "execution_count": 87,
   "id": "4f31f2f3",
   "metadata": {},
   "outputs": [],
   "source": [
    "# Stack - data structure, which itilizes the LIFO (Last-In/First-Out) or FILO (First-In/Last-Out) storage manner.\n",
    "\n",
    "# 1. Implementation through 'collections.deque' - a double-ended queue\n",
    "\n",
    "from collections import deque\n",
    "\n",
    "class Stack:\n",
    "    def __init__(self): # Constructor\n",
    "        self.myStack = deque()\n",
    "        self.size = 0 \n",
    "        \n",
    "    def push(self, elem): # The method, which appends elements to the list (at the last position)\n",
    "        self.myStack.append(elem)\n",
    "        self.size += 1 # The size is increased by 1\n",
    "        \n",
    "    def extract(self): # The method, which extracts the latest element\n",
    "        curElement = self.myStack.pop()\n",
    "        self.size -= 1 # The size is reduced by 1\n",
    "        return curElement\n",
    "        \n",
    "    def __len__(self):\n",
    "        return self.size # The total length/size of the current stack is returned\n",
    "    \n",
    "    def peek(self): # It makes possible to take a look at the element, which is to be extracted next\n",
    "        return self.myStack[len(self.myStack) - 1]\n",
    "    \n",
    "    def show(self): # The content of the current stack is shown\n",
    "        return self.myStack"
   ]
  },
  {
   "cell_type": "code",
   "execution_count": 83,
   "id": "773dedc6",
   "metadata": {},
   "outputs": [],
   "source": [
    "# 2. Implementation through the 'Queue' module (class \"LifoQueue\")\n",
    "\n",
    "from queue import LifoQueue\n",
    "\n",
    "class Stack:\n",
    "    def __init__(self): # Constructor\n",
    "        self.myStack = LifoQueue()\n",
    "        \n",
    "    def push(self, elem): # The method, which appends elements to the list (at the last position)\n",
    "        self.myStack.put(elem)\n",
    "        \n",
    "    def extract(self): # The method, which extracts the latest element\n",
    "        return self.myStack.get()\n",
    "    \n",
    "    def __len__(self): # The total length/size of the current stack is returned\n",
    "        return self.myStack.qsize()\n",
    "    \n",
    "    def peek(self):  # It makes possible to take a look at the element, which is to be extracted next\n",
    "        return self.myStack.queue[-1]\n",
    "    \n",
    "    def show(self): # The content of the current stack is shown\n",
    "        return self.myStack.queue\n",
    "    "
   ]
  }
 ],
 "metadata": {
  "kernelspec": {
   "display_name": "Python 3 (ipykernel)",
   "language": "python",
   "name": "python3"
  },
  "language_info": {
   "codemirror_mode": {
    "name": "ipython",
    "version": 3
   },
   "file_extension": ".py",
   "mimetype": "text/x-python",
   "name": "python",
   "nbconvert_exporter": "python",
   "pygments_lexer": "ipython3",
   "version": "3.9.7"
  }
 },
 "nbformat": 4,
 "nbformat_minor": 5
}
