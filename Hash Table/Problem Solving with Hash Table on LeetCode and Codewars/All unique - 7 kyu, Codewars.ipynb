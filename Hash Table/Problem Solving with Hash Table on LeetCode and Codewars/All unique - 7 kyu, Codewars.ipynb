{
 "cells": [
  {
   "cell_type": "markdown",
   "id": "d636ab4c",
   "metadata": {},
   "source": [
    "### All unique - 7 kyu, Codewars/Python"
   ]
  },
  {
   "cell_type": "code",
   "execution_count": 1,
   "id": "7067c009",
   "metadata": {},
   "outputs": [
    {
     "data": {
      "text/plain": [
       "True"
      ]
     },
     "execution_count": 1,
     "metadata": {},
     "output_type": "execute_result"
    }
   ],
   "source": [
    "\"\"\"\n",
    "Write a program to determine if a string contains only unique characters. Return true if it does and \n",
    "false otherwise.\n",
    "The string may contain any of the 128 ASCII characters. Characters are case-sensitive, e.g. 'a' and 'A' \n",
    "are considered different characters.\n",
    "\"\"\"\n",
    "\n",
    "def has_unique_chars(string):\n",
    "    def find_ascii_code(letter): # We need to define the function, aimed at calculating and returning\n",
    "        # the ascii-code of the letter. The ascii-code will be used as a unique key within the dictionary\n",
    "        result = ord(letter)\n",
    "        return result\n",
    "    unique_dict = {} # The dictionary, which will store ascii-codes as keys and letters as their corresponding \n",
    "    # values\n",
    "    for i in string:\n",
    "        ascii_code = find_ascii_code(i) # The ascii-code is obtained\n",
    "        if ascii_code not in unique_dict: # If there is, at least, one case, when the ascii-code is already \n",
    "            # within the dictionary, - we return False right off the bat\n",
    "            unique_dict[ascii_code] = i\n",
    "        else:\n",
    "            return False\n",
    "    return True # If the occurrence of all letters within the dictionary is 1 - we return True\n",
    "\n",
    "has_unique_chars(\"abcdef\")"
   ]
  }
 ],
 "metadata": {
  "kernelspec": {
   "display_name": "Python 3 (ipykernel)",
   "language": "python",
   "name": "python3"
  },
  "language_info": {
   "codemirror_mode": {
    "name": "ipython",
    "version": 3
   },
   "file_extension": ".py",
   "mimetype": "text/x-python",
   "name": "python",
   "nbconvert_exporter": "python",
   "pygments_lexer": "ipython3",
   "version": "3.9.7"
  }
 },
 "nbformat": 4,
 "nbformat_minor": 5
}
