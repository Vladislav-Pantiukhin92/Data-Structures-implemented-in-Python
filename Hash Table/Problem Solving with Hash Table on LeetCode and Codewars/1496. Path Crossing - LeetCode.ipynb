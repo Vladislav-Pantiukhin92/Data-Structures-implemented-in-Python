{
 "cells": [
  {
   "cell_type": "markdown",
   "id": "cafd8ac6",
   "metadata": {},
   "source": [
    "### 1496. Path Crossing"
   ]
  },
  {
   "cell_type": "code",
   "execution_count": 5,
   "id": "e729df53",
   "metadata": {},
   "outputs": [
    {
     "data": {
      "text/plain": [
       "True"
      ]
     },
     "execution_count": 5,
     "metadata": {},
     "output_type": "execute_result"
    }
   ],
   "source": [
    "\"\"\"\n",
    "Given a string path, where path[i] = 'N', 'S', 'E' or 'W', each representing moving one unit north, \n",
    "south, east, or west, respectively. You start at the origin (0, 0) on a 2D plane and walk on the path \n",
    "specified by path.\n",
    "Return true if the path crosses itself at any point, that is, if at any time you are on a location you \n",
    "have previously visited. Return false otherwise.\n",
    "\n",
    "Example 1:\n",
    "\n",
    "Input: path = \"NES\"\n",
    "Output: false \n",
    "Explanation: Notice that the path doesn't cross any point more than once.\n",
    "Example 2:\n",
    "\n",
    "Input: path = \"NESWW\"\n",
    "Output: true\n",
    "Explanation: Notice that the path visits the origin twice.\n",
    "\"\"\"\n",
    "\n",
    "from operator import * # 'operator.eq' will be used to compare elements (\"N\", \"S\", \"E\", \"W\")\n",
    "\n",
    "class Solution:\n",
    "    def isPathCrossing(self, path: str) -> bool:\n",
    "        location = (0,0) # The initial location is [0,0], where the first element is the 'X' coordinate, and the \n",
    "        # second element is the 'Y' coordinate\n",
    "        hashTable = {location: 1} # The first location is stored within the hashTable\n",
    "        for i in path:\n",
    "            location = list(location)\n",
    "            if eq(i, \"N\"): # If the \"N\" is encountered - we increase the second element (\"Y\" coordinate) by 1\n",
    "                location[1] += 1\n",
    "            elif eq(i, \"S\"): # If the \"S\" is encountered - we reduce the second element (\"Y\" coordinate) by 1\n",
    "                location[1] -= 1\n",
    "            elif eq(i, \"W\"): # If the \"W\" is encountered - we reduce the first element (\"X\" coordinate) by 1\n",
    "                location[0] -= 1\n",
    "            else: # If the \"E\" is encountered - we increase the first element (\"X\" coordinate) by 1\n",
    "                location[0] += 1\n",
    "            location = tuple(location) # Only immutable elements can be stored as keys within the dictionary\n",
    "            if location in hashTable: # If the location is already within the hashTable - the path crossing took place, \n",
    "                # so we return True\n",
    "                return True\n",
    "            else:\n",
    "                # If the location is not within the hashTable, it is added to the dictionary as a new key\n",
    "                hashTable[location] = 1\n",
    "        return False # If the dictionary contains only unique locations, we can finally return False\n",
    "    \n",
    "a = Solution()\n",
    "a.isPathCrossing(\"NESWW\")"
   ]
  }
 ],
 "metadata": {
  "kernelspec": {
   "display_name": "Python 3 (ipykernel)",
   "language": "python",
   "name": "python3"
  },
  "language_info": {
   "codemirror_mode": {
    "name": "ipython",
    "version": 3
   },
   "file_extension": ".py",
   "mimetype": "text/x-python",
   "name": "python",
   "nbconvert_exporter": "python",
   "pygments_lexer": "ipython3",
   "version": "3.9.7"
  }
 },
 "nbformat": 4,
 "nbformat_minor": 5
}
