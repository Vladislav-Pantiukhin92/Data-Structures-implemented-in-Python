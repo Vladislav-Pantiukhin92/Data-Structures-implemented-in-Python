{
 "cells": [
  {
   "cell_type": "markdown",
   "id": "32753d88",
   "metadata": {},
   "source": [
    "### 705. Design HashSet"
   ]
  },
  {
   "cell_type": "code",
   "execution_count": null,
   "id": "4bb8b2e9",
   "metadata": {},
   "outputs": [],
   "source": [
    "\"\"\"\n",
    "Design a HashSet without using any built-in hash table libraries.\n",
    "Implement MyHashSet class:\n",
    "void add(key) Inserts the value key into the HashSet.\n",
    "bool contains(key) Returns whether the value key exists in the HashSet or not.\n",
    "void remove(key) Removes the value key in the HashSet. If key does not exist in the HashSet, do nothing.\n",
    "Example 1:\n",
    "\n",
    "Input\n",
    "[\"MyHashSet\", \"add\", \"add\", \"contains\", \"contains\", \"add\", \"contains\", \"remove\", \"contains\"]\n",
    "[[], [1], [2], [1], [3], [2], [2], [2], [2]]\n",
    "Output\n",
    "[null, null, null, true, false, null, true, null, false]\n",
    "\n",
    "Explanation\n",
    "MyHashSet myHashSet = new MyHashSet();\n",
    "myHashSet.add(1);      // set = [1]\n",
    "myHashSet.add(2);      // set = [1, 2]\n",
    "myHashSet.contains(1); // return True\n",
    "myHashSet.contains(3); // return False, (not found)\n",
    "myHashSet.add(2);      // set = [1, 2]\n",
    "myHashSet.contains(2); // return True\n",
    "myHashSet.remove(2);   // set = [1]\n",
    "myHashSet.contains(2); // return False, (already removed)\n",
    "\"\"\"\n",
    "\n",
    "class MyHashSet:\n",
    "\n",
    "    def __init__(self):\n",
    "        self.hashSet = {} # The hashSet is created\n",
    "        \n",
    "    def add(self, key: int) -> None:\n",
    "        # We are going to calculate the hash_address, where the input key will be stored\n",
    "        h = \"\" \n",
    "        for i in str(key):\n",
    "            h += str(ord(i))\n",
    "        self.hashSet[h] = key\n",
    "\n",
    "    def remove(self, key: int) -> None:\n",
    "        # To remove the key, first of all, it is necessary to calculate the hash_address\n",
    "        h = \"\"\n",
    "        for i in str(key):\n",
    "            h += str(ord(i))\n",
    "        if h in self.hashSet: # After that if the key is stored within the calculated hash_address, the entire\n",
    "            # key-value pair is deleted from the dictionary\n",
    "            del self.hashSet[h] \n",
    "            # If the dictionary doesn't contain the calculated hash_address, we do nothing\n",
    "\n",
    "    def contains(self, key: int) -> bool:\n",
    "        # Again, the same principle - first of all, the hash_address of the input key is calculated\n",
    "        h = \"\"\n",
    "        for i in str(key):\n",
    "            h += str(ord(i))\n",
    "        try: # After that, we verify the existence of the key in the dictionary through 'try-except' expression\n",
    "            self.hashSet[h] # If the KeyError() is not raised - we return True\n",
    "            return True\n",
    "        except KeyError: # If the KeyError() is raised - we return False\n",
    "            return False\n",
    "        \n",
    "# Your MyHashSet object will be instantiated and called as such:\n",
    "# obj = MyHashSet()\n",
    "# obj.add(key)\n",
    "# obj.remove(key)\n",
    "# param_3 = obj.contains(key)"
   ]
  }
 ],
 "metadata": {
  "kernelspec": {
   "display_name": "Python 3 (ipykernel)",
   "language": "python",
   "name": "python3"
  },
  "language_info": {
   "codemirror_mode": {
    "name": "ipython",
    "version": 3
   },
   "file_extension": ".py",
   "mimetype": "text/x-python",
   "name": "python",
   "nbconvert_exporter": "python",
   "pygments_lexer": "ipython3",
   "version": "3.9.7"
  }
 },
 "nbformat": 4,
 "nbformat_minor": 5
}
