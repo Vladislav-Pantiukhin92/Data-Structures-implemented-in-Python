{
 "cells": [
  {
   "cell_type": "markdown",
   "id": "d636ab4c",
   "metadata": {},
   "source": [
    "### Interactive Dictionary - 7 kyu, Codewars/Python"
   ]
  },
  {
   "cell_type": "code",
   "execution_count": null,
   "id": "185281a5",
   "metadata": {},
   "outputs": [],
   "source": [
    "\"\"\"\n",
    "In this kata, your job is to create a class Dictionary which you can add words to and their entries. \n",
    "Example:\n",
    ">>> d = Dictionary()\n",
    ">>> d.newentry('Apple', 'A fruit that grows on trees')\n",
    ">>> print(d.look('Apple'))\n",
    "A fruit that grows on trees\n",
    "\n",
    ">>> print(d.look('Banana'))\n",
    "Can't find entry for Banana\n",
    "\"\"\"\n",
    "# We are going to implement the hashTable/hashMap:\n",
    "class Dictionary():\n",
    "    def __init__(self): # Constructor\n",
    "        self.size = 10000 # The default size of the array is 10000\n",
    "        self.array = [None] * self.size # The array is initially filled with None values\n",
    "        \n",
    "    def get_hash(self, key): # The function, aimed at calculating the hash_index/hash_address\n",
    "        h = 0\n",
    "        for i in key:\n",
    "            h += ord(i)\n",
    "        return h % self.size # The hash_index/hash_address is returned\n",
    "        \n",
    "    def newentry(self, word, definition): # The function, aimed at adding the key-value (word-definition) pair \n",
    "        # to the array\n",
    "        hash_index = self.get_hash(word) # The hash_address is calculated\n",
    "        if self.array[hash_index] is None: # The case, when the hash_address is vacant (still None value)\n",
    "            self.array[hash_index] = []\n",
    "            self.array[hash_index].append([word, definition])\n",
    "            return\n",
    "        else: # The case, when the hash_address is not vacant - we just append the new key-value (word-definition) pair\n",
    "            for i in self.array[hash_index]:\n",
    "                if i[0] == word:\n",
    "                    i[1] = definition # The case, when the word is already within the array, so it is necessary \n",
    "                    # to update the value/definition\n",
    "                    return\n",
    "            self.array[hash_index].append([word, definition])\n",
    "            return\n",
    "        \n",
    "    def look(self, key): # The function, aimed at returning the value/definition of the word\n",
    "        hash_index = self.get_hash(key) # The hash_address is calculated\n",
    "        if self.array[hash_index] is None: # The case, when the key doesn't exist within the array\n",
    "            return f\"Can't find entry for {key}\"\n",
    "        for i in self.array[hash_index]: # If the key exists within the array, we return the corresponding value\n",
    "            if i[0] == key:\n",
    "                return i[1]\n",
    "        return f\"Can't find entry for {key}\""
   ]
  }
 ],
 "metadata": {
  "kernelspec": {
   "display_name": "Python 3 (ipykernel)",
   "language": "python",
   "name": "python3"
  },
  "language_info": {
   "codemirror_mode": {
    "name": "ipython",
    "version": 3
   },
   "file_extension": ".py",
   "mimetype": "text/x-python",
   "name": "python",
   "nbconvert_exporter": "python",
   "pygments_lexer": "ipython3",
   "version": "3.9.7"
  }
 },
 "nbformat": 4,
 "nbformat_minor": 5
}
