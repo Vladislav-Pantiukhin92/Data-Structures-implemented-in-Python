{
 "cells": [
  {
   "cell_type": "markdown",
   "id": "dcbae4b3",
   "metadata": {},
   "source": [
    "### Remove duplicate words - 7 kyu, Codewars/Python"
   ]
  },
  {
   "cell_type": "code",
   "execution_count": 30,
   "id": "895e8534",
   "metadata": {},
   "outputs": [
    {
     "data": {
      "text/plain": [
       "'alpha beta gamma delta'"
      ]
     },
     "execution_count": 30,
     "metadata": {},
     "output_type": "execute_result"
    }
   ],
   "source": [
    "\"\"\"\n",
    "Your task is to remove all duplicate words from a string, leaving only single (first) words entries.\n",
    "Example:\n",
    "Input:\n",
    "'alpha beta beta gamma gamma gamma delta alpha beta beta gamma gamma gamma delta'\n",
    "Output:\n",
    "'alpha beta gamma delta'\n",
    "\"\"\"\n",
    "\n",
    "def remove_duplicate_words(s):\n",
    "# To solve the problem it can be effective to use the hashTable/hashMap:\n",
    "    occurrence_dict = {} # Let's create the dictionary, where keys are unique hash ids and values are words from \n",
    "    # the given input string (transformed into the list with words)\n",
    "    s = s.split() # We need to use the list with words, not the string data type\n",
    "    final = [] # The list, which will store unique words\n",
    "    def get_hash(key): # The function, which will create the unique hash id to store the unique word within the \n",
    "        # dictionary\n",
    "        h = \"\"\n",
    "        for i in key:\n",
    "            h += str(ord(i))\n",
    "        return h # The hash id is to be returned\n",
    "    while s:\n",
    "    # We are going to pop elements from the list and store them (in case of their uniqueness), using the hash id, within the \n",
    "    # dictionary\n",
    "        curWord = s.pop(0)\n",
    "        hash_index = get_hash(curWord)\n",
    "        if hash_index not in occurrence_dict: # If the hash id is not within dictionary, the word is still unique, and \n",
    "            # it should be added to the list\n",
    "            occurrence_dict[hash_index] = curWord\n",
    "            final.append(curWord)\n",
    "    return \" \".join(final) # The string, consisting of unique words, is finally returned\n",
    "\n",
    "remove_duplicate_words(\"alpha beta beta gamma gamma gamma delta alpha beta beta gamma gamma gamma delta\")"
   ]
  }
 ],
 "metadata": {
  "kernelspec": {
   "display_name": "Python 3 (ipykernel)",
   "language": "python",
   "name": "python3"
  },
  "language_info": {
   "codemirror_mode": {
    "name": "ipython",
    "version": 3
   },
   "file_extension": ".py",
   "mimetype": "text/x-python",
   "name": "python",
   "nbconvert_exporter": "python",
   "pygments_lexer": "ipython3",
   "version": "3.9.7"
  }
 },
 "nbformat": 4,
 "nbformat_minor": 5
}
