{
 "cells": [
  {
   "cell_type": "markdown",
   "id": "5451fa90",
   "metadata": {},
   "source": [
    "### Make Your Own Hashmap - 7 kyu, Codewars/Python"
   ]
  },
  {
   "cell_type": "code",
   "execution_count": 177,
   "id": "80da6d27",
   "metadata": {},
   "outputs": [
    {
     "data": {
      "text/plain": [
       "{833: ['alphabet']}"
      ]
     },
     "execution_count": 177,
     "metadata": {},
     "output_type": "execute_result"
    }
   ],
   "source": [
    "\"\"\"\n",
    "This function will take in a list of strings and put them into a hashmap. A hashmap is a quick way \n",
    "to store and lookup items you might need based \n",
    "on the 'hash' of the item (https://en.wikipedia.org/wiki/Hash_table). In this example, we're going to \n",
    "create hashes based on the sum of the \n",
    "characters. Each charater has a decimal value (ascii value) and the sum of those decimal values will be the hash.\n",
    "Your goal is to take the list of strings, hash them, and return a dictionary \n",
    "with hashes as keys and a list of strings, with that hash, as values.\n",
    "\"\"\"\n",
    "def my_hash_map(list_of_strings):\n",
    "    hashMap = {} # Creation of the dictionary \n",
    "    def hash_function(string): # Let's create the function, which will calculate the hash_address - index value\n",
    "        h = 0\n",
    "        for i in string:\n",
    "            h += ord(i)\n",
    "        return h\n",
    "    for i in list_of_strings: # We are iterating over the list of strings\n",
    "        h_index = hash_function(i)\n",
    "        if h_index not in hashMap: # If the index value, obtained as a result of the hash_function, doesn't exist \n",
    "            # within the dictionary - we add the key\n",
    "            hashMap[h_index] = [i]\n",
    "        else:\n",
    "            # If the index value, obtained as a result of the hash_function, is already within the dictionary -\n",
    "            # we just append the new string to the existing list of strings\n",
    "            hashMap[h_index].append(i)\n",
    "    return hashMap\n",
    "\n",
    "my_hash_map([\"alphabet\"])"
   ]
  }
 ],
 "metadata": {
  "kernelspec": {
   "display_name": "Python 3 (ipykernel)",
   "language": "python",
   "name": "python3"
  },
  "language_info": {
   "codemirror_mode": {
    "name": "ipython",
    "version": 3
   },
   "file_extension": ".py",
   "mimetype": "text/x-python",
   "name": "python",
   "nbconvert_exporter": "python",
   "pygments_lexer": "ipython3",
   "version": "3.9.7"
  }
 },
 "nbformat": 4,
 "nbformat_minor": 5
}
