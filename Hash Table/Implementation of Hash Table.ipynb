{
 "cells": [
  {
   "cell_type": "markdown",
   "id": "367206a2",
   "metadata": {},
   "source": [
    "### Hash Table"
   ]
  },
  {
   "cell_type": "code",
   "execution_count": 176,
   "id": "eb406b5a",
   "metadata": {},
   "outputs": [],
   "source": [
    "# HashTable is an abstract data structure, which sets up the mapping of keys to values\n",
    "\n",
    "class HashTable:\n",
    "    def __init__(self): # Constructor\n",
    "        self.size = 20 # We can set the hashTable, which will contain any number of elements (in this case - 20)\n",
    "        self.array = [None] * self.size # Initially the array will be filled with None values\n",
    "        \n",
    "    def get_hash(self, key): # Hashing process - we are going to obtain the specific index, within which \n",
    "        # the key and corresponding value will be stored\n",
    "        # It is one of the formulas:\n",
    "        h = 0 \n",
    "        for i in key:\n",
    "            h += ord(i)\n",
    "        return h % self.size # Modulo operator is used\n",
    "    \n",
    "    def add(self, key, value): # The method, which adds elements within the hashTable\n",
    "        hash_index = self.get_hash(key) # First of all, we calculate the address of the key-value pair - index value\n",
    "        if self.array[hash_index] is None: # The simple case - when the address is vacant\n",
    "            self.array[hash_index] = []\n",
    "            self.array[hash_index].append([key, value])\n",
    "        else:\n",
    "            for i in self.array[hash_index]: # If the address is not vacant it is necessary to verify the existence \n",
    "                # of the old key\n",
    "                # Keys are unique, so in this case the value should be updated\n",
    "                if i[0] == key:\n",
    "                    i[1] = value\n",
    "                    return\n",
    "            # Otherwise, the new key-value pair is appended to the list\n",
    "            self.array[hash_index].append([key, value])\n",
    "            return\n",
    "        \n",
    "    def get_value(self, key): # We can return the value, using the key\n",
    "        hash_index = self.get_hash(key) # Again the first step is to calculate the hash_address - index value\n",
    "        if self.array[hash_index] is None: # The index can contain nothing (meaning None value)\n",
    "            return \"Hash_index is empty!\"\n",
    "        else:\n",
    "            for i in self.array[hash_index]:\n",
    "                if i[0] == key: # If the key is found, the corresponding value is returned\n",
    "                    return i[1]\n",
    "            raise KeyError(\"Key is not found!\") # Otherwise, the error is raised\n",
    "            \n",
    "    def remove_pair(self, key): # The method, which removes the denoted key-value pair\n",
    "        hash_index = self.get_hash(key)  # Again the first step is to calculate the hash_address - index value\n",
    "        if self.array[hash_index] is None: # The index can contain nothing (meaning None value)\n",
    "            return \"Hash_index is empty!\"\n",
    "        else:\n",
    "            # Otherwise, we are going to iterate over the existing sublists in search of the relevant key\n",
    "            for i in range(len(self.array[hash_index])):\n",
    "                if self.array[hash_index][i][0] == key:\n",
    "                    self.array[hash_index].pop(i) # If the relevant key is found, the entire key-value pair is removed\n",
    "                    return\n",
    "            raise IndexError(\"Key doesn't exist!\") # Otherwise, the error is raised\n",
    "            "
   ]
  }
 ],
 "metadata": {
  "kernelspec": {
   "display_name": "Python 3 (ipykernel)",
   "language": "python",
   "name": "python3"
  },
  "language_info": {
   "codemirror_mode": {
    "name": "ipython",
    "version": 3
   },
   "file_extension": ".py",
   "mimetype": "text/x-python",
   "name": "python",
   "nbconvert_exporter": "python",
   "pygments_lexer": "ipython3",
   "version": "3.9.7"
  }
 },
 "nbformat": 4,
 "nbformat_minor": 5
}
