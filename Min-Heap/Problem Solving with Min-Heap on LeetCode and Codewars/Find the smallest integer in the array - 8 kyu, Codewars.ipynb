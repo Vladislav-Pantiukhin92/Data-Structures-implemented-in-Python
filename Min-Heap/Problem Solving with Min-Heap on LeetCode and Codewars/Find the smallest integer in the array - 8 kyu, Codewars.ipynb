{
 "cells": [
  {
   "cell_type": "markdown",
   "id": "dcbae4b3",
   "metadata": {},
   "source": [
    "### Find the smallest integer in the array - 8 kyu, Codewars/Python"
   ]
  },
  {
   "cell_type": "code",
   "execution_count": 13,
   "id": "4ce74d04",
   "metadata": {},
   "outputs": [
    {
     "data": {
      "text/plain": [
       "2"
      ]
     },
     "execution_count": 13,
     "metadata": {},
     "output_type": "execute_result"
    }
   ],
   "source": [
    "\"\"\"\n",
    "Given an array of integers your solution should find the smallest integer.\n",
    "For example:\n",
    "\n",
    "Given [34, 15, 88, 2] your solution will return 2\n",
    "Given [34, -345, -1, 100] your solution will return -345\n",
    "You can assume, for the purpose of this kata, that the supplied array will not be empty.\n",
    "\"\"\"\n",
    "\n",
    "# To solve the problem it is of importance to create the minHeap structure, where parent nodes are always \n",
    "# smaller than child nodes. The return result is the first element, popped from this minHeap structure\n",
    "\n",
    "def find_smallest_int(arr):\n",
    "# Let's define the function, aimed at creating the minHeap structure:\n",
    "    def minHeapify(array, n, i):\n",
    "        index = i\n",
    "    # To create the minHeap structure, the comparison between the parent node and its child nodes takes place\n",
    "        left = index * 2 + 1\n",
    "        right = index * 2 + 2\n",
    "        smallest = index\n",
    "    # The nodes are to be swapped if the current parent node > its child nodes\n",
    "        if left < n and array[smallest] > array[left]:\n",
    "            smallest = left \n",
    "        if right < n and array[smallest] > array[right]:\n",
    "            smallest = right \n",
    "        if smallest != index:\n",
    "            array[index], array[smallest] = array[smallest], array[index]\n",
    "            minHeapify(array, n, smallest)\n",
    "    for i in range(len(arr) - 1, -1, -1): # Through the 'for loop', using the 'minHeapify' function, the minHeap \n",
    "        # structure is obtained\n",
    "        minHeapify(arr, len(arr), i)\n",
    "    smallest_number = arr.pop(0) # The smallest element is the first element, popped from the minHeap structure\n",
    "    return smallest_number # The smallest element is returned\n",
    "\n",
    "find_smallest_int([34, 15, 88, 2])"
   ]
  }
 ],
 "metadata": {
  "kernelspec": {
   "display_name": "Python 3 (ipykernel)",
   "language": "python",
   "name": "python3"
  },
  "language_info": {
   "codemirror_mode": {
    "name": "ipython",
    "version": 3
   },
   "file_extension": ".py",
   "mimetype": "text/x-python",
   "name": "python",
   "nbconvert_exporter": "python",
   "pygments_lexer": "ipython3",
   "version": "3.9.7"
  }
 },
 "nbformat": 4,
 "nbformat_minor": 5
}
