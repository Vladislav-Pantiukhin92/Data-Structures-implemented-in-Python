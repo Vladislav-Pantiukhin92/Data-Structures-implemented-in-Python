{
 "cells": [
  {
   "cell_type": "markdown",
   "id": "1f1050e2",
   "metadata": {},
   "source": [
    "### The maximum and minimum difference -- Simple version - 6 kyu, Codewars/Python"
   ]
  },
  {
   "cell_type": "code",
   "execution_count": 9,
   "id": "63ba907d",
   "metadata": {},
   "outputs": [
    {
     "data": {
      "text/plain": [
       "[17, 2]"
      ]
     },
     "execution_count": 9,
     "metadata": {},
     "output_type": "execute_result"
    }
   ],
   "source": [
    "\"\"\"\n",
    "Given two array of integers(arr1,arr2). Your task is going to find a pair of numbers(an element in arr1, \n",
    "and another element in arr2), their difference is as big as possible(absolute value); Again, you should \n",
    "to find a pair of numbers, their difference is as small as possible. Return the maximum and minimum \n",
    "difference values by an array: [ max difference, min difference ]\n",
    "For example:\n",
    "\n",
    "Given arr1 = [3,10,5], arr2 = [20,7,15,8]\n",
    "should return [17,2] because 20 - 3 = 17, 10 - 8 = 2\n",
    "Note:\n",
    "arr1 and arr2 contains only integers(positive, negative or 0);\n",
    "arr1 and arr2 may have different lengths, they always has at least one element;\n",
    "All inputs are valid.\n",
    "This is a simple version, if you want some challenges, try the challenge version.\n",
    "Some Examples\n",
    "maxAndMin([3,10,5],[20,7,15,8]) === [17,2]\n",
    "maxAndMin([3],[20]) === [17,17]\n",
    "maxAndMin([3,10,5],[3,10,5]) === [7,0]\n",
    "maxAndMin([1,2,3,4,5],[6,7,8,9,10]) === [9,1]\n",
    "\"\"\"\n",
    "\n",
    "def max_and_min(arr1, arr2):\n",
    "    # Let's replicate two input arrays for calculations\n",
    "    first = arr1.copy()\n",
    "    second = arr2.copy()\n",
    "    # The strategy is the following:\n",
    "    # The maxDifference of two elements is always the difference between the maxElement in the first/second array\n",
    "    # and the minElement in the second/first array. To find out the minElement and the maxElement it is possible \n",
    "    # to create the minHeap and maxHeap respectively\n",
    "    def minHeapify(array, n, i): # The function, which builds the minHeap for finding the minimum element within \n",
    "    # two given input arrays\n",
    "    # We are going to create the structure, where parent nodes are always smaller than child nodes:\n",
    "        index = i\n",
    "        left = index * 2 + 1\n",
    "        right = index * 2 + 2\n",
    "        smallest = index\n",
    "        if left < n and array[smallest] > array[left]:\n",
    "            smallest = left\n",
    "        if right < n and array[smallest] > array[right]:\n",
    "            smallest = right\n",
    "        if smallest != index:\n",
    "            array[index], array[smallest] = array[smallest], array[index]\n",
    "            minHeapify(array, n, smallest)\n",
    "    def maxHeapify(array, n, i): # The function, which builds the maxHeap for finding the maxElement within two \n",
    "    # given input arrays\n",
    "    # We are going to create the structure, where parent nodes are always larger than child nodes:\n",
    "        index = i\n",
    "        left = index * 2 + 1\n",
    "        right = index * 2 + 2\n",
    "        largest = index\n",
    "        if left < n and array[largest] < array[left]:\n",
    "            largest = left\n",
    "        if right < n and array[largest] < array[right]:\n",
    "            largest = right\n",
    "        if index != largest:\n",
    "            array[index], array[largest] = array[largest], array[index]\n",
    "            maxHeapify(array, n, largest)\n",
    "    # Let's build the minHeap through the above-underlined function       \n",
    "    for i in range(len(first) - 1, -1, -1): \n",
    "        minHeapify(first, len(first), i)\n",
    "    for i in range(len(second) - 1, -1, -1): \n",
    "        minHeapify(second, len(second), i)\n",
    "    # The minElement is always the first element within the minHeap:\n",
    "    minElem1 = first[0]\n",
    "    minElem2 = second[0]\n",
    "    # Let's build the maxHeap through the above-underlined function \n",
    "    for j in range(len(first) - 1, -1, -1):\n",
    "        maxHeapify(first, len(first), j)\n",
    "    for j in range(len(second) - 1, -1, -1):\n",
    "        maxHeapify(second, len(second), j)\n",
    "    # The maxElement is always the first element within the maxHeap:\n",
    "    maxElem1 = first[0]\n",
    "    maxElem2 = second[0]\n",
    "# Now we have two maxElements and two minElements. We should take the maxDifference between one of these pairs:\n",
    "    maxDifference = max(maxElem2 - minElem1, maxElem1 - minElem2)\n",
    "# As far as the minDifference is concerned, it is relevant to launch the work of the nested 'for loop' to \n",
    "# iterate over all possible pairs, while updating the minDifference\n",
    "    minDifference = float(\"inf\")\n",
    "    for i in range(len(arr1)):\n",
    "        for j in range(len(arr2)):\n",
    "            curDifference = abs(arr1[i] - arr2[j])\n",
    "            if curDifference < minDifference:\n",
    "                minDifference = curDifference\n",
    "    return [maxDifference, minDifference] # Finally, the list with the maxDifference and the minDifference \n",
    "# is returned\n",
    "\n",
    "max_and_min([3,10,5], [20,7,15,8])"
   ]
  }
 ],
 "metadata": {
  "kernelspec": {
   "display_name": "Python 3 (ipykernel)",
   "language": "python",
   "name": "python3"
  },
  "language_info": {
   "codemirror_mode": {
    "name": "ipython",
    "version": 3
   },
   "file_extension": ".py",
   "mimetype": "text/x-python",
   "name": "python",
   "nbconvert_exporter": "python",
   "pygments_lexer": "ipython3",
   "version": "3.9.7"
  }
 },
 "nbformat": 4,
 "nbformat_minor": 5
}
