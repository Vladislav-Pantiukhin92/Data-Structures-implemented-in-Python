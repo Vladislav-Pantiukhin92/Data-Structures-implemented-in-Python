{
 "cells": [
  {
   "cell_type": "markdown",
   "id": "e34c80f9",
   "metadata": {},
   "source": [
    "### 378. Kth Smallest Element in a Sorted Matrix"
   ]
  },
  {
   "cell_type": "code",
   "execution_count": 146,
   "id": "27ae58be",
   "metadata": {},
   "outputs": [
    {
     "data": {
      "text/plain": [
       "13"
      ]
     },
     "execution_count": 146,
     "metadata": {},
     "output_type": "execute_result"
    }
   ],
   "source": [
    "\"\"\"\n",
    "Given an n x n matrix where each of the rows and columns is sorted in ascending order, \n",
    "return the kth smallest element in the matrix.\n",
    "Note that it is the kth smallest element in the sorted order, not the kth distinct element.\n",
    "You must find a solution with a memory complexity better than O(n2).\n",
    "Example 1:\n",
    "\n",
    "Input: matrix = [[1,5,9],[10,11,13],[12,13,15]], k = 8\n",
    "Output: 13\n",
    "Explanation: The elements in the matrix are [1,5,9,10,11,12,13,13,15], and the 8th smallest number is 13\n",
    "Example 2:\n",
    "\n",
    "Input: matrix = [[-5]], k = 1\n",
    "Output: -5\n",
    "\"\"\"\n",
    "\n",
    "# Such kind of problem can be solved through the implementation of the min_heap structure\n",
    "\n",
    "class Solution:\n",
    "    def kthSmallest(self, matrix: List[List[int]], k: int) -> int:\n",
    "        my_list = sum(matrix, []) # First of all, it is necessary to transform the matrix, 2-D array into \n",
    "        # the 1-D array\n",
    "        def minHeapify(array, n, i): # The next step is to heapify the obtained 1-D array (the min_heap structure)\n",
    "            index = i \n",
    "            left = index * 2 + 1\n",
    "            right = index * 2 + 2\n",
    "            smallest = index\n",
    "            if left < n and array[smallest] > array[left]:\n",
    "                smallest = left\n",
    "            if right < n and array[smallest] > array[right]:\n",
    "                smallest = right \n",
    "            if index != smallest:\n",
    "                array[index], array[smallest] = array[smallest], array[index]\n",
    "                minHeapify(array, n, smallest)\n",
    "        \n",
    "        for i in range(len(my_list) - 1, -1, -1):\n",
    "            minHeapify(my_list, len(my_list), i)\n",
    "        # The final step is to utilize the 'k' element as the number of loops to be executed for obtaining the relevant \n",
    "        # return result:\n",
    "        for _ in range(k):\n",
    "            my_list[0], my_list[len(my_list) - 1] = my_list[len(my_list) - 1], my_list[0]\n",
    "            curElement = my_list.pop()\n",
    "            minHeapify(my_list, len(my_list), 0)\n",
    "        return curElement\n",
    "    \n",
    "a = Solution()\n",
    "a.kthSmallest([[1,5,9],[10,11,13],[12,13,15]], 8)"
   ]
  }
 ],
 "metadata": {
  "kernelspec": {
   "display_name": "Python 3 (ipykernel)",
   "language": "python",
   "name": "python3"
  },
  "language_info": {
   "codemirror_mode": {
    "name": "ipython",
    "version": 3
   },
   "file_extension": ".py",
   "mimetype": "text/x-python",
   "name": "python",
   "nbconvert_exporter": "python",
   "pygments_lexer": "ipython3",
   "version": "3.9.7"
  }
 },
 "nbformat": 4,
 "nbformat_minor": 5
}
