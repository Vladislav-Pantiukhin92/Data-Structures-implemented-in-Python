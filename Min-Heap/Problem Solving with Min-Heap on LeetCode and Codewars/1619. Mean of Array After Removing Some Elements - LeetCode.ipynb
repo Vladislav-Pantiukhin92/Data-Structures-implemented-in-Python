{
 "cells": [
  {
   "cell_type": "markdown",
   "id": "872005a7",
   "metadata": {},
   "source": [
    "### 1619. Mean of Array After Removing Some Elements"
   ]
  },
  {
   "cell_type": "code",
   "execution_count": 11,
   "id": "03bf095b",
   "metadata": {},
   "outputs": [
    {
     "data": {
      "text/plain": [
       "4.777777777777778"
      ]
     },
     "execution_count": 11,
     "metadata": {},
     "output_type": "execute_result"
    }
   ],
   "source": [
    "\"\"\"\n",
    "Given an integer array arr, return the mean of the remaining integers after removing the smallest 5% and \n",
    "the largest 5% of the elements.\n",
    "Answers within 10-5 of the actual answer will be considered accepted.\n",
    "Example 1:\n",
    "\n",
    "Input: arr = [1,2,2,2,2,2,2,2,2,2,2,2,2,2,2,2,2,2,2,3]\n",
    "Output: 2.00000\n",
    "Explanation: After erasing the minimum and the maximum values of this array, all elements are equal \n",
    "to 2, so the mean is 2.\n",
    "Example 2:\n",
    "\n",
    "Input: arr = [6,2,7,5,1,2,0,3,10,2,5,0,5,5,0,8,7,6,8,0]\n",
    "Output: 4.00000\n",
    "Example 3:\n",
    "\n",
    "Input: arr = [6,0,7,0,7,5,7,8,3,4,0,7,8,1,6,8,1,1,2,4,8,1,9,5,4,3,8,5,10,8,6,6,1,0,6,10,8,2,3,4]\n",
    "Output: 4.77778\n",
    "\"\"\"\n",
    "\n",
    "from statistics import mean # The statistics module will return the mean value of the list without 5% of the \n",
    "# smallest elements and 5% of the largest elements\n",
    "\n",
    "# We are going to solve the problem through the implementation of the maxHeap and the minHeap structure\n",
    "# 5% of the smallest elements will be removed during the standard pop operation from the minHeap structure\n",
    "# 5% of the largest elements will be removed during the standard pop operation from the maxHeap structure\n",
    "\n",
    "class Solution:\n",
    "    def trimMean(self, arr) -> float:\n",
    "        length = len(arr) # Let's find out the length of the given input list\n",
    "        five_percent = int(length * 0.05) # Based on the list length, we can find the numeric manifestation of '5%'\n",
    "        minHeap = arr.copy() # We are going to deal with the copy of the input list\n",
    "        \n",
    "        def maxHeapify(array, n, i): # The function, which turns the given input list of elements into the maxHeap structure\n",
    "        # The maxHeap envisages the configuration, when parent nodes are always larger than child nodes\n",
    "            index = i \n",
    "            left = index * 2 + 1\n",
    "            right = index * 2 + 2\n",
    "            largest = index\n",
    "        # To retain or create the aforementioned configuration a parent node and a child node can be swapped, if necessary\n",
    "            if left < n and array[largest] < array[left]:\n",
    "                largest = left \n",
    "            if right < n and array[largest] < array[right]:\n",
    "                largest = right \n",
    "            if largest != index:\n",
    "                array[index], array[largest] = array[largest], array[index]\n",
    "                maxHeapify(array, n, largest)\n",
    "        def minHeapify(array, n, i): # The function, which turns the given input list of elements into the minHeap structure\n",
    "        # The minHeap envisages the configuration, when parent nodes are always smaller than child nodes\n",
    "            index = i\n",
    "            left = index * 2 + 1\n",
    "            right = index * 2 + 2\n",
    "            smallest = index\n",
    "        # To retain or create the aforementioned configuration a parent node and a child node can be swapped, if necessary\n",
    "            if left < n and array[smallest] > array[left]:\n",
    "                smallest = left \n",
    "            if right < n and array[smallest] > array[right]:\n",
    "                smallest = right \n",
    "            if smallest != index:\n",
    "                array[index], array[smallest] = array[smallest], array[index]\n",
    "                minHeapify(array, n, smallest)\n",
    "        \n",
    "        for i in range(len(minHeap) - 1, -1, -1): # Transformation of the input list into the minHeap structure\n",
    "            minHeapify(minHeap, len(minHeap), i)\n",
    "            \n",
    "        # Through the 'for loop' the specific number of the smallest elements will be removed from the minHeap\n",
    "        for _ in range(five_percent):\n",
    "            minHeap[0], minHeap[len(minHeap) - 1] = minHeap[len(minHeap) - 1], minHeap[0]\n",
    "            popElem = minHeap.pop()\n",
    "            minHeapify(minHeap, len(minHeap), 0)\n",
    "        \n",
    "        maxHeap = minHeap.copy()\n",
    "        for j in range(len(maxHeap) - 1, -1, -1): # Transformation of the input list into the maxHeap structure\n",
    "            maxHeapify(maxHeap, len(maxHeap), j)\n",
    "    \n",
    "        # Through the 'for loop' the specific number of the greatest elements will be removed from the maxHeap\n",
    "        for _ in range(five_percent):\n",
    "            maxHeap[0], maxHeap[len(maxHeap) - 1] = maxHeap[len(maxHeap) - 1], maxHeap[0]\n",
    "            popElem = maxHeap.pop()\n",
    "            maxHeapify(maxHeap, len(maxHeap), 0)\n",
    "        final = maxHeap.copy() # Now we have the list of elements, following the removal of the smallest and \n",
    "        # largest elements (5%)\n",
    "        return mean(final) # The mean value of the list is returned\n",
    "            \n",
    "a = Solution()\n",
    "a.trimMean([6,0,7,0,7,5,7,8,3,4,0,7,8,1,6,8,1,1,2,4,8,1,9,5,4,3,8,5,10,8,6,6,1,0,6,10,8,2,3,4])"
   ]
  }
 ],
 "metadata": {
  "kernelspec": {
   "display_name": "Python 3 (ipykernel)",
   "language": "python",
   "name": "python3"
  },
  "language_info": {
   "codemirror_mode": {
    "name": "ipython",
    "version": 3
   },
   "file_extension": ".py",
   "mimetype": "text/x-python",
   "name": "python",
   "nbconvert_exporter": "python",
   "pygments_lexer": "ipython3",
   "version": "3.9.7"
  }
 },
 "nbformat": 4,
 "nbformat_minor": 5
}
