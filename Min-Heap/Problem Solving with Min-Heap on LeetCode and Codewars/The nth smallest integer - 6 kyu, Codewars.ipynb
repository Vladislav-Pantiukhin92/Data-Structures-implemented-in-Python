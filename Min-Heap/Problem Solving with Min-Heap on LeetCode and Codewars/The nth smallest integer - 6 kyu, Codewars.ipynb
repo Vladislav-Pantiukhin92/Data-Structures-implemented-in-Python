{
 "cells": [
  {
   "cell_type": "markdown",
   "id": "558fd9a5",
   "metadata": {},
   "source": [
    "### The nth smallest integer - 6 kyu, Codewars/Python"
   ]
  },
  {
   "cell_type": "code",
   "execution_count": 117,
   "id": "4229f99f",
   "metadata": {},
   "outputs": [
    {
     "data": {
      "text/plain": [
       "45"
      ]
     },
     "execution_count": 117,
     "metadata": {},
     "output_type": "execute_result"
    }
   ],
   "source": [
    "\"\"\"\n",
    "Given a list of integers, return the nth smallest integer in the list. Only distinct elements should be \n",
    "considered when calculating the answer. n will always be positive (n > 0)\n",
    "If the nth small integer doesn't exist, return -1 (C++) / None (Python) / nil (Ruby) / null (JavaScript).\n",
    "Notes:\n",
    "\n",
    "\"indexing\" starts from 1\n",
    "huge lists (of 1 million elements) will be tested\n",
    "Examples\n",
    "nth_smallest([1, 3, 4, 5], 7)        ==> None  # n is more than the size of the list\n",
    "nth_smallest([4, 3, 4, 5], 4)        ==> None  # 4th smallest integer doesn't exist\n",
    "nth_smallest([45, -10, 4, 5, 4], 4)  ==> 45    # 4th smallest integer is 45\n",
    "If you get a timeout, just try to resubmit your solution. However, if you always get a timeout, review your code.\n",
    "\"\"\"\n",
    "\n",
    "def nth_smallest(arr, n):\n",
    "    arr = list(set(arr)) # According to the problem, we have to deal exclusively with distinct elements, so it\n",
    "    # is important to eradicate duplicates. It can be done through the implementation of the set structure\n",
    "    if len(arr) < n: # One more possible condition - when the capacity (the length) is too small for the problem's \n",
    "        # successful solution - so in these circumstances we can return None, as we are not able to obtain anything at all\n",
    "        return None\n",
    "    def minHeapify(array, n, i): # Let's transform the input array into the minHeap structure\n",
    "        index = i # The swapping procedure may take place when parent nodes > child nodes\n",
    "        # The calculation of the left node as well as the right node is followed by the comparison and potential \n",
    "        # swapping procedure (if parent nodes > child nodes)\n",
    "        left = index * 2 + 1\n",
    "        right = index * 2 + 2\n",
    "        smallest = index \n",
    "        if left < n and array[smallest] > array[left]:\n",
    "            smallest = left\n",
    "        if right < n and array[smallest] > array[right]:\n",
    "            smallest = right \n",
    "        if smallest != index:\n",
    "            array[index], array[smallest] = array[smallest], array[index]\n",
    "            minHeapify(array, n, smallest)\n",
    "    for i in range(len(arr) - 1, -1, -1):\n",
    "        minHeapify(arr, len(arr), i)\n",
    "    for _ in range(n): # Let's launch the 'for loop', which will return the n-th smallest number\n",
    "        arr[0], arr[len(arr) - 1] = arr[len(arr) - 1], arr[0]\n",
    "        curElement = arr.pop() # Each time we remove the minElement, and it will be underway while the n-th number is not attained\n",
    "        minHeapify(arr, len(arr), 0)\n",
    "    return curElement\n",
    "\n",
    "nth_smallest([45, -10, 4, 5, 4], 4)"
   ]
  }
 ],
 "metadata": {
  "kernelspec": {
   "display_name": "Python 3 (ipykernel)",
   "language": "python",
   "name": "python3"
  },
  "language_info": {
   "codemirror_mode": {
    "name": "ipython",
    "version": 3
   },
   "file_extension": ".py",
   "mimetype": "text/x-python",
   "name": "python",
   "nbconvert_exporter": "python",
   "pygments_lexer": "ipython3",
   "version": "3.9.7"
  }
 },
 "nbformat": 4,
 "nbformat_minor": 5
}
