{
 "cells": [
  {
   "cell_type": "markdown",
   "id": "dbdeca17",
   "metadata": {},
   "source": [
    "### Min Heap"
   ]
  },
  {
   "cell_type": "code",
   "execution_count": 145,
   "id": "02bf666c",
   "metadata": {},
   "outputs": [
    {
     "name": "stdout",
     "output_type": "stream",
     "text": [
      "[150, 359, 179, 471, 466, 403, 790, 975, 750, 723] - Implementation of min_heap structure through class 'Min_Heap'\n",
      "[150, 179, 403, 471, 359, 466, 790, 975, 750, 723] - Implementation with the help of 'heapq module'\n"
     ]
    }
   ],
   "source": [
    "from heapq import * # Module, with the help of which it is feasible to create the min_heap structure\n",
    "\n",
    "# Let's create the list of random elements to transform it into the min_heap structure\n",
    "import random \n",
    "random.seed(100)\n",
    "lst = [random.randint(1, 1000) for _ in range(10)]\n",
    "random.shuffle(lst)\n",
    "\n",
    "class Min_Heap:\n",
    "    def __init__(self, data=[]): # Constructor\n",
    "        # There are two cases:\n",
    "        if data is None: # When the initial min_heap is empty\n",
    "            self.heap = []\n",
    "        else:\n",
    "            self.heap = []\n",
    "            for i in data: # And when the min_heap is not empty\n",
    "                self.heap.append(i) # Each element is appended separately\n",
    "                self._float_up(len(self.heap) - 1) # Traversal to find a correct position of an appended element\n",
    "                \n",
    "    def _swap(self, i, j): # Separate function to execute necessary swappings while comparing elements \n",
    "        self.heap[i], self.heap[j] = self.heap[j], self.heap[i]\n",
    "                \n",
    "    def _float_up(self, index): # The method, which compares an appended element with its parent nodes\n",
    "        parent = (index - 1) // 2\n",
    "        if parent < 0: # The case, when the min_heap contains only one element, then, there is no necessity to\n",
    "            # heapify the list of elements\n",
    "            return \n",
    "        else:\n",
    "            if self.heap[parent] > self.heap[index]: # Necessary swapping if child node < parent node\n",
    "                self._swap(parent, index)\n",
    "                self._float_up(parent) # Traversal to find a correct position/location\n",
    "                \n",
    "    def append(self, elem): # The method, which appends an element to the rear of the min_heap\n",
    "        self.heap.append(elem)\n",
    "        self._float_up(len(self.heap) - 1) # It is necessary to place it in a suitable location (in accordance \n",
    "        # with the rules of min_heap structure)\n",
    "        \n",
    "    def pop(self):\n",
    "        if len(self.heap) < 1: # If the min_heap is empty, the extraction doesn't make sense\n",
    "            return False\n",
    "        elif len(self.heap) == 1: # If the min_heap contains only one element - the standard pop() operation is applied\n",
    "            self.heap.pop()\n",
    "        else:\n",
    "            # If the min_heap contains more than 1 element - the first element (minElement) is swapped with\n",
    "            # the last element -> the minElement is extracted through list.pop()\n",
    "            self._swap(0, len(self.heap) - 1)\n",
    "            self.heap.pop()\n",
    "            self._top_down(0) # Another function is necessary to traverse a correct position of the last element,\n",
    "            # which was previously swapped with the first one\n",
    "            \n",
    "    def _top_down(self, index): # The method, which compares the swapped first element with its child nodes\n",
    "        left = index * 2 + 1 # Left node is determined\n",
    "        right = index * 2 + 2 # Right node is determined\n",
    "        smallest = index\n",
    "        # Identification of the smallest node among index, left and right nodes and possible swapping procedure\n",
    "        if left < len(self.heap) and self.heap[smallest] > self.heap[left]:\n",
    "            smallest = left \n",
    "        if right < len(self.heap) and self.heap[smallest] > self.heap[right]:\n",
    "            smallest = right \n",
    "        if index != smallest:\n",
    "            self._swap(index, smallest)\n",
    "            self._top_down(smallest)\n",
    "            \n",
    "a = Min_Heap(lst)\n",
    "print(f\"{a.heap} - Implementation of min_heap structure through class 'Min_Heap'\")\n",
    "\n",
    "heapify(lst)\n",
    "print(f\"{lst} - Implementation with the help of 'heapq module'\")"
   ]
  }
 ],
 "metadata": {
  "kernelspec": {
   "display_name": "Python 3 (ipykernel)",
   "language": "python",
   "name": "python3"
  },
  "language_info": {
   "codemirror_mode": {
    "name": "ipython",
    "version": 3
   },
   "file_extension": ".py",
   "mimetype": "text/x-python",
   "name": "python",
   "nbconvert_exporter": "python",
   "pygments_lexer": "ipython3",
   "version": "3.9.7"
  }
 },
 "nbformat": 4,
 "nbformat_minor": 5
}
